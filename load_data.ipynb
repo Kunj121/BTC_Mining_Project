{
 "cells": [
  {
   "cell_type": "code",
   "id": "initial_id",
   "metadata": {
    "collapsed": true
   },
   "source": [
    "import processing_module as pm\n",
    "import pandas as pd\n",
    "import numpy as np\n",
    "import warnings\n",
    "warnings.filterwarnings('ignore')"
   ],
   "outputs": [],
   "execution_count": null
  },
  {
   "metadata": {},
   "cell_type": "code",
   "source": "data = pd.read_csv('data/btc_hourly.csv')",
   "id": "2fbc9a3c69d9c7fa",
   "outputs": [],
   "execution_count": null
  },
  {
   "metadata": {},
   "cell_type": "code",
   "source": [
    "#1 clean data\n",
    "cleaned_btc = pm.preprocess_data(data, price_data=True, on_chain_data=None, staking_data=None, set_index=True)"
   ],
   "id": "1ba2e0036d6e5d48",
   "outputs": [],
   "execution_count": null
  },
  {
   "metadata": {},
   "cell_type": "code",
   "source": [
    "#2 Normalize data\n",
    "\n",
    "df = cleaned_btc.copy()\n",
    "df['returns'] = df['price_close'].pct_change()\n",
    "\n",
    "global_mean = df['returns'].mean()\n",
    "global_std = df['returns'].std()\n",
    "\n",
    "df['normalized_ret'] = (df['returns'] -global_mean)/ global_std\n",
    "\n"
   ],
   "id": "ec31caaeb3dbd017",
   "outputs": [],
   "execution_count": null
  },
  {
   "metadata": {},
   "cell_type": "code",
   "source": "df_clean = df[np.abs(df['normalized_ret']) < 3]",
   "id": "9f28bfb4457705f4",
   "outputs": [],
   "execution_count": null
  },
  {
   "metadata": {},
   "cell_type": "code",
   "source": "df_clean.to_parquet('data/btc_data.parquet')",
   "id": "3792c1788ccd0d29",
   "outputs": [],
   "execution_count": null
  },
  {
   "metadata": {},
   "cell_type": "code",
   "source": "",
   "id": "d115ab5611e96d85",
   "outputs": [],
   "execution_count": null
  }
 ],
 "metadata": {
  "kernelspec": {
   "display_name": "Python 3",
   "language": "python",
   "name": "python3"
  },
  "language_info": {
   "codemirror_mode": {
    "name": "ipython",
    "version": 2
   },
   "file_extension": ".py",
   "mimetype": "text/x-python",
   "name": "python",
   "nbconvert_exporter": "python",
   "pygments_lexer": "ipython2",
   "version": "2.7.6"
  }
 },
 "nbformat": 4,
 "nbformat_minor": 5
}
