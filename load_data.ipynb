{
 "cells": [
  {
   "cell_type": "code",
   "id": "initial_id",
   "metadata": {
    "collapsed": true,
    "ExecuteTime": {
     "end_time": "2025-05-14T04:18:09.328022Z",
     "start_time": "2025-05-14T04:18:09.319720Z"
    }
   },
   "source": [
    "import processing_module as pm\n",
    "import pandas as pd\n",
    "import numpy as np\n",
    "import warnings\n",
    "warnings.filterwarnings('ignore')"
   ],
   "outputs": [],
   "execution_count": 66
  },
  {
   "metadata": {
    "ExecuteTime": {
     "end_time": "2025-05-14T04:18:13.671273Z",
     "start_time": "2025-05-14T04:18:13.548852Z"
    }
   },
   "cell_type": "code",
   "source": "data = pd.read_csv('data/btc_hourly.csv')",
   "id": "2fbc9a3c69d9c7fa",
   "outputs": [],
   "execution_count": 67
  },
  {
   "metadata": {
    "ExecuteTime": {
     "end_time": "2025-05-14T04:18:14.751580Z",
     "start_time": "2025-05-14T04:18:14.606782Z"
    }
   },
   "cell_type": "code",
   "source": [
    "#1 clean data\n",
    "cleaned_btc = pm.preprocess_data(data, price_data=True, on_chain_data=None, staking_data=None, set_index=True)"
   ],
   "id": "1ba2e0036d6e5d48",
   "outputs": [],
   "execution_count": 68
  },
  {
   "metadata": {
    "ExecuteTime": {
     "end_time": "2025-05-14T04:18:15.183661Z",
     "start_time": "2025-05-14T04:18:15.177166Z"
    }
   },
   "cell_type": "code",
   "source": [
    "#2 Normalize data\n",
    "\n",
    "df = cleaned_btc.copy()\n",
    "df['returns'] = df['price_close'].pct_change()\n",
    "\n",
    "global_mean = df['returns'].mean()\n",
    "global_std = df['returns'].std()\n",
    "\n",
    "df['normalized_ret'] = (df['returns'] -global_mean)/ global_std\n",
    "\n"
   ],
   "id": "ec31caaeb3dbd017",
   "outputs": [],
   "execution_count": 69
  },
  {
   "metadata": {
    "ExecuteTime": {
     "end_time": "2025-05-14T04:18:15.698462Z",
     "start_time": "2025-05-14T04:18:15.691927Z"
    }
   },
   "cell_type": "code",
   "source": "df_clean = df[np.abs(df['normalized_ret']) < 3]",
   "id": "9f28bfb4457705f4",
   "outputs": [],
   "execution_count": 70
  },
  {
   "metadata": {
    "ExecuteTime": {
     "end_time": "2025-05-14T04:18:16.191633Z",
     "start_time": "2025-05-14T04:18:16.142641Z"
    }
   },
   "cell_type": "code",
   "source": "df_clean.to_parquet('data/btc_data.parquet')",
   "id": "3792c1788ccd0d29",
   "outputs": [],
   "execution_count": 71
  },
  {
   "metadata": {},
   "cell_type": "code",
   "outputs": [],
   "execution_count": null,
   "source": "",
   "id": "d115ab5611e96d85"
  }
 ],
 "metadata": {
  "kernelspec": {
   "display_name": "Python 3",
   "language": "python",
   "name": "python3"
  },
  "language_info": {
   "codemirror_mode": {
    "name": "ipython",
    "version": 2
   },
   "file_extension": ".py",
   "mimetype": "text/x-python",
   "name": "python",
   "nbconvert_exporter": "python",
   "pygments_lexer": "ipython2",
   "version": "2.7.6"
  }
 },
 "nbformat": 4,
 "nbformat_minor": 5
}
