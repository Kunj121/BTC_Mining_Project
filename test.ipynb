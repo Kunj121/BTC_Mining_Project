{
 "cells": [
  {
   "cell_type": "code",
   "id": "initial_id",
   "metadata": {
    "collapsed": true,
    "ExecuteTime": {
     "end_time": "2025-05-13T04:37:11.864306Z",
     "start_time": "2025-05-13T04:37:11.861886Z"
    }
   },
   "source": [
    "import pandas as pd\n",
    "import numpy as np\n",
    "import warnings\n",
    "warnings.filterwarnings('ignore')"
   ],
   "outputs": [],
   "execution_count": 32
  },
  {
   "metadata": {},
   "cell_type": "code",
   "outputs": [],
   "execution_count": null,
   "source": "",
   "id": "aed621577f6be363"
  },
  {
   "metadata": {
    "ExecuteTime": {
     "end_time": "2025-05-13T04:07:32.312467Z",
     "start_time": "2025-05-13T04:07:32.309602Z"
    }
   },
   "cell_type": "code",
   "source": [
    "\"\"\"\n",
    "Bitcoin Mining: Solve complex puzzles to validate transactions and add them to blockchain\n",
    "\n",
    "puzzles involve computing SHA-256 Hashes over and over\n",
    "\n",
    "1 Hash = 1 attempt to solve the puzzle\n",
    "\n",
    "Hashrate = number of hashes/second\n",
    "\n",
    "\n",
    "Antminer = 110 TH/s which is 110 trillion guesses per second\n",
    "\n",
    "More hashrate = more revenue but more electricity usage\n",
    "\n",
    "\n",
    "\"\"\""
   ],
   "id": "251518b6e357e635",
   "outputs": [
    {
     "data": {
      "text/plain": [
       "'\\nBitcoin Mining: Solve complex puzzles to calidate transactions and add them to blockchain\\n\\npuzzles involve computing SHA-256 Hashes over and over\\n\\n1 Hash = 1 attempt to solve the puzzle\\n\\nHashrate = number of hashes/second\\n\\n\\nAntminer = 110 TH/s which is 110 trillion guesses per second\\n\\nMore hashrate = more revenue but more electricity usage\\n\\n\\n'"
      ]
     },
     "execution_count": 24,
     "metadata": {},
     "output_type": "execute_result"
    }
   ],
   "execution_count": 24
  },
  {
   "metadata": {
    "ExecuteTime": {
     "end_time": "2025-05-13T21:25:49.063089Z",
     "start_time": "2025-05-13T21:25:48.828533Z"
    }
   },
   "cell_type": "code",
   "source": [
    "import requests\n",
    "\n",
    "def get_btc_price():\n",
    "    url = \"https://api.coingecko.com/api/v3/simple/price\"\n",
    "    params = {\n",
    "        'ids': 'bitcoin',\n",
    "        'vs_currencies': 'usd'\n",
    "    }\n",
    "    response = requests.get(url, params=params)\n",
    "    data = response.json()\n",
    "    return data['bitcoin']['usd']\n",
    "\n",
    "# Example usage\n",
    "btc_price = get_btc_price()\n",
    "print(f\"Current BTC Price: ${btc_price}\")"
   ],
   "id": "669e4e2e568fd6ad",
   "outputs": [
    {
     "name": "stdout",
     "output_type": "stream",
     "text": [
      "Current BTC Price: $104460\n"
     ]
    }
   ],
   "execution_count": 41
  },
  {
   "metadata": {
    "ExecuteTime": {
     "end_time": "2025-05-13T21:53:04.275560Z",
     "start_time": "2025-05-13T21:53:04.262672Z"
    }
   },
   "cell_type": "code",
   "source": [
    "def load_clean_NSP_NW_da_data():\n",
    "    da = pd.read_csv('/Users/kunjshah/Downloads/BTC_Mining_Project/1908b1f8-bc4f-44fa-9adf-966461c248e6.csv')\n",
    "    da['interval_start_local'] = pd.to_datetime(da['interval_start_local'])\n",
    "    da['interval_end_local'] = pd.to_datetime(da['interval_end_local'])\n",
    "    da['interval_start_utc'] = pd.to_datetime(da['interval_start_utc'])\n",
    "    da.sort_values('interval_start_local', inplace=True)\n",
    "    return da"
   ],
   "id": "b3e817bef653ed90",
   "outputs": [],
   "execution_count": 44
  },
  {
   "metadata": {
    "ExecuteTime": {
     "end_time": "2025-05-13T22:01:53.879111Z",
     "start_time": "2025-05-13T22:01:52.972018Z"
    }
   },
   "cell_type": "code",
   "source": [
    "da= load_clean_NSP_NW_da_data()\n",
    "da.to_parquet('DA_MISO_NSP_NWELOAD.parquet')"
   ],
   "id": "e05bb4ac632ccb6d",
   "outputs": [],
   "execution_count": 46
  },
  {
   "metadata": {
    "ExecuteTime": {
     "end_time": "2025-05-13T22:02:33.154666Z",
     "start_time": "2025-05-13T22:02:33.151408Z"
    }
   },
   "cell_type": "code",
   "source": [
    "def load_clean_NSP_NW_rt_data():\n",
    "    rt = pd.read_csv('/Users/kunjshah/Downloads/BTC_Mining_Project/773a7536-3561-464f-81b2-4bed1091d06d.csv')\n",
    "    rt['interval_start_local'] = pd.to_datetime(rt['interval_start_local'])\n",
    "    rt['interval_end_local'] = pd.to_datetime(rt['interval_end_local'])\n",
    "    rt['interval_start_utc'] = pd.to_datetime(rt['interval_start_utc'])\n",
    "    rt.sort_values('interval_start_local', inplace=True)\n",
    "\n",
    "    return rt\n"
   ],
   "id": "80124d788b6b7ce9",
   "outputs": [],
   "execution_count": 48
  },
  {
   "metadata": {
    "ExecuteTime": {
     "end_time": "2025-05-13T22:02:40.082699Z",
     "start_time": "2025-05-13T22:02:33.305305Z"
    }
   },
   "cell_type": "code",
   "source": [
    "rt = load_clean_NSP_NW_rt_data()\n",
    "rt.to_parquet('RT_MISO_NSP_NWRT.parquet')"
   ],
   "id": "8c48a1e75cc43ffd",
   "outputs": [],
   "execution_count": 49
  },
  {
   "metadata": {
    "ExecuteTime": {
     "end_time": "2025-05-12T21:05:20.500914Z",
     "start_time": "2025-05-12T21:05:20.496210Z"
    }
   },
   "cell_type": "code",
   "source": [
    "def load_btc_data():\n",
    "    x = pd.read_csv('btc_hourly.csv')\n",
    "    x['time_period_end'] = pd.to_datetime(x['time_period_end'])\n",
    "    x['time_period_start'] = pd.to_datetime(x['time_period_start'])\n",
    "    x['time_close'] = pd.to_datetime(x['time_close'])\n",
    "    return x\n"
   ],
   "id": "94f5276e9ccff4b2",
   "outputs": [],
   "execution_count": 13
  },
  {
   "metadata": {},
   "cell_type": "code",
   "outputs": [],
   "execution_count": null,
   "source": [
    "#Assumptions\n",
    "btc_data = load_btc_data() #history of btc_data\n",
    "btc_price = get_btc_price() #price btcusd current\n",
    "power_consumption =3250 #watts\n",
    "hashrate = 110 #TH/s\n",
    "num_antminer = 1000\n",
    "rf = 0.04 #annualized rf rate\n",
    "\n",
    "\n",
    "rt = load_clean_NSP_NW_da_data()\n",
    "da = load_clean_NSP_NW_rt_data()\n",
    "\n",
    "btc_day = 0.00008\n",
    "\n",
    "\n",
    "breakeven = 95 #$/MWH when btc 93k\n"
   ],
   "id": "1682173140c2825d"
  },
  {
   "metadata": {},
   "cell_type": "code",
   "outputs": [],
   "execution_count": null,
   "source": [
    "\"\"\"\n",
    "Questions to answer:\n",
    "\n",
    "- Estimate BTC/USD Volatility\n",
    "\n",
    "Strategy to be profitable?\n",
    "- Forecast profits for July 2025 - June 2026\n",
    "- Forecast some weather\n",
    "- Location of facility\n",
    "- Purchase power in DA and if not used sell in RT\n",
    "- Or purchase less power in DA if need more buy in RT\n",
    "\n",
    "\"\"\""
   ],
   "id": "fc104d4e1dc61aad"
  },
  {
   "metadata": {},
   "cell_type": "code",
   "outputs": [],
   "execution_count": null,
   "source": [
    "\"\"\"\n",
    "Across 500 simulation what is the expected average annual excess profit (profit - rf rate)\n",
    "- forecast energy prices for 1 year\n",
    "- forecast btc prices for 1 year\n",
    "-\n",
    "\n",
    "What is the volatility in annual profitability\n",
    "What is the sharpe\n",
    "\n",
    "\n",
    "Would you buy the facility for 500k?\n",
    "-Base this off of the return given the volatility of BTC versus electricity\n",
    "- What is the breakeven expected value\n",
    "\"\"\""
   ],
   "id": "19a5c7a1557fe2c4"
  },
  {
   "metadata": {},
   "cell_type": "code",
   "outputs": [],
   "execution_count": null,
   "source": [
    "\"\"\"\n",
    "Intraday Analysis\n",
    "- Choose an hourly intraday period as well as a shorter intraday period\n",
    "- for reahc period what is the value of operating the BTC facility? What was the value of curtailment? What was the net payout?\n",
    "\n",
    "-Model BTC and Electricity volatility surface\n",
    "\n",
    "\n",
    "\"\"\""
   ],
   "id": "f9acf5a2b8a2cfb3"
  },
  {
   "metadata": {},
   "cell_type": "code",
   "outputs": [],
   "execution_count": null,
   "source": "#part 2 change the node",
   "id": "da6a9d5128efc4ed"
  }
 ],
 "metadata": {
  "kernelspec": {
   "display_name": "Python 3",
   "language": "python",
   "name": "python3"
  },
  "language_info": {
   "codemirror_mode": {
    "name": "ipython",
    "version": 2
   },
   "file_extension": ".py",
   "mimetype": "text/x-python",
   "name": "python",
   "nbconvert_exporter": "python",
   "pygments_lexer": "ipython2",
   "version": "2.7.6"
  }
 },
 "nbformat": 4,
 "nbformat_minor": 5
}
