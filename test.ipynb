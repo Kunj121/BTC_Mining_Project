{
 "cells": [
  {
   "cell_type": "code",
   "id": "initial_id",
   "metadata": {
    "collapsed": true,
    "ExecuteTime": {
     "end_time": "2025-05-17T22:46:37.878263Z",
     "start_time": "2025-05-17T22:46:37.873977Z"
    }
   },
   "source": [
    "import sys\n",
    "\n",
    "import pandas as pd\n",
    "import numpy as np\n",
    "import load_data\n",
    "import warnings\n",
    "warnings.filterwarnings('ignore')\n",
    "import importlib\n",
    "importlib.reload(load_data)"
   ],
   "outputs": [
    {
     "data": {
      "text/plain": [
       "<module 'load_data' from '/Users/kunjshah/Downloads/BTC_Mining_Project/load_data.py'>"
      ]
     },
     "execution_count": 62,
     "metadata": {},
     "output_type": "execute_result"
    }
   ],
   "execution_count": 62
  },
  {
   "metadata": {
    "ExecuteTime": {
     "end_time": "2025-05-17T22:09:58.997007Z",
     "start_time": "2025-05-17T22:09:58.994355Z"
    }
   },
   "cell_type": "code",
   "source": [
    "\"\"\"\n",
    "Bitcoin Mining: Solve complex puzzles to validate transactions and add them to blockchain\n",
    "\n",
    "puzzles involve computing SHA-256 Hashes over and over\n",
    "\n",
    "1 Hash = 1 attempt to solve the puzzle\n",
    "\n",
    "Hashrate = number of hashes/second\n",
    "\n",
    "\n",
    "Antminer = 110 TH/s which is 110 trillion guesses per second\n",
    "\n",
    "More hashrate = more revenue but more electricity usage\n",
    "\n",
    "\n",
    "\"\"\""
   ],
   "id": "251518b6e357e635",
   "outputs": [
    {
     "data": {
      "text/plain": [
       "'\\nBitcoin Mining: Solve complex puzzles to validate transactions and add them to blockchain\\n\\npuzzles involve computing SHA-256 Hashes over and over\\n\\n1 Hash = 1 attempt to solve the puzzle\\n\\nHashrate = number of hashes/second\\n\\n\\nAntminer = 110 TH/s which is 110 trillion guesses per second\\n\\nMore hashrate = more revenue but more electricity usage\\n\\n\\n'"
      ]
     },
     "execution_count": 2,
     "metadata": {},
     "output_type": "execute_result"
    }
   ],
   "execution_count": 2
  },
  {
   "metadata": {
    "ExecuteTime": {
     "end_time": "2025-05-17T22:09:59.190733Z",
     "start_time": "2025-05-17T22:09:59.081658Z"
    }
   },
   "cell_type": "code",
   "source": "da = load_data.NSP_NW_da_data() #hr",
   "id": "423bd6eba471ecbe",
   "outputs": [],
   "execution_count": 3
  },
  {
   "metadata": {
    "ExecuteTime": {
     "end_time": "2025-05-17T22:09:59.304953Z",
     "start_time": "2025-05-17T22:09:59.194532Z"
    }
   },
   "cell_type": "code",
   "source": "rt = load_data.NSP_NW_rt_data() #5min",
   "id": "8c48a1e75cc43ffd",
   "outputs": [],
   "execution_count": 4
  },
  {
   "metadata": {
    "ExecuteTime": {
     "end_time": "2025-05-17T22:09:59.339834Z",
     "start_time": "2025-05-17T22:09:59.316824Z"
    }
   },
   "cell_type": "code",
   "source": "btc = load_data.btc_data(time = 'hourly')",
   "id": "c403cb82601f67c1",
   "outputs": [],
   "execution_count": 5
  },
  {
   "metadata": {
    "ExecuteTime": {
     "end_time": "2025-05-17T22:46:05.334332Z",
     "start_time": "2025-05-17T22:46:05.326921Z"
    }
   },
   "cell_type": "code",
   "source": [
    "def calc_breakeven(btc_price):\n",
    "    watts =3250\n",
    "    watt_to_megawatt = 1000000\n",
    "    hours = 24\n",
    "    megawatt_per_hour = watts * hours / watt_to_megawatt\n",
    "    #print(f\"MWH: {megawatt_per_hour}\")\n",
    "    btc_gen= 0.00008 #per day,\n",
    "    dv = btc_price* btc_gen\n",
    "    #print(f\"Dollar Value: {dv}\")\n",
    "    breakeven = dv/ megawatt_per_hour\n",
    "    return breakeven"
   ],
   "id": "65303ecd847ed5fa",
   "outputs": [],
   "execution_count": 59
  },
  {
   "metadata": {
    "ExecuteTime": {
     "end_time": "2025-05-17T22:47:25.056654Z",
     "start_time": "2025-05-17T22:47:25.048854Z"
    }
   },
   "cell_type": "code",
   "source": [
    "current_breakeven = calc_breakeven(93_000)\n",
    "print(current_breakeven)"
   ],
   "id": "5006781c7ce3994f",
   "outputs": [
    {
     "name": "stdout",
     "output_type": "stream",
     "text": [
      "95.38461538461539\n"
     ]
    }
   ],
   "execution_count": 66
  },
  {
   "metadata": {
    "ExecuteTime": {
     "end_time": "2025-05-17T22:22:33.055461Z",
     "start_time": "2025-05-17T22:22:33.051897Z"
    }
   },
   "cell_type": "code",
   "source": [
    "#align columns\n",
    "\n",
    "#first try comparing da and btc\n",
    "\n",
    "def algin_columns_btc():\n",
    "\n",
    "    btc = load_data.btc_data(time = 'hourly')[['price_close']]\n",
    "    da = load_data.NSP_NW_da_data()\n",
    "\n",
    "    btc.rename(columns = {'price_close':'btc'}, inplace = True)\n",
    "\n",
    "\n",
    "    rt = load_data.NSP_NW_rt_data()\n",
    "\n",
    "    dadf = da.copy()\n",
    "    rtdf = rt.copy()\n",
    "\n",
    "    rtdf = rt[['interval_end_local', 'lmp']]\n",
    "\n",
    "    dadf = da[['interval_end_local', 'lmp']]\n",
    "\n",
    "    rtdf.rename(columns={'interval_end_local':'date', 'lmp':'rt'}, inplace = True)\n",
    "    dadf.rename(columns={'interval_end_local': 'date', 'lmp':'da'}, inplace=True)\n",
    "\n",
    "    dadf.set_index('date', inplace=True)\n",
    "    rtdf.set_index('date', inplace=True)\n",
    "\n",
    "\n",
    "\n",
    "    merged = pd.merge(dadf, btc, left_index=True, right_index=True)\n",
    "\n",
    "    return merged\n",
    "\n",
    "\n",
    "\n",
    "\n",
    "\n",
    "\n"
   ],
   "id": "e03d6ff989e2475f",
   "outputs": [],
   "execution_count": 16
  },
  {
   "metadata": {
    "ExecuteTime": {
     "end_time": "2025-05-17T22:22:33.430114Z",
     "start_time": "2025-05-17T22:22:33.196537Z"
    }
   },
   "cell_type": "code",
   "source": "dabtc = algin_columns_btc()",
   "id": "4c0b81756acc7200",
   "outputs": [],
   "execution_count": 17
  },
  {
   "metadata": {
    "ExecuteTime": {
     "end_time": "2025-05-17T22:22:33.477078Z",
     "start_time": "2025-05-17T22:22:33.474702Z"
    }
   },
   "cell_type": "code",
   "source": "dabtc.index",
   "id": "5a094f07ac49bad9",
   "outputs": [
    {
     "data": {
      "text/plain": [
       "DatetimeIndex(['2021-01-01 06:00:00+00:00', '2021-01-01 07:00:00+00:00',\n",
       "               '2021-01-01 08:00:00+00:00', '2021-01-01 09:00:00+00:00',\n",
       "               '2021-01-01 10:00:00+00:00', '2021-01-01 11:00:00+00:00',\n",
       "               '2021-01-01 12:00:00+00:00', '2021-01-01 13:00:00+00:00',\n",
       "               '2021-01-01 14:00:00+00:00', '2021-01-01 15:00:00+00:00',\n",
       "               ...\n",
       "               '2025-02-25 15:00:00+00:00', '2025-02-25 16:00:00+00:00',\n",
       "               '2025-02-25 17:00:00+00:00', '2025-02-25 18:00:00+00:00',\n",
       "               '2025-02-25 19:00:00+00:00', '2025-02-25 20:00:00+00:00',\n",
       "               '2025-02-25 21:00:00+00:00', '2025-02-25 22:00:00+00:00',\n",
       "               '2025-02-25 23:00:00+00:00', '2025-02-26 00:00:00+00:00'],\n",
       "              dtype='datetime64[ns, UTC]', length=36003, freq=None)"
      ]
     },
     "execution_count": 18,
     "metadata": {},
     "output_type": "execute_result"
    }
   ],
   "execution_count": 18
  },
  {
   "metadata": {
    "ExecuteTime": {
     "end_time": "2025-05-17T22:33:13.911545Z",
     "start_time": "2025-05-17T22:33:13.891397Z"
    }
   },
   "cell_type": "code",
   "source": [
    "import datetime\n",
    "import matplotlib.pyplot as plt\n",
    "from datetime import timedelta\n",
    "dabtc['date_to_use'] = dabtc.index + timedelta(days=1)\n",
    "dabtc['date_to_use'] = dabtc['date_to_use'].dt.date\n",
    "\n",
    "#make decision"
   ],
   "id": "28e6b1fd0b23dc36",
   "outputs": [],
   "execution_count": 37
  },
  {
   "metadata": {
    "ExecuteTime": {
     "end_time": "2025-05-17T22:33:15.736959Z",
     "start_time": "2025-05-17T22:33:15.730161Z"
    }
   },
   "cell_type": "code",
   "source": [
    "\n",
    "\n",
    "\n",
    "#buy day ahead energy 6:00: $17.20/MwH\n",
    "\n",
    "#use it after 12:00 am the next day ebtween 12:00 am - 11:59PM\n",
    "\n",
    "#Assumption:\n",
    "# price of btc today is the best predictor for price of btc tomorrow\n",
    "\n",
    "\n",
    "\n",
    "#T\n",
    "\n",
    "\n",
    "\n",
    "\n",
    "\n",
    "\n",
    "\n",
    "\n",
    "\n",
    "\n",
    "\n",
    "\n",
    "\n",
    "\n",
    "\n",
    "\n",
    "\n",
    "\n",
    "\n",
    "\n",
    "\n",
    "\n",
    "\n",
    "\n",
    "\n",
    "\n",
    "\n"
   ],
   "id": "facb5194b256def7",
   "outputs": [
    {
     "data": {
      "text/plain": [
       "                              da       btc date_to_use\n",
       "2021-01-01 06:00:00+00:00  17.20  29240.79  2021-01-02\n",
       "2021-01-01 07:00:00+00:00  17.22  29233.94  2021-01-02\n",
       "2021-01-01 08:00:00+00:00  17.08  29166.41  2021-01-02\n",
       "2021-01-01 09:00:00+00:00  17.69  29074.87  2021-01-02\n",
       "2021-01-01 10:00:00+00:00  18.03  29280.43  2021-01-02\n",
       "...                          ...       ...         ...\n",
       "2025-02-25 20:00:00+00:00  25.34  87825.05  2025-02-26\n",
       "2025-02-25 21:00:00+00:00  27.55  88044.47  2025-02-26\n",
       "2025-02-25 22:00:00+00:00  26.08  88706.81  2025-02-26\n",
       "2025-02-25 23:00:00+00:00  37.10  88740.03  2025-02-26\n",
       "2025-02-26 00:00:00+00:00  48.57  88677.45  2025-02-27\n",
       "\n",
       "[36003 rows x 3 columns]"
      ],
      "text/html": [
       "<div>\n",
       "<style scoped>\n",
       "    .dataframe tbody tr th:only-of-type {\n",
       "        vertical-align: middle;\n",
       "    }\n",
       "\n",
       "    .dataframe tbody tr th {\n",
       "        vertical-align: top;\n",
       "    }\n",
       "\n",
       "    .dataframe thead th {\n",
       "        text-align: right;\n",
       "    }\n",
       "</style>\n",
       "<table border=\"1\" class=\"dataframe\">\n",
       "  <thead>\n",
       "    <tr style=\"text-align: right;\">\n",
       "      <th></th>\n",
       "      <th>da</th>\n",
       "      <th>btc</th>\n",
       "      <th>date_to_use</th>\n",
       "    </tr>\n",
       "  </thead>\n",
       "  <tbody>\n",
       "    <tr>\n",
       "      <th>2021-01-01 06:00:00+00:00</th>\n",
       "      <td>17.20</td>\n",
       "      <td>29240.79</td>\n",
       "      <td>2021-01-02</td>\n",
       "    </tr>\n",
       "    <tr>\n",
       "      <th>2021-01-01 07:00:00+00:00</th>\n",
       "      <td>17.22</td>\n",
       "      <td>29233.94</td>\n",
       "      <td>2021-01-02</td>\n",
       "    </tr>\n",
       "    <tr>\n",
       "      <th>2021-01-01 08:00:00+00:00</th>\n",
       "      <td>17.08</td>\n",
       "      <td>29166.41</td>\n",
       "      <td>2021-01-02</td>\n",
       "    </tr>\n",
       "    <tr>\n",
       "      <th>2021-01-01 09:00:00+00:00</th>\n",
       "      <td>17.69</td>\n",
       "      <td>29074.87</td>\n",
       "      <td>2021-01-02</td>\n",
       "    </tr>\n",
       "    <tr>\n",
       "      <th>2021-01-01 10:00:00+00:00</th>\n",
       "      <td>18.03</td>\n",
       "      <td>29280.43</td>\n",
       "      <td>2021-01-02</td>\n",
       "    </tr>\n",
       "    <tr>\n",
       "      <th>...</th>\n",
       "      <td>...</td>\n",
       "      <td>...</td>\n",
       "      <td>...</td>\n",
       "    </tr>\n",
       "    <tr>\n",
       "      <th>2025-02-25 20:00:00+00:00</th>\n",
       "      <td>25.34</td>\n",
       "      <td>87825.05</td>\n",
       "      <td>2025-02-26</td>\n",
       "    </tr>\n",
       "    <tr>\n",
       "      <th>2025-02-25 21:00:00+00:00</th>\n",
       "      <td>27.55</td>\n",
       "      <td>88044.47</td>\n",
       "      <td>2025-02-26</td>\n",
       "    </tr>\n",
       "    <tr>\n",
       "      <th>2025-02-25 22:00:00+00:00</th>\n",
       "      <td>26.08</td>\n",
       "      <td>88706.81</td>\n",
       "      <td>2025-02-26</td>\n",
       "    </tr>\n",
       "    <tr>\n",
       "      <th>2025-02-25 23:00:00+00:00</th>\n",
       "      <td>37.10</td>\n",
       "      <td>88740.03</td>\n",
       "      <td>2025-02-26</td>\n",
       "    </tr>\n",
       "    <tr>\n",
       "      <th>2025-02-26 00:00:00+00:00</th>\n",
       "      <td>48.57</td>\n",
       "      <td>88677.45</td>\n",
       "      <td>2025-02-27</td>\n",
       "    </tr>\n",
       "  </tbody>\n",
       "</table>\n",
       "<p>36003 rows × 3 columns</p>\n",
       "</div>"
      ]
     },
     "execution_count": 38,
     "metadata": {},
     "output_type": "execute_result"
    }
   ],
   "execution_count": 38
  },
  {
   "metadata": {
    "ExecuteTime": {
     "end_time": "2025-05-17T22:32:30.244951Z",
     "start_time": "2025-05-17T22:32:30.199800Z"
    }
   },
   "cell_type": "code",
   "source": [
    "sample = dabtc[:'2021-01-01 08']\n",
    "\n",
    "sample.da.plot()\n",
    "plt.show()"
   ],
   "id": "583c7ad7ce5bd151",
   "outputs": [
    {
     "data": {
      "text/plain": [
       "<Figure size 640x480 with 1 Axes>"
      ],
      "image/png": "[encoded data removed]"
     },
     "metadata": {},
     "output_type": "display_data"
    }
   ],
   "execution_count": 35
  },
  {
   "metadata": {
    "ExecuteTime": {
     "end_time": "2025-05-17T23:04:33.190769Z",
     "start_time": "2025-05-17T23:04:33.152996Z"
    }
   },
   "cell_type": "code",
   "source": [
    "#Assumption\n",
    "\n",
    "\n",
    "#day ahead\n",
    "watts = 3250\n",
    "watt_to_megawatt = 1_000_000\n",
    "megawatt_to_megwatt_hour = 24\n",
    "btc_gen= 0.00008 #per day,\n",
    "scale = 1000\n",
    "#da is in mwh\n",
    "                        #electricity needed                                     #cost of electricity\n",
    "dabtc['elec_cost'] =  (((watts / watt_to_megawatt) * megawatt_to_megwatt_hour) * dabtc['da'])   #in dollars\n",
    "\n",
    "btc_per_hour = btc_gen / 24 #hour\n",
    "\n",
    "# Step 1: Create a new column of just the date (drop time) from the index\n",
    "dabtc['btc_date'] = dabtc.index.date\n",
    "\n",
    "# Step 2: Group by date and calculate average BTC price\n",
    "btc_daily_avg = dabtc.groupby('btc_date')['btc'].mean()\n",
    "\n",
    "# Step 3: Map tomorrow's average BTC price to the current row using 'date_to_use'\n",
    "dabtc['btc_price_tomorrow'] = dabtc['date_to_use'].map(btc_daily_avg.to_dict())\n",
    "\n",
    "\"\"\"\n",
    "revisit to see if better than average\n",
    "\n",
    "\"\"\"\n",
    "\n",
    "\n",
    "\n",
    "\n",
    "\n",
    "                                    #btcusd this is in T-1 but we need T\n",
    "dabtc['btc_rev'] = btc_per_hour * dabtc['btc_price_tomorrow']  #dollars\n",
    "\n",
    "\n",
    "dabtc['signal']= np.where(dabtc['elec_cost'] < dabtc['btc_rev'], 1, 0)\n",
    "\n",
    "\n",
    "\n",
    "dabtc['profit'] = ((dabtc['btc_rev'] - dabtc['elec_cost'])*dabtc['signal']) * scale\n",
    "\n",
    "\n",
    "#pull data for derivative markets\n"
   ],
   "id": "5d9de4ed7939c794",
   "outputs": [],
   "execution_count": 86
  },
  {
   "metadata": {
    "ExecuteTime": {
     "end_time": "2025-05-17T23:04:33.660286Z",
     "start_time": "2025-05-17T23:04:33.656583Z"
    }
   },
   "cell_type": "code",
   "source": "dabtc['cumulative_profit'] = dabtc['profit'].cumsum()",
   "id": "dbbf5ca2884c0342",
   "outputs": [],
   "execution_count": 87
  },
  {
   "metadata": {
    "ExecuteTime": {
     "end_time": "2025-05-17T23:04:51.954633Z",
     "start_time": "2025-05-17T23:04:51.462020Z"
    }
   },
   "cell_type": "code",
   "source": [
    "dabtc.cumulative_profit.plot()\n",
    "plt.show()\n"
   ],
   "id": "a367ee95823795e0",
   "outputs": [
    {
     "data": {
      "text/plain": [
       "<Figure size 640x480 with 1 Axes>"
      ],
      "image/png": "[encoded data removed]"
     },
     "metadata": {},
     "output_type": "display_data"
    }
   ],
   "execution_count": 88
  },
  {
   "metadata": {
    "ExecuteTime": {
     "end_time": "2025-05-17T23:05:15.811204Z",
     "start_time": "2025-05-17T23:05:15.807050Z"
    }
   },
   "cell_type": "code",
   "source": "dabtc.signal.value_counts()",
   "id": "b5dcb293cbf25679",
   "outputs": [
    {
     "data": {
      "text/plain": [
       "signal\n",
       "0    35813\n",
       "1      190\n",
       "Name: count, dtype: int64"
      ]
     },
     "execution_count": 90,
     "metadata": {},
     "output_type": "execute_result"
    }
   ],
   "execution_count": 90
  },
  {
   "metadata": {
    "ExecuteTime": {
     "end_time": "2025-05-17T20:51:01.757191Z",
     "start_time": "2025-05-17T20:51:01.742346Z"
    }
   },
   "cell_type": "code",
   "source": [
    "da_btc\n",
    "\n",
    "#so we currently we are calculating the decison to buy energy based on the the btc price from today to buy energy for tomorrow (btc price today is the best prediction for tomorrow)\n",
    "\n",
    "#our"
   ],
   "id": "6089eb24cbd32fac",
   "outputs": [
    {
     "data": {
      "text/plain": [
       "                              da       btc  break_even  signal\n",
       "2021-01-01 06:00:00+00:00  17.20  29240.79   29.990554       1\n",
       "2021-01-01 07:00:00+00:00  17.22  29233.94   29.983528       1\n",
       "2021-01-01 08:00:00+00:00  17.08  29166.41   29.914267       1\n",
       "2021-01-01 09:00:00+00:00  17.69  29074.87   29.820379       1\n",
       "2021-01-01 10:00:00+00:00  18.03  29280.43   30.031210       1\n",
       "...                          ...       ...         ...     ...\n",
       "2025-02-25 20:00:00+00:00  25.34  87825.05   90.076974       1\n",
       "2025-02-25 21:00:00+00:00  27.55  88044.47   90.302021       1\n",
       "2025-02-25 22:00:00+00:00  26.08  88706.81   90.981344       1\n",
       "2025-02-25 23:00:00+00:00  37.10  88740.03   91.015415       1\n",
       "2025-02-26 00:00:00+00:00  48.57  88677.45   90.951231       1\n",
       "\n",
       "[36003 rows x 4 columns]"
      ],
      "text/html": [
       "<div>\n",
       "<style scoped>\n",
       "    .dataframe tbody tr th:only-of-type {\n",
       "        vertical-align: middle;\n",
       "    }\n",
       "\n",
       "    .dataframe tbody tr th {\n",
       "        vertical-align: top;\n",
       "    }\n",
       "\n",
       "    .dataframe thead th {\n",
       "        text-align: right;\n",
       "    }\n",
       "</style>\n",
       "<table border=\"1\" class=\"dataframe\">\n",
       "  <thead>\n",
       "    <tr style=\"text-align: right;\">\n",
       "      <th></th>\n",
       "      <th>da</th>\n",
       "      <th>btc</th>\n",
       "      <th>break_even</th>\n",
       "      <th>signal</th>\n",
       "    </tr>\n",
       "  </thead>\n",
       "  <tbody>\n",
       "    <tr>\n",
       "      <th>2021-01-01 06:00:00+00:00</th>\n",
       "      <td>17.20</td>\n",
       "      <td>29240.79</td>\n",
       "      <td>29.990554</td>\n",
       "      <td>1</td>\n",
       "    </tr>\n",
       "    <tr>\n",
       "      <th>2021-01-01 07:00:00+00:00</th>\n",
       "      <td>17.22</td>\n",
       "      <td>29233.94</td>\n",
       "      <td>29.983528</td>\n",
       "      <td>1</td>\n",
       "    </tr>\n",
       "    <tr>\n",
       "      <th>2021-01-01 08:00:00+00:00</th>\n",
       "      <td>17.08</td>\n",
       "      <td>29166.41</td>\n",
       "      <td>29.914267</td>\n",
       "      <td>1</td>\n",
       "    </tr>\n",
       "    <tr>\n",
       "      <th>2021-01-01 09:00:00+00:00</th>\n",
       "      <td>17.69</td>\n",
       "      <td>29074.87</td>\n",
       "      <td>29.820379</td>\n",
       "      <td>1</td>\n",
       "    </tr>\n",
       "    <tr>\n",
       "      <th>2021-01-01 10:00:00+00:00</th>\n",
       "      <td>18.03</td>\n",
       "      <td>29280.43</td>\n",
       "      <td>30.031210</td>\n",
       "      <td>1</td>\n",
       "    </tr>\n",
       "    <tr>\n",
       "      <th>...</th>\n",
       "      <td>...</td>\n",
       "      <td>...</td>\n",
       "      <td>...</td>\n",
       "      <td>...</td>\n",
       "    </tr>\n",
       "    <tr>\n",
       "      <th>2025-02-25 20:00:00+00:00</th>\n",
       "      <td>25.34</td>\n",
       "      <td>87825.05</td>\n",
       "      <td>90.076974</td>\n",
       "      <td>1</td>\n",
       "    </tr>\n",
       "    <tr>\n",
       "      <th>2025-02-25 21:00:00+00:00</th>\n",
       "      <td>27.55</td>\n",
       "      <td>88044.47</td>\n",
       "      <td>90.302021</td>\n",
       "      <td>1</td>\n",
       "    </tr>\n",
       "    <tr>\n",
       "      <th>2025-02-25 22:00:00+00:00</th>\n",
       "      <td>26.08</td>\n",
       "      <td>88706.81</td>\n",
       "      <td>90.981344</td>\n",
       "      <td>1</td>\n",
       "    </tr>\n",
       "    <tr>\n",
       "      <th>2025-02-25 23:00:00+00:00</th>\n",
       "      <td>37.10</td>\n",
       "      <td>88740.03</td>\n",
       "      <td>91.015415</td>\n",
       "      <td>1</td>\n",
       "    </tr>\n",
       "    <tr>\n",
       "      <th>2025-02-26 00:00:00+00:00</th>\n",
       "      <td>48.57</td>\n",
       "      <td>88677.45</td>\n",
       "      <td>90.951231</td>\n",
       "      <td>1</td>\n",
       "    </tr>\n",
       "  </tbody>\n",
       "</table>\n",
       "<p>36003 rows × 4 columns</p>\n",
       "</div>"
      ]
     },
     "execution_count": 251,
     "metadata": {},
     "output_type": "execute_result"
    }
   ],
   "execution_count": 251
  },
  {
   "metadata": {
    "ExecuteTime": {
     "end_time": "2025-05-17T20:51:01.955149Z",
     "start_time": "2025-05-17T20:51:01.943440Z"
    }
   },
   "cell_type": "code",
   "source": [
    "da_btc['break_even'] = da_btc['btc'].apply(calc_breakeven)\n",
    "\n",
    "#breakeven is in $/MwhH"
   ],
   "id": "ec725722d7a66ea4",
   "outputs": [],
   "execution_count": 252
  },
  {
   "metadata": {
    "ExecuteTime": {
     "end_time": "2025-05-17T22:41:19.672559Z",
     "start_time": "2025-05-17T22:41:19.667874Z"
    }
   },
   "cell_type": "code",
   "source": [
    "def align_rt():\n",
    "    # Load 5-min Real-Time prices\n",
    "    rt = load_data.NSP_NW_rt_data()\n",
    "    rt = rt[['interval_end_local', 'lmp']]\n",
    "    rt.rename(columns={'interval_end_local': 'datetime', 'lmp': 'rt'}, inplace=True)\n",
    "    rt.set_index('datetime', inplace=True)\n",
    "    rt = rt.sort_index()\n",
    "\n",
    "    # Load hourly BTC & DA prices\n",
    "    da_btc = algin_columns_btc()\n",
    "    da_btc = da_btc.sort_index()\n",
    "\n",
    "    start = min(rt.index.min(), da_btc.index.min())\n",
    "    end = max(rt.index.max(), da_btc.index.max()).tz_convert('UTC')\n",
    "    full_5min_index = pd.date_range(start=start, end=end, freq='5T')\n",
    "\n",
    "    # 2. Reindex hourly da_btc to 5-min with forward-fill\n",
    "    da_btc_5min = da_btc.reindex(full_5min_index).ffill()\n",
    "\n",
    "    # 3. Reindex rt to same 5-min index (or left-join)\n",
    "    rt_5min = rt.reindex(full_5min_index)\n",
    "\n",
    "    # 4. Combine\n",
    "    merged = pd.concat([rt_5min, da_btc_5min], axis=1)\n",
    "\n",
    "    # 5. Drop rows with missing values\n",
    "    merged.dropna(inplace=True)\n",
    "    merged = merged[:'2025-02']\n",
    "\n",
    "    return merged"
   ],
   "id": "e06eacbf0eb8bed3",
   "outputs": [],
   "execution_count": 43
  },
  {
   "metadata": {
    "ExecuteTime": {
     "end_time": "2025-05-17T22:41:20.408580Z",
     "start_time": "2025-05-17T22:41:20.066805Z"
    }
   },
   "cell_type": "code",
   "source": "z = align_rt()",
   "id": "47c9c8bcd1e7fd41",
   "outputs": [],
   "execution_count": 44
  },
  {
   "metadata": {
    "ExecuteTime": {
     "end_time": "2025-05-17T22:41:20.455601Z",
     "start_time": "2025-05-17T22:41:20.451423Z"
    }
   },
   "cell_type": "code",
   "source": "z",
   "id": "f1579913669a5c90",
   "outputs": [
    {
     "data": {
      "text/plain": [
       "                              rt     da       btc\n",
       "2021-12-20 05:05:00+00:00  27.30  24.49  46987.06\n",
       "2021-12-20 05:10:00+00:00  21.55  24.49  46987.06\n",
       "2021-12-20 05:15:00+00:00  21.34  24.49  46987.06\n",
       "2021-12-20 05:20:00+00:00  22.30  24.49  46987.06\n",
       "2021-12-20 05:25:00+00:00  20.59  24.49  46987.06\n",
       "...                          ...    ...       ...\n",
       "2025-02-28 23:35:00+00:00  31.63  48.57  88677.45\n",
       "2025-02-28 23:40:00+00:00  31.13  48.57  88677.45\n",
       "2025-02-28 23:45:00+00:00  38.52  48.57  88677.45\n",
       "2025-02-28 23:50:00+00:00  41.08  48.57  88677.45\n",
       "2025-02-28 23:55:00+00:00  25.78  48.57  88677.45\n",
       "\n",
       "[336035 rows x 3 columns]"
      ],
      "text/html": [
       "<div>\n",
       "<style scoped>\n",
       "    .dataframe tbody tr th:only-of-type {\n",
       "        vertical-align: middle;\n",
       "    }\n",
       "\n",
       "    .dataframe tbody tr th {\n",
       "        vertical-align: top;\n",
       "    }\n",
       "\n",
       "    .dataframe thead th {\n",
       "        text-align: right;\n",
       "    }\n",
       "</style>\n",
       "<table border=\"1\" class=\"dataframe\">\n",
       "  <thead>\n",
       "    <tr style=\"text-align: right;\">\n",
       "      <th></th>\n",
       "      <th>rt</th>\n",
       "      <th>da</th>\n",
       "      <th>btc</th>\n",
       "    </tr>\n",
       "  </thead>\n",
       "  <tbody>\n",
       "    <tr>\n",
       "      <th>2021-12-20 05:05:00+00:00</th>\n",
       "      <td>27.30</td>\n",
       "      <td>24.49</td>\n",
       "      <td>46987.06</td>\n",
       "    </tr>\n",
       "    <tr>\n",
       "      <th>2021-12-20 05:10:00+00:00</th>\n",
       "      <td>21.55</td>\n",
       "      <td>24.49</td>\n",
       "      <td>46987.06</td>\n",
       "    </tr>\n",
       "    <tr>\n",
       "      <th>2021-12-20 05:15:00+00:00</th>\n",
       "      <td>21.34</td>\n",
       "      <td>24.49</td>\n",
       "      <td>46987.06</td>\n",
       "    </tr>\n",
       "    <tr>\n",
       "      <th>2021-12-20 05:20:00+00:00</th>\n",
       "      <td>22.30</td>\n",
       "      <td>24.49</td>\n",
       "      <td>46987.06</td>\n",
       "    </tr>\n",
       "    <tr>\n",
       "      <th>2021-12-20 05:25:00+00:00</th>\n",
       "      <td>20.59</td>\n",
       "      <td>24.49</td>\n",
       "      <td>46987.06</td>\n",
       "    </tr>\n",
       "    <tr>\n",
       "      <th>...</th>\n",
       "      <td>...</td>\n",
       "      <td>...</td>\n",
       "      <td>...</td>\n",
       "    </tr>\n",
       "    <tr>\n",
       "      <th>2025-02-28 23:35:00+00:00</th>\n",
       "      <td>31.63</td>\n",
       "      <td>48.57</td>\n",
       "      <td>88677.45</td>\n",
       "    </tr>\n",
       "    <tr>\n",
       "      <th>2025-02-28 23:40:00+00:00</th>\n",
       "      <td>31.13</td>\n",
       "      <td>48.57</td>\n",
       "      <td>88677.45</td>\n",
       "    </tr>\n",
       "    <tr>\n",
       "      <th>2025-02-28 23:45:00+00:00</th>\n",
       "      <td>38.52</td>\n",
       "      <td>48.57</td>\n",
       "      <td>88677.45</td>\n",
       "    </tr>\n",
       "    <tr>\n",
       "      <th>2025-02-28 23:50:00+00:00</th>\n",
       "      <td>41.08</td>\n",
       "      <td>48.57</td>\n",
       "      <td>88677.45</td>\n",
       "    </tr>\n",
       "    <tr>\n",
       "      <th>2025-02-28 23:55:00+00:00</th>\n",
       "      <td>25.78</td>\n",
       "      <td>48.57</td>\n",
       "      <td>88677.45</td>\n",
       "    </tr>\n",
       "  </tbody>\n",
       "</table>\n",
       "<p>336035 rows × 3 columns</p>\n",
       "</div>"
      ]
     },
     "execution_count": 45,
     "metadata": {},
     "output_type": "execute_result"
    }
   ],
   "execution_count": 45
  },
  {
   "metadata": {
    "ExecuteTime": {
     "end_time": "2025-05-17T22:41:20.930304Z",
     "start_time": "2025-05-17T22:41:20.927904Z"
    }
   },
   "cell_type": "code",
   "source": "z['profit']= 0",
   "id": "4e490c25d8247946",
   "outputs": [],
   "execution_count": 46
  },
  {
   "metadata": {
    "ExecuteTime": {
     "end_time": "2025-05-17T22:41:21.336875Z",
     "start_time": "2025-05-17T22:41:21.331112Z"
    }
   },
   "cell_type": "code",
   "source": "z = z.reset_index()",
   "id": "d4a4a4185cf86837",
   "outputs": [],
   "execution_count": 47
  },
  {
   "metadata": {
    "ExecuteTime": {
     "end_time": "2025-05-17T22:41:21.705150Z",
     "start_time": "2025-05-17T22:41:21.702733Z"
    }
   },
   "cell_type": "code",
   "source": "z.rename(columns={'index':'time',}, inplace=True)",
   "id": "74062b26ae706fb",
   "outputs": [],
   "execution_count": 48
  },
  {
   "metadata": {
    "ExecuteTime": {
     "end_time": "2025-05-17T22:41:22.127576Z",
     "start_time": "2025-05-17T22:41:22.121530Z"
    }
   },
   "cell_type": "code",
   "source": "z['time'] = pd.to_datetime(z['time'])",
   "id": "4e10e8125dde810f",
   "outputs": [],
   "execution_count": 49
  },
  {
   "metadata": {
    "ExecuteTime": {
     "end_time": "2025-05-17T22:41:22.704224Z",
     "start_time": "2025-05-17T22:41:22.551896Z"
    }
   },
   "cell_type": "code",
   "source": [
    "#using real time market\n",
    "\n",
    "\n",
    "watts =3250\n",
    "watt_to_megawatt = 1_000_000\n",
    "megawatt_to_megwatt_hour = 24\n",
    "btc_gen= 0.00008 #per day,\n",
    "min_quantity = 1 # buy exact amount\n",
    "scale = 1000\n",
    "hour_to_min = 12\n",
    "#da is in mwh\n",
    "\n",
    "z['elec_cost'] =  (((watts / watt_to_megawatt) * megawatt_to_megwatt_hour) * z['rt'])/12   # $\n",
    "\n",
    "\n",
    "\n",
    "btc_per_5min = btc_gen / 24/12\n",
    "\n",
    "z['btc_rev'] = btc_per_5min * z['btc']\n",
    "\n",
    "z['profit'] = ((z['btc_rev'] - z['elec_cost'])*z['signal']) * scale\n",
    "\n",
    "# z['extra_energy'] = min_quantity - z['elec_cost']\n"
   ],
   "id": "e521ebc6eb4e9ad6",
   "outputs": [
    {
     "ename": "KeyError",
     "evalue": "'signal'",
     "output_type": "error",
     "traceback": [
      "\u001B[0;31m---------------------------------------------------------------------------\u001B[0m",
      "\u001B[0;31mKeyError\u001B[0m                                  Traceback (most recent call last)",
      "File \u001B[0;32m/opt/anaconda3/lib/python3.12/site-packages/pandas/core/indexes/base.py:3805\u001B[0m, in \u001B[0;36mIndex.get_loc\u001B[0;34m(self, key)\u001B[0m\n\u001B[1;32m   3804\u001B[0m \u001B[38;5;28;01mtry\u001B[39;00m:\n\u001B[0;32m-> 3805\u001B[0m     \u001B[38;5;28;01mreturn\u001B[39;00m \u001B[38;5;28;43mself\u001B[39;49m\u001B[38;5;241;43m.\u001B[39;49m\u001B[43m_engine\u001B[49m\u001B[38;5;241;43m.\u001B[39;49m\u001B[43mget_loc\u001B[49m\u001B[43m(\u001B[49m\u001B[43mcasted_key\u001B[49m\u001B[43m)\u001B[49m\n\u001B[1;32m   3806\u001B[0m \u001B[38;5;28;01mexcept\u001B[39;00m \u001B[38;5;167;01mKeyError\u001B[39;00m \u001B[38;5;28;01mas\u001B[39;00m err:\n",
      "File \u001B[0;32mindex.pyx:167\u001B[0m, in \u001B[0;36mpandas._libs.index.IndexEngine.get_loc\u001B[0;34m()\u001B[0m\n",
      "File \u001B[0;32mindex.pyx:196\u001B[0m, in \u001B[0;36mpandas._libs.index.IndexEngine.get_loc\u001B[0;34m()\u001B[0m\n",
      "File \u001B[0;32mpandas/_libs/hashtable_class_helper.pxi:7081\u001B[0m, in \u001B[0;36mpandas._libs.hashtable.PyObjectHashTable.get_item\u001B[0;34m()\u001B[0m\n",
      "File \u001B[0;32mpandas/_libs/hashtable_class_helper.pxi:7089\u001B[0m, in \u001B[0;36mpandas._libs.hashtable.PyObjectHashTable.get_item\u001B[0;34m()\u001B[0m\n",
      "\u001B[0;31mKeyError\u001B[0m: 'signal'",
      "\nThe above exception was the direct cause of the following exception:\n",
      "\u001B[0;31mKeyError\u001B[0m                                  Traceback (most recent call last)",
      "Cell \u001B[0;32mIn[50], line 21\u001B[0m\n\u001B[1;32m     17\u001B[0m btc_per_5min \u001B[38;5;241m=\u001B[39m btc_gen \u001B[38;5;241m/\u001B[39m \u001B[38;5;241m24\u001B[39m\u001B[38;5;241m/\u001B[39m\u001B[38;5;241m12\u001B[39m\n\u001B[1;32m     19\u001B[0m z[\u001B[38;5;124m'\u001B[39m\u001B[38;5;124mbtc_rev\u001B[39m\u001B[38;5;124m'\u001B[39m] \u001B[38;5;241m=\u001B[39m btc_per_5min \u001B[38;5;241m*\u001B[39m z[\u001B[38;5;124m'\u001B[39m\u001B[38;5;124mbtc\u001B[39m\u001B[38;5;124m'\u001B[39m]\n\u001B[0;32m---> 21\u001B[0m z[\u001B[38;5;124m'\u001B[39m\u001B[38;5;124mprofit\u001B[39m\u001B[38;5;124m'\u001B[39m] \u001B[38;5;241m=\u001B[39m ((z[\u001B[38;5;124m'\u001B[39m\u001B[38;5;124mbtc_rev\u001B[39m\u001B[38;5;124m'\u001B[39m] \u001B[38;5;241m-\u001B[39m z[\u001B[38;5;124m'\u001B[39m\u001B[38;5;124melec_cost\u001B[39m\u001B[38;5;124m'\u001B[39m])\u001B[38;5;241m*\u001B[39m\u001B[43mz\u001B[49m\u001B[43m[\u001B[49m\u001B[38;5;124;43m'\u001B[39;49m\u001B[38;5;124;43msignal\u001B[39;49m\u001B[38;5;124;43m'\u001B[39;49m\u001B[43m]\u001B[49m) \u001B[38;5;241m*\u001B[39m scale\n\u001B[1;32m     23\u001B[0m \u001B[38;5;66;03m# z['extra_energy'] = min_quantity - z['elec_cost']\u001B[39;00m\n",
      "File \u001B[0;32m/opt/anaconda3/lib/python3.12/site-packages/pandas/core/frame.py:4102\u001B[0m, in \u001B[0;36mDataFrame.__getitem__\u001B[0;34m(self, key)\u001B[0m\n\u001B[1;32m   4100\u001B[0m \u001B[38;5;28;01mif\u001B[39;00m \u001B[38;5;28mself\u001B[39m\u001B[38;5;241m.\u001B[39mcolumns\u001B[38;5;241m.\u001B[39mnlevels \u001B[38;5;241m>\u001B[39m \u001B[38;5;241m1\u001B[39m:\n\u001B[1;32m   4101\u001B[0m     \u001B[38;5;28;01mreturn\u001B[39;00m \u001B[38;5;28mself\u001B[39m\u001B[38;5;241m.\u001B[39m_getitem_multilevel(key)\n\u001B[0;32m-> 4102\u001B[0m indexer \u001B[38;5;241m=\u001B[39m \u001B[38;5;28;43mself\u001B[39;49m\u001B[38;5;241;43m.\u001B[39;49m\u001B[43mcolumns\u001B[49m\u001B[38;5;241;43m.\u001B[39;49m\u001B[43mget_loc\u001B[49m\u001B[43m(\u001B[49m\u001B[43mkey\u001B[49m\u001B[43m)\u001B[49m\n\u001B[1;32m   4103\u001B[0m \u001B[38;5;28;01mif\u001B[39;00m is_integer(indexer):\n\u001B[1;32m   4104\u001B[0m     indexer \u001B[38;5;241m=\u001B[39m [indexer]\n",
      "File \u001B[0;32m/opt/anaconda3/lib/python3.12/site-packages/pandas/core/indexes/base.py:3812\u001B[0m, in \u001B[0;36mIndex.get_loc\u001B[0;34m(self, key)\u001B[0m\n\u001B[1;32m   3807\u001B[0m     \u001B[38;5;28;01mif\u001B[39;00m \u001B[38;5;28misinstance\u001B[39m(casted_key, \u001B[38;5;28mslice\u001B[39m) \u001B[38;5;129;01mor\u001B[39;00m (\n\u001B[1;32m   3808\u001B[0m         \u001B[38;5;28misinstance\u001B[39m(casted_key, abc\u001B[38;5;241m.\u001B[39mIterable)\n\u001B[1;32m   3809\u001B[0m         \u001B[38;5;129;01mand\u001B[39;00m \u001B[38;5;28many\u001B[39m(\u001B[38;5;28misinstance\u001B[39m(x, \u001B[38;5;28mslice\u001B[39m) \u001B[38;5;28;01mfor\u001B[39;00m x \u001B[38;5;129;01min\u001B[39;00m casted_key)\n\u001B[1;32m   3810\u001B[0m     ):\n\u001B[1;32m   3811\u001B[0m         \u001B[38;5;28;01mraise\u001B[39;00m InvalidIndexError(key)\n\u001B[0;32m-> 3812\u001B[0m     \u001B[38;5;28;01mraise\u001B[39;00m \u001B[38;5;167;01mKeyError\u001B[39;00m(key) \u001B[38;5;28;01mfrom\u001B[39;00m\u001B[38;5;250m \u001B[39m\u001B[38;5;21;01merr\u001B[39;00m\n\u001B[1;32m   3813\u001B[0m \u001B[38;5;28;01mexcept\u001B[39;00m \u001B[38;5;167;01mTypeError\u001B[39;00m:\n\u001B[1;32m   3814\u001B[0m     \u001B[38;5;66;03m# If we have a listlike key, _check_indexing_error will raise\u001B[39;00m\n\u001B[1;32m   3815\u001B[0m     \u001B[38;5;66;03m#  InvalidIndexError. Otherwise we fall through and re-raise\u001B[39;00m\n\u001B[1;32m   3816\u001B[0m     \u001B[38;5;66;03m#  the TypeError.\u001B[39;00m\n\u001B[1;32m   3817\u001B[0m     \u001B[38;5;28mself\u001B[39m\u001B[38;5;241m.\u001B[39m_check_indexing_error(key)\n",
      "\u001B[0;31mKeyError\u001B[0m: 'signal'"
     ]
    }
   ],
   "execution_count": 50
  },
  {
   "metadata": {
    "ExecuteTime": {
     "end_time": "2025-05-17T22:41:24.652521Z",
     "start_time": "2025-05-17T22:41:24.645483Z"
    }
   },
   "cell_type": "code",
   "source": "z",
   "id": "a4f10371ac61b408",
   "outputs": [
    {
     "data": {
      "text/plain": [
       "                            time     rt     da       btc  profit  elec_cost  \\\n",
       "0      2021-12-20 05:05:00+00:00  27.30  24.49  46987.06       0   0.177450   \n",
       "1      2021-12-20 05:10:00+00:00  21.55  24.49  46987.06       0   0.140075   \n",
       "2      2021-12-20 05:15:00+00:00  21.34  24.49  46987.06       0   0.138710   \n",
       "3      2021-12-20 05:20:00+00:00  22.30  24.49  46987.06       0   0.144950   \n",
       "4      2021-12-20 05:25:00+00:00  20.59  24.49  46987.06       0   0.133835   \n",
       "...                          ...    ...    ...       ...     ...        ...   \n",
       "336030 2025-02-28 23:35:00+00:00  31.63  48.57  88677.45       0   0.205595   \n",
       "336031 2025-02-28 23:40:00+00:00  31.13  48.57  88677.45       0   0.202345   \n",
       "336032 2025-02-28 23:45:00+00:00  38.52  48.57  88677.45       0   0.250380   \n",
       "336033 2025-02-28 23:50:00+00:00  41.08  48.57  88677.45       0   0.267020   \n",
       "336034 2025-02-28 23:55:00+00:00  25.78  48.57  88677.45       0   0.167570   \n",
       "\n",
       "         btc_rev  \n",
       "0       0.013052  \n",
       "1       0.013052  \n",
       "2       0.013052  \n",
       "3       0.013052  \n",
       "4       0.013052  \n",
       "...          ...  \n",
       "336030  0.024633  \n",
       "336031  0.024633  \n",
       "336032  0.024633  \n",
       "336033  0.024633  \n",
       "336034  0.024633  \n",
       "\n",
       "[336035 rows x 7 columns]"
      ],
      "text/html": [
       "<div>\n",
       "<style scoped>\n",
       "    .dataframe tbody tr th:only-of-type {\n",
       "        vertical-align: middle;\n",
       "    }\n",
       "\n",
       "    .dataframe tbody tr th {\n",
       "        vertical-align: top;\n",
       "    }\n",
       "\n",
       "    .dataframe thead th {\n",
       "        text-align: right;\n",
       "    }\n",
       "</style>\n",
       "<table border=\"1\" class=\"dataframe\">\n",
       "  <thead>\n",
       "    <tr style=\"text-align: right;\">\n",
       "      <th></th>\n",
       "      <th>time</th>\n",
       "      <th>rt</th>\n",
       "      <th>da</th>\n",
       "      <th>btc</th>\n",
       "      <th>profit</th>\n",
       "      <th>elec_cost</th>\n",
       "      <th>btc_rev</th>\n",
       "    </tr>\n",
       "  </thead>\n",
       "  <tbody>\n",
       "    <tr>\n",
       "      <th>0</th>\n",
       "      <td>2021-12-20 05:05:00+00:00</td>\n",
       "      <td>27.30</td>\n",
       "      <td>24.49</td>\n",
       "      <td>46987.06</td>\n",
       "      <td>0</td>\n",
       "      <td>0.177450</td>\n",
       "      <td>0.013052</td>\n",
       "    </tr>\n",
       "    <tr>\n",
       "      <th>1</th>\n",
       "      <td>2021-12-20 05:10:00+00:00</td>\n",
       "      <td>21.55</td>\n",
       "      <td>24.49</td>\n",
       "      <td>46987.06</td>\n",
       "      <td>0</td>\n",
       "      <td>0.140075</td>\n",
       "      <td>0.013052</td>\n",
       "    </tr>\n",
       "    <tr>\n",
       "      <th>2</th>\n",
       "      <td>2021-12-20 05:15:00+00:00</td>\n",
       "      <td>21.34</td>\n",
       "      <td>24.49</td>\n",
       "      <td>46987.06</td>\n",
       "      <td>0</td>\n",
       "      <td>0.138710</td>\n",
       "      <td>0.013052</td>\n",
       "    </tr>\n",
       "    <tr>\n",
       "      <th>3</th>\n",
       "      <td>2021-12-20 05:20:00+00:00</td>\n",
       "      <td>22.30</td>\n",
       "      <td>24.49</td>\n",
       "      <td>46987.06</td>\n",
       "      <td>0</td>\n",
       "      <td>0.144950</td>\n",
       "      <td>0.013052</td>\n",
       "    </tr>\n",
       "    <tr>\n",
       "      <th>4</th>\n",
       "      <td>2021-12-20 05:25:00+00:00</td>\n",
       "      <td>20.59</td>\n",
       "      <td>24.49</td>\n",
       "      <td>46987.06</td>\n",
       "      <td>0</td>\n",
       "      <td>0.133835</td>\n",
       "      <td>0.013052</td>\n",
       "    </tr>\n",
       "    <tr>\n",
       "      <th>...</th>\n",
       "      <td>...</td>\n",
       "      <td>...</td>\n",
       "      <td>...</td>\n",
       "      <td>...</td>\n",
       "      <td>...</td>\n",
       "      <td>...</td>\n",
       "      <td>...</td>\n",
       "    </tr>\n",
       "    <tr>\n",
       "      <th>336030</th>\n",
       "      <td>2025-02-28 23:35:00+00:00</td>\n",
       "      <td>31.63</td>\n",
       "      <td>48.57</td>\n",
       "      <td>88677.45</td>\n",
       "      <td>0</td>\n",
       "      <td>0.205595</td>\n",
       "      <td>0.024633</td>\n",
       "    </tr>\n",
       "    <tr>\n",
       "      <th>336031</th>\n",
       "      <td>2025-02-28 23:40:00+00:00</td>\n",
       "      <td>31.13</td>\n",
       "      <td>48.57</td>\n",
       "      <td>88677.45</td>\n",
       "      <td>0</td>\n",
       "      <td>0.202345</td>\n",
       "      <td>0.024633</td>\n",
       "    </tr>\n",
       "    <tr>\n",
       "      <th>336032</th>\n",
       "      <td>2025-02-28 23:45:00+00:00</td>\n",
       "      <td>38.52</td>\n",
       "      <td>48.57</td>\n",
       "      <td>88677.45</td>\n",
       "      <td>0</td>\n",
       "      <td>0.250380</td>\n",
       "      <td>0.024633</td>\n",
       "    </tr>\n",
       "    <tr>\n",
       "      <th>336033</th>\n",
       "      <td>2025-02-28 23:50:00+00:00</td>\n",
       "      <td>41.08</td>\n",
       "      <td>48.57</td>\n",
       "      <td>88677.45</td>\n",
       "      <td>0</td>\n",
       "      <td>0.267020</td>\n",
       "      <td>0.024633</td>\n",
       "    </tr>\n",
       "    <tr>\n",
       "      <th>336034</th>\n",
       "      <td>2025-02-28 23:55:00+00:00</td>\n",
       "      <td>25.78</td>\n",
       "      <td>48.57</td>\n",
       "      <td>88677.45</td>\n",
       "      <td>0</td>\n",
       "      <td>0.167570</td>\n",
       "      <td>0.024633</td>\n",
       "    </tr>\n",
       "  </tbody>\n",
       "</table>\n",
       "<p>336035 rows × 7 columns</p>\n",
       "</div>"
      ]
     },
     "execution_count": 51,
     "metadata": {},
     "output_type": "execute_result"
    }
   ],
   "execution_count": 51
  },
  {
   "metadata": {
    "ExecuteTime": {
     "end_time": "2025-05-17T22:41:30.469423Z",
     "start_time": "2025-05-17T22:41:30.419460Z"
    }
   },
   "cell_type": "code",
   "source": [
    "z['break_even'] = z['btc'].apply(calc_breakeven)\n",
    "z['signal'] = np.where(z['btc_rev'] > z['elec_cost'], 1, 0)"
   ],
   "id": "47955d2c50f2536f",
   "outputs": [],
   "execution_count": 52
  },
  {
   "metadata": {
    "ExecuteTime": {
     "end_time": "2025-05-17T22:41:30.673869Z",
     "start_time": "2025-05-17T22:41:30.666541Z"
    }
   },
   "cell_type": "code",
   "source": "z['signal'].value_counts()",
   "id": "87c0cee77372b80",
   "outputs": [
    {
     "data": {
      "text/plain": [
       "signal\n",
       "0    326649\n",
       "1      9386\n",
       "Name: count, dtype: int64"
      ]
     },
     "execution_count": 53,
     "metadata": {},
     "output_type": "execute_result"
    }
   ],
   "execution_count": 53
  },
  {
   "metadata": {
    "ExecuteTime": {
     "end_time": "2025-05-17T22:41:30.870577Z",
     "start_time": "2025-05-17T22:41:30.868527Z"
    }
   },
   "cell_type": "code",
   "source": "9386/326649 *100",
   "id": "2d214250dd89fbc7",
   "outputs": [
    {
     "data": {
      "text/plain": [
       "2.873420705405496"
      ]
     },
     "execution_count": 54,
     "metadata": {},
     "output_type": "execute_result"
    }
   ],
   "execution_count": 54
  },
  {
   "metadata": {
    "ExecuteTime": {
     "end_time": "2025-05-17T22:41:31.400943Z",
     "start_time": "2025-05-17T22:41:31.397177Z"
    }
   },
   "cell_type": "code",
   "source": "z['cumulative_protfit'] = z['profit'].cumsum()",
   "id": "4aa05e066672c937",
   "outputs": [],
   "execution_count": 55
  },
  {
   "metadata": {
    "ExecuteTime": {
     "end_time": "2025-05-17T22:41:31.808766Z",
     "start_time": "2025-05-17T22:41:31.803511Z"
    }
   },
   "cell_type": "code",
   "source": "buy = z[z.signal ==1]",
   "id": "e0e0e1df54723753",
   "outputs": [],
   "execution_count": 56
  },
  {
   "metadata": {
    "ExecuteTime": {
     "end_time": "2025-05-17T22:41:32.502710Z",
     "start_time": "2025-05-17T22:41:32.440395Z"
    }
   },
   "cell_type": "code",
   "source": [
    "buy['rt'].plot()\n",
    "plt.show()"
   ],
   "id": "c4ba950ac7b9f399",
   "outputs": [
    {
     "data": {
      "text/plain": [
       "<Figure size 640x480 with 1 Axes>"
      ],
      "image/png": "[encoded data removed]"
     },
     "metadata": {},
     "output_type": "display_data"
    }
   ],
   "execution_count": 57
  },
  {
   "metadata": {
    "ExecuteTime": {
     "end_time": "2025-05-17T22:41:33.103030Z",
     "start_time": "2025-05-17T22:41:33.096336Z"
    }
   },
   "cell_type": "code",
   "source": "buy['rt'].describe()",
   "id": "97ace81c996d67c8",
   "outputs": [
    {
     "data": {
      "text/plain": [
       "count    9386.000000\n",
       "mean      -22.127155\n",
       "std        72.233446\n",
       "min      -615.130000\n",
       "25%       -10.920000\n",
       "50%        -3.750000\n",
       "75%        -0.320000\n",
       "max         4.230000\n",
       "Name: rt, dtype: float64"
      ]
     },
     "execution_count": 58,
     "metadata": {},
     "output_type": "execute_result"
    }
   ],
   "execution_count": 58
  },
  {
   "metadata": {
    "ExecuteTime": {
     "end_time": "2025-05-17T21:48:55.577328Z",
     "start_time": "2025-05-17T21:48:55.509264Z"
    }
   },
   "cell_type": "code",
   "source": [
    "z['cumulative_protfit'].plot()\n",
    "plt.show()"
   ],
   "id": "ef84cd69a3b79eef",
   "outputs": [
    {
     "data": {
      "text/plain": [
       "<Figure size 640x480 with 1 Axes>"
      ],
      "image/png": "[encoded data removed]"
     },
     "metadata": {},
     "output_type": "display_data"
    }
   ],
   "execution_count": 406
  },
  {
   "metadata": {
    "ExecuteTime": {
     "end_time": "2025-05-17T21:27:46.298809Z",
     "start_time": "2025-05-17T21:27:46.295948Z"
    }
   },
   "cell_type": "code",
   "source": [
    "#for example\n",
    "\n",
    "\"\"\"\n",
    "the day we bought energy the btc price was justified above the breakeven\n",
    "da>btc breakeven the next day\n",
    "\n",
    "so we already bought 3.77\n",
    "\n",
    "\n",
    "\n",
    "\n",
    "\n",
    "\n",
    "\"\"\""
   ],
   "id": "f02693c4a44a6254",
   "outputs": [
    {
     "data": {
      "text/plain": [
       "'\\nthe day we bought energy the btc price was justified above the breakeven\\nda>btc breakeven the next day\\n\\nso we already bought 3.77\\n\\n\\n\\n\\n\\n\\n'"
      ]
     },
     "execution_count": 330,
     "metadata": {},
     "output_type": "execute_result"
    }
   ],
   "execution_count": 330
  },
  {
   "metadata": {
    "ExecuteTime": {
     "end_time": "2025-05-17T04:12:35.092287Z",
     "start_time": "2025-05-17T04:12:35.086970Z"
    }
   },
   "cell_type": "code",
   "source": [
    "\"\"\"\n",
    "Questions to answer:\n",
    "\n",
    "- Estimate BTC/USD Volatility\n",
    "\n",
    "Strategy to be profitable?\n",
    "- Forecast profits for July 2025 - June 2026\n",
    "- Forecast some energy\n",
    "- Location of facility\n",
    "- Purchase power in DA and if not used sell in RT\n",
    "- Or purchase less power in DA if need more buy in RT\n",
    "\n",
    "\"\"\""
   ],
   "id": "fc104d4e1dc61aad",
   "outputs": [
    {
     "data": {
      "text/plain": [
       "'\\nQuestions to answer:\\n\\n- Estimate BTC/USD Volatility\\n\\nStrategy to be profitable?\\n- Forecast profits for July 2025 - June 2026\\n- Forecast some weather\\n- Location of facility\\n- Purchase power in DA and if not used sell in RT\\n- Or purchase less power in DA if need more buy in RT\\n\\n'"
      ]
     },
     "execution_count": 168,
     "metadata": {},
     "output_type": "execute_result"
    }
   ],
   "execution_count": 168
  },
  {
   "metadata": {
    "ExecuteTime": {
     "end_time": "2025-05-17T23:11:11.421873Z",
     "start_time": "2025-05-17T23:11:11.411924Z"
    }
   },
   "cell_type": "code",
   "source": "np.sqrt(btc['price_close'].std()/4)",
   "id": "af7b1b279c828728",
   "outputs": [
    {
     "data": {
      "text/plain": [
       "77.62854830374722"
      ]
     },
     "execution_count": 94,
     "metadata": {},
     "output_type": "execute_result"
    }
   ],
   "execution_count": 94
  },
  {
   "metadata": {
    "ExecuteTime": {
     "end_time": "2025-05-16T17:39:09.716148Z",
     "start_time": "2025-05-16T17:39:09.713757Z"
    }
   },
   "cell_type": "code",
   "source": [
    "\"\"\"\n",
    "Across 500 simulation what is the expected average annual excess profit (profit - rf rate)\n",
    "- forecast energy prices for 1 year\n",
    "- forecast btc prices for 1 year\n",
    "-\n",
    "\n",
    "What is the volatility in annual profitability\n",
    "What is the sharpe\n",
    "\n",
    "\n",
    "Would you buy the facility for 500k?\n",
    "-Base this off of the return given the volatility of BTC versus electricity\n",
    "- What is the breakeven expected value\n",
    "\"\"\""
   ],
   "id": "19a5c7a1557fe2c4",
   "outputs": [
    {
     "data": {
      "text/plain": [
       "'\\nAcross 500 simulation what is the expected average annual excess profit (profit - rf rate)\\n- forecast energy prices for 1 year\\n- forecast btc prices for 1 year\\n-\\n\\nWhat is the volatility in annual profitability\\nWhat is the sharpe\\n\\n\\nWould you buy the facility for 500k?\\n-Base this off of the return given the volatility of BTC versus electricity\\n- What is the breakeven expected value\\n'"
      ]
     },
     "execution_count": 10,
     "metadata": {},
     "output_type": "execute_result"
    }
   ],
   "execution_count": 10
  },
  {
   "metadata": {
    "ExecuteTime": {
     "end_time": "2025-05-16T17:39:10.175983Z",
     "start_time": "2025-05-16T17:39:10.173004Z"
    }
   },
   "cell_type": "code",
   "source": [
    "\"\"\"\n",
    "Intraday Analysis\n",
    "- Choose an hourly intraday period as well as a shorter intraday period\n",
    "- for reahc period what is the value of operating the BTC facility? What was the value of curtailment? What was the net payout?\n",
    "\n",
    "-Model BTC and Electricity volatility surface\n",
    "\n",
    "\n",
    "\"\"\""
   ],
   "id": "f9acf5a2b8a2cfb3",
   "outputs": [
    {
     "data": {
      "text/plain": [
       "'\\nIntraday Analysis\\n- Choose an hourly intraday period as well as a shorter intraday period\\n- for reahc period what is the value of operating the BTC facility? What was the value of curtailment? What was the net payout?\\n\\n-Model BTC and Electricity volatility surface\\n\\n\\n'"
      ]
     },
     "execution_count": 11,
     "metadata": {},
     "output_type": "execute_result"
    }
   ],
   "execution_count": 11
  },
  {
   "metadata": {
    "ExecuteTime": {
     "end_time": "2025-05-16T17:39:10.595271Z",
     "start_time": "2025-05-16T17:39:10.593458Z"
    }
   },
   "cell_type": "code",
   "source": "#part 2 change the node",
   "id": "da6a9d5128efc4ed",
   "outputs": [],
   "execution_count": 12
  },
  {
   "metadata": {
    "ExecuteTime": {
     "end_time": "2025-05-16T17:39:11.047943Z",
     "start_time": "2025-05-16T17:39:11.045685Z"
    }
   },
   "cell_type": "code",
   "source": [
    "# Per minerstat S19s pros consume 3250W of power to produce 110 TH/s and\n",
    "# generate 0.00008 BTC per day giving them an approximate breakeven of\n",
    "# $95/MWH at a BTC price of 93k"
   ],
   "id": "e3ba689f1c10840e",
   "outputs": [],
   "execution_count": 13
  },
  {
   "metadata": {
    "ExecuteTime": {
     "end_time": "2025-05-16T17:41:45.866470Z",
     "start_time": "2025-05-16T17:41:45.855130Z"
    }
   },
   "cell_type": "code",
   "source": "df_pred = pd.read_csv('btc_hourly_sim_45vol_20drift.csv', index_col=0)",
   "id": "37b903086ad23df2",
   "outputs": [],
   "execution_count": 32
  },
  {
   "metadata": {
    "ExecuteTime": {
     "end_time": "2025-05-16T17:41:46.009579Z",
     "start_time": "2025-05-16T17:41:45.999282Z"
    }
   },
   "cell_type": "code",
   "source": [
    "df_pred.index = pd.to_datetime(df_pred.index)\n",
    "df_pred = df_pred.resample('D').last()"
   ],
   "id": "2fc08a9d8561bfaf",
   "outputs": [],
   "execution_count": 33
  },
  {
   "metadata": {
    "ExecuteTime": {
     "end_time": "2025-05-16T17:41:46.213610Z",
     "start_time": "2025-05-16T17:41:46.130447Z"
    }
   },
   "cell_type": "code",
   "source": [
    "import matplotlib.pyplot as plt\n",
    "df_pred['BTC_USD'].plot()\n",
    "plt.show()"
   ],
   "id": "9564aa89355ae6df",
   "outputs": [
    {
     "data": {
      "text/plain": [
       "<Figure size 640x480 with 1 Axes>"
      ],
      "image/png": "[encoded data removed]"
     },
     "metadata": {},
     "output_type": "display_data"
    }
   ],
   "execution_count": 34
  },
  {
   "metadata": {},
   "cell_type": "code",
   "outputs": [],
   "execution_count": null,
   "source": "",
   "id": "667d554ef8443d60"
  }
 ],
 "metadata": {
  "kernelspec": {
   "display_name": "Python 3",
   "language": "python",
   "name": "python3"
  },
  "language_info": {
   "codemirror_mode": {
    "name": "ipython",
    "version": 2
   },
   "file_extension": ".py",
   "mimetype": "text/x-python",
   "name": "python",
   "nbconvert_exporter": "python",
   "pygments_lexer": "ipython2",
   "version": "2.7.6"
  }
 },
 "nbformat": 4,
 "nbformat_minor": 5
}
