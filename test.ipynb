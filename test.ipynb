{
 "cells": [
  {
   "cell_type": "code",
   "id": "initial_id",
   "metadata": {
    "collapsed": true,
    "ExecuteTime": {
     "end_time": "2025-05-14T04:33:55.667083Z",
     "start_time": "2025-05-14T04:33:55.651770Z"
    }
   },
   "source": [
    "import sys\n",
    "\n",
    "import pandas as pd\n",
    "import numpy as np\n",
    "import load_data\n",
    "import warnings\n",
    "warnings.filterwarnings('ignore')\n",
    "import importlib\n",
    "importlib.reload(load_data)"
   ],
   "outputs": [
    {
     "data": {
      "text/plain": [
       "<module 'load_data' from '/Users/kunjshah/Downloads/BTC_Mining_Project/load_data.py'>"
      ]
     },
     "execution_count": 47,
     "metadata": {},
     "output_type": "execute_result"
    }
   ],
   "execution_count": 47
  },
  {
   "metadata": {
    "ExecuteTime": {
     "end_time": "2025-05-14T04:26:14.163609Z",
     "start_time": "2025-05-14T04:26:14.160347Z"
    }
   },
   "cell_type": "code",
   "source": [
    "\"\"\"\n",
    "Bitcoin Mining: Solve complex puzzles to validate transactions and add them to blockchain\n",
    "\n",
    "puzzles involve computing SHA-256 Hashes over and over\n",
    "\n",
    "1 Hash = 1 attempt to solve the puzzle\n",
    "\n",
    "Hashrate = number of hashes/second\n",
    "\n",
    "\n",
    "Antminer = 110 TH/s which is 110 trillion guesses per second\n",
    "\n",
    "More hashrate = more revenue but more electricity usage\n",
    "\n",
    "\n",
    "\"\"\""
   ],
   "id": "251518b6e357e635",
   "outputs": [
    {
     "data": {
      "text/plain": [
       "'\\nBitcoin Mining: Solve complex puzzles to validate transactions and add them to blockchain\\n\\npuzzles involve computing SHA-256 Hashes over and over\\n\\n1 Hash = 1 attempt to solve the puzzle\\n\\nHashrate = number of hashes/second\\n\\n\\nAntminer = 110 TH/s which is 110 trillion guesses per second\\n\\nMore hashrate = more revenue but more electricity usage\\n\\n\\n'"
      ]
     },
     "execution_count": 6,
     "metadata": {},
     "output_type": "execute_result"
    }
   ],
   "execution_count": 6
  },
  {
   "metadata": {
    "ExecuteTime": {
     "end_time": "2025-05-14T04:27:31.527016Z",
     "start_time": "2025-05-14T04:27:31.501796Z"
    }
   },
   "cell_type": "code",
   "source": "da = load_data.NSP_NW_da_data()",
   "id": "423bd6eba471ecbe",
   "outputs": [],
   "execution_count": 11
  },
  {
   "metadata": {
    "ExecuteTime": {
     "end_time": "2025-05-14T04:27:35.701385Z",
     "start_time": "2025-05-14T04:27:35.611018Z"
    }
   },
   "cell_type": "code",
   "source": "rt = load_data.NSP_NW_rt_data()",
   "id": "8c48a1e75cc43ffd",
   "outputs": [],
   "execution_count": 13
  },
  {
   "metadata": {
    "ExecuteTime": {
     "end_time": "2025-05-14T04:34:30.198211Z",
     "start_time": "2025-05-14T04:34:30.164717Z"
    }
   },
   "cell_type": "code",
   "source": "btc = load_data.btc_data(time = 'hourly')",
   "id": "c403cb82601f67c1",
   "outputs": [],
   "execution_count": 51
  },
  {
   "metadata": {
    "ExecuteTime": {
     "end_time": "2025-05-14T04:35:26.220381Z",
     "start_time": "2025-05-14T04:35:26.215913Z"
    }
   },
   "cell_type": "code",
   "source": [
    "#Assumptions\n",
    "btc_data = btc #history of btc_data\n",
    "btc_price = load_data.get_btc_price() #price btcusd current\n",
    "power_consumption =3250 #watts\n",
    "hashrate = 110 #TH/s\n",
    "num_antminer = 1000\n",
    "rf = 0.04 #annualized rf rate\n",
    "\n",
    "btc_day = 0.00008\n",
    "\n",
    "\n",
    "breakeven = 95 #$/MWH when btc 93k\n"
   ],
   "id": "1682173140c2825d",
   "outputs": [],
   "execution_count": 53
  },
  {
   "metadata": {
    "ExecuteTime": {
     "end_time": "2025-05-14T04:35:32.970940Z",
     "start_time": "2025-05-14T04:35:32.967714Z"
    }
   },
   "cell_type": "code",
   "source": [
    "def calc_breakeven():\n",
    "    watts =3250\n",
    "    watt_to_megawatt = 1000000\n",
    "    hours = 24\n",
    "    megawatt_per_hour = watts * hours / watt_to_megawatt\n",
    "    #print(f\"MWH: {megawatt_per_hour}\")\n",
    "    btc_price = load_data.get_btc_price()\n",
    "    btc_gen= 0.00008 #per day,\n",
    "    dv = btc_price* btc_gen\n",
    "    #print(f\"Dollar Value: {dv}\")\n",
    "    breakeven = dv/ megawatt_per_hour\n",
    "    return breakeven"
   ],
   "id": "65303ecd847ed5fa",
   "outputs": [],
   "execution_count": 55
  },
  {
   "metadata": {},
   "cell_type": "code",
   "outputs": [],
   "execution_count": null,
   "source": [
    "\"\"\"\n",
    "Questions to answer:\n",
    "\n",
    "- Estimate BTC/USD Volatility\n",
    "\n",
    "Strategy to be profitable?\n",
    "- Forecast profits for July 2025 - June 2026\n",
    "- Forecast some weather\n",
    "- Location of facility\n",
    "- Purchase power in DA and if not used sell in RT\n",
    "- Or purchase less power in DA if need more buy in RT\n",
    "\n",
    "\"\"\""
   ],
   "id": "fc104d4e1dc61aad"
  },
  {
   "metadata": {},
   "cell_type": "code",
   "outputs": [],
   "execution_count": null,
   "source": [
    "\"\"\"\n",
    "Across 500 simulation what is the expected average annual excess profit (profit - rf rate)\n",
    "- forecast energy prices for 1 year\n",
    "- forecast btc prices for 1 year\n",
    "-\n",
    "\n",
    "What is the volatility in annual profitability\n",
    "What is the sharpe\n",
    "\n",
    "\n",
    "Would you buy the facility for 500k?\n",
    "-Base this off of the return given the volatility of BTC versus electricity\n",
    "- What is the breakeven expected value\n",
    "\"\"\""
   ],
   "id": "19a5c7a1557fe2c4"
  },
  {
   "metadata": {
    "ExecuteTime": {
     "end_time": "2025-05-13T23:39:30.327733Z",
     "start_time": "2025-05-13T23:39:30.320571Z"
    }
   },
   "cell_type": "code",
   "outputs": [
    {
     "data": {
      "text/plain": [
       "'\\nIntraday Analysis\\n- Choose an hourly intraday period as well as a shorter intraday period\\n- for reahc period what is the value of operating the BTC facility? What was the value of curtailment? What was the net payout?\\n\\n-Model BTC and Electricity volatility surface\\n\\n\\n'"
      ]
     },
     "execution_count": 73,
     "metadata": {},
     "output_type": "execute_result"
    }
   ],
   "execution_count": 73,
   "source": [
    "\"\"\"\n",
    "Intraday Analysis\n",
    "- Choose an hourly intraday period as well as a shorter intraday period\n",
    "- for reahc period what is the value of operating the BTC facility? What was the value of curtailment? What was the net payout?\n",
    "\n",
    "-Model BTC and Electricity volatility surface\n",
    "\n",
    "\n",
    "\"\"\""
   ],
   "id": "f9acf5a2b8a2cfb3"
  },
  {
   "metadata": {
    "ExecuteTime": {
     "end_time": "2025-05-13T23:39:30.549998Z",
     "start_time": "2025-05-13T23:39:30.544434Z"
    }
   },
   "cell_type": "code",
   "outputs": [],
   "execution_count": 74,
   "source": "#part 2 change the node",
   "id": "da6a9d5128efc4ed"
  },
  {
   "metadata": {
    "ExecuteTime": {
     "end_time": "2025-05-13T23:39:30.741206Z",
     "start_time": "2025-05-13T23:39:30.738550Z"
    }
   },
   "cell_type": "code",
   "outputs": [],
   "execution_count": 75,
   "source": [
    "# Per minerstat S19s pros consume 3250W of power to produce 110 TH/s and\n",
    "# generate 0.00008 BTC per day giving them an approximate breakeven of\n",
    "# $95/MWH at a BTC price of 93k"
   ],
   "id": "e3ba689f1c10840e"
  }
 ],
 "metadata": {
  "kernelspec": {
   "display_name": "Python 3",
   "language": "python",
   "name": "python3"
  },
  "language_info": {
   "codemirror_mode": {
    "name": "ipython",
    "version": 2
   },
   "file_extension": ".py",
   "mimetype": "text/x-python",
   "name": "python",
   "nbconvert_exporter": "python",
   "pygments_lexer": "ipython2",
   "version": "2.7.6"
  }
 },
 "nbformat": 4,
 "nbformat_minor": 5
}
