{
 "cells": [
  {
   "cell_type": "code",
   "id": "initial_id",
   "metadata": {
    "collapsed": true,
    "ExecuteTime": {
     "end_time": "2025-05-13T22:47:24.795770Z",
     "start_time": "2025-05-13T22:47:24.422883Z"
    }
   },
   "source": [
    "import pandas as pd\n",
    "import numpy as np\n",
    "import warnings\n",
    "warnings.filterwarnings('ignore')"
   ],
   "outputs": [],
   "execution_count": 1
  },
  {
   "metadata": {
    "ExecuteTime": {
     "end_time": "2025-05-13T23:39:50.376930Z",
     "start_time": "2025-05-13T23:39:50.372098Z"
    }
   },
   "cell_type": "code",
   "source": [
    "\"\"\"\n",
    "Bitcoin Mining: Solve complex puzzles to validate transactions and add them to blockchain\n",
    "\n",
    "puzzles involve computing SHA-256 Hashes over and over\n",
    "\n",
    "1 Hash = 1 attempt to solve the puzzle\n",
    "\n",
    "Hashrate = number of hashes/second\n",
    "\n",
    "\n",
    "Antminer = 110 TH/s which is 110 trillion guesses per second\n",
    "\n",
    "More hashrate = more revenue but more electricity usage\n",
    "\n",
    "\n",
    "\"\"\""
   ],
   "id": "251518b6e357e635",
   "outputs": [
    {
     "data": {
      "text/plain": [
       "'\\nBitcoin Mining: Solve complex puzzles to validate transactions and add them to blockchain\\n\\npuzzles involve computing SHA-256 Hashes over and over\\n\\n1 Hash = 1 attempt to solve the puzzle\\n\\nHashrate = number of hashes/second\\n\\n\\nAntminer = 110 TH/s which is 110 trillion guesses per second\\n\\nMore hashrate = more revenue but more electricity usage\\n\\n\\n'"
      ]
     },
     "execution_count": 79,
     "metadata": {},
     "output_type": "execute_result"
    }
   ],
   "execution_count": 79
  },
  {
   "metadata": {
    "ExecuteTime": {
     "end_time": "2025-05-13T23:39:55.634884Z",
     "start_time": "2025-05-13T23:39:55.631620Z"
    }
   },
   "cell_type": "code",
   "source": [
    "import requests\n",
    "\n",
    "def get_btc_price():\n",
    "    # url = \"https://api.coingecko.com/api/v3/simple/price\"\n",
    "    # params = {\n",
    "    #     'ids': 'bitcoin',\n",
    "    #     'vs_currencies': 'usd'\n",
    "    # }\n",
    "    # response = requests.get(url, params=params)\n",
    "    # print(response.json())\n",
    "    # data = response.json()\n",
    "    # return data['bitcoin']['usd']\n",
    "    btc_price = 105_000\n",
    "    return btc_price\n",
    "\n",
    "# Example usage\n",
    "btc_price = get_btc_price()\n",
    "print(f\"Current BTC Price: ${btc_price}\")"
   ],
   "id": "669e4e2e568fd6ad",
   "outputs": [
    {
     "name": "stdout",
     "output_type": "stream",
     "text": [
      "Current BTC Price: $105000\n"
     ]
    }
   ],
   "execution_count": 81
  },
  {
   "metadata": {
    "ExecuteTime": {
     "end_time": "2025-05-13T23:39:55.794208Z",
     "start_time": "2025-05-13T23:39:55.791793Z"
    }
   },
   "cell_type": "code",
   "source": [
    "def load_clean_NSP_NW_da_data():\n",
    "    da = pd.read_parquet('data/DA_MISO_NSP_NWELOAD.parquet')\n",
    "    da['interval_start_local'] = pd.to_datetime(da['interval_start_local'])\n",
    "    da['interval_end_local'] = pd.to_datetime(da['interval_end_local'])\n",
    "    da['interval_start_utc'] = pd.to_datetime(da['interval_start_utc'])\n",
    "    da.sort_values('interval_start_local', inplace=True)\n",
    "    return da"
   ],
   "id": "b3e817bef653ed90",
   "outputs": [],
   "execution_count": 82
  },
  {
   "metadata": {
    "ExecuteTime": {
     "end_time": "2025-05-13T23:39:56.416983Z",
     "start_time": "2025-05-13T23:39:56.391233Z"
    }
   },
   "cell_type": "code",
   "source": "da = load_clean_NSP_NW_da_data()",
   "id": "423bd6eba471ecbe",
   "outputs": [],
   "execution_count": 83
  },
  {
   "metadata": {
    "ExecuteTime": {
     "end_time": "2025-05-13T23:39:57.025072Z",
     "start_time": "2025-05-13T23:39:57.022054Z"
    }
   },
   "cell_type": "code",
   "source": [
    "def load_clean_NSP_NW_rt_data():\n",
    "    rt = pd.read_parquet('data/RT_MISO_NSP_NWRT.parquet')\n",
    "    rt['interval_start_local'] = pd.to_datetime(rt['interval_start_local'])\n",
    "    rt['interval_end_local'] = pd.to_datetime(rt['interval_end_local'])\n",
    "    rt['interval_start_utc'] = pd.to_datetime(rt['interval_start_utc'])\n",
    "    rt.sort_values('interval_start_local', inplace=True)\n",
    "\n",
    "    return rt\n"
   ],
   "id": "80124d788b6b7ce9",
   "outputs": [],
   "execution_count": 84
  },
  {
   "metadata": {
    "ExecuteTime": {
     "end_time": "2025-05-13T23:39:58.036205Z",
     "start_time": "2025-05-13T23:39:57.933279Z"
    }
   },
   "cell_type": "code",
   "source": [
    "rt = load_clean_NSP_NW_rt_data()\n",
    "rt.head()"
   ],
   "id": "8c48a1e75cc43ffd",
   "outputs": [
    {
     "data": {
      "text/plain": [
       "       interval_start_local        interval_start_utc  \\\n",
       "0 2021-12-19 23:00:00-06:00 2021-12-20 05:00:00+00:00   \n",
       "1 2021-12-19 23:05:00-06:00 2021-12-20 05:05:00+00:00   \n",
       "2 2021-12-19 23:10:00-06:00 2021-12-20 05:10:00+00:00   \n",
       "3 2021-12-19 23:15:00-06:00 2021-12-20 05:15:00+00:00   \n",
       "4 2021-12-19 23:20:00-06:00 2021-12-20 05:20:00+00:00   \n",
       "\n",
       "         interval_end_local           interval_end_utc                 market  \\\n",
       "0 2021-12-19 23:05:00-06:00  2021-12-20 05:05:00+00:00  REAL_TIME_5_MIN_FINAL   \n",
       "1 2021-12-19 23:10:00-06:00  2021-12-20 05:10:00+00:00  REAL_TIME_5_MIN_FINAL   \n",
       "2 2021-12-19 23:15:00-06:00  2021-12-20 05:15:00+00:00  REAL_TIME_5_MIN_FINAL   \n",
       "3 2021-12-19 23:20:00-06:00  2021-12-20 05:20:00+00:00  REAL_TIME_5_MIN_FINAL   \n",
       "4 2021-12-19 23:25:00-06:00  2021-12-20 05:25:00+00:00  REAL_TIME_5_MIN_FINAL   \n",
       "\n",
       "      location location_type    lmp  energy  congestion  loss  \n",
       "0  NSP.NWELOAD      Loadzone  27.30   33.62       -6.86  0.54  \n",
       "1  NSP.NWELOAD      Loadzone  21.55   31.09      -10.17  0.63  \n",
       "2  NSP.NWELOAD      Loadzone  21.34   31.50      -10.58  0.42  \n",
       "3  NSP.NWELOAD      Loadzone  22.30   32.67      -10.88  0.51  \n",
       "4  NSP.NWELOAD      Loadzone  20.59   33.81      -13.73  0.51  "
      ],
      "text/html": [
       "<div>\n",
       "<style scoped>\n",
       "    .dataframe tbody tr th:only-of-type {\n",
       "        vertical-align: middle;\n",
       "    }\n",
       "\n",
       "    .dataframe tbody tr th {\n",
       "        vertical-align: top;\n",
       "    }\n",
       "\n",
       "    .dataframe thead th {\n",
       "        text-align: right;\n",
       "    }\n",
       "</style>\n",
       "<table border=\"1\" class=\"dataframe\">\n",
       "  <thead>\n",
       "    <tr style=\"text-align: right;\">\n",
       "      <th></th>\n",
       "      <th>interval_start_local</th>\n",
       "      <th>interval_start_utc</th>\n",
       "      <th>interval_end_local</th>\n",
       "      <th>interval_end_utc</th>\n",
       "      <th>market</th>\n",
       "      <th>location</th>\n",
       "      <th>location_type</th>\n",
       "      <th>lmp</th>\n",
       "      <th>energy</th>\n",
       "      <th>congestion</th>\n",
       "      <th>loss</th>\n",
       "    </tr>\n",
       "  </thead>\n",
       "  <tbody>\n",
       "    <tr>\n",
       "      <th>0</th>\n",
       "      <td>2021-12-19 23:00:00-06:00</td>\n",
       "      <td>2021-12-20 05:00:00+00:00</td>\n",
       "      <td>2021-12-19 23:05:00-06:00</td>\n",
       "      <td>2021-12-20 05:05:00+00:00</td>\n",
       "      <td>REAL_TIME_5_MIN_FINAL</td>\n",
       "      <td>NSP.NWELOAD</td>\n",
       "      <td>Loadzone</td>\n",
       "      <td>27.30</td>\n",
       "      <td>33.62</td>\n",
       "      <td>-6.86</td>\n",
       "      <td>0.54</td>\n",
       "    </tr>\n",
       "    <tr>\n",
       "      <th>1</th>\n",
       "      <td>2021-12-19 23:05:00-06:00</td>\n",
       "      <td>2021-12-20 05:05:00+00:00</td>\n",
       "      <td>2021-12-19 23:10:00-06:00</td>\n",
       "      <td>2021-12-20 05:10:00+00:00</td>\n",
       "      <td>REAL_TIME_5_MIN_FINAL</td>\n",
       "      <td>NSP.NWELOAD</td>\n",
       "      <td>Loadzone</td>\n",
       "      <td>21.55</td>\n",
       "      <td>31.09</td>\n",
       "      <td>-10.17</td>\n",
       "      <td>0.63</td>\n",
       "    </tr>\n",
       "    <tr>\n",
       "      <th>2</th>\n",
       "      <td>2021-12-19 23:10:00-06:00</td>\n",
       "      <td>2021-12-20 05:10:00+00:00</td>\n",
       "      <td>2021-12-19 23:15:00-06:00</td>\n",
       "      <td>2021-12-20 05:15:00+00:00</td>\n",
       "      <td>REAL_TIME_5_MIN_FINAL</td>\n",
       "      <td>NSP.NWELOAD</td>\n",
       "      <td>Loadzone</td>\n",
       "      <td>21.34</td>\n",
       "      <td>31.50</td>\n",
       "      <td>-10.58</td>\n",
       "      <td>0.42</td>\n",
       "    </tr>\n",
       "    <tr>\n",
       "      <th>3</th>\n",
       "      <td>2021-12-19 23:15:00-06:00</td>\n",
       "      <td>2021-12-20 05:15:00+00:00</td>\n",
       "      <td>2021-12-19 23:20:00-06:00</td>\n",
       "      <td>2021-12-20 05:20:00+00:00</td>\n",
       "      <td>REAL_TIME_5_MIN_FINAL</td>\n",
       "      <td>NSP.NWELOAD</td>\n",
       "      <td>Loadzone</td>\n",
       "      <td>22.30</td>\n",
       "      <td>32.67</td>\n",
       "      <td>-10.88</td>\n",
       "      <td>0.51</td>\n",
       "    </tr>\n",
       "    <tr>\n",
       "      <th>4</th>\n",
       "      <td>2021-12-19 23:20:00-06:00</td>\n",
       "      <td>2021-12-20 05:20:00+00:00</td>\n",
       "      <td>2021-12-19 23:25:00-06:00</td>\n",
       "      <td>2021-12-20 05:25:00+00:00</td>\n",
       "      <td>REAL_TIME_5_MIN_FINAL</td>\n",
       "      <td>NSP.NWELOAD</td>\n",
       "      <td>Loadzone</td>\n",
       "      <td>20.59</td>\n",
       "      <td>33.81</td>\n",
       "      <td>-13.73</td>\n",
       "      <td>0.51</td>\n",
       "    </tr>\n",
       "  </tbody>\n",
       "</table>\n",
       "</div>"
      ]
     },
     "execution_count": 85,
     "metadata": {},
     "output_type": "execute_result"
    }
   ],
   "execution_count": 85
  },
  {
   "metadata": {
    "ExecuteTime": {
     "end_time": "2025-05-13T23:39:58.704553Z",
     "start_time": "2025-05-13T23:39:58.701359Z"
    }
   },
   "cell_type": "code",
   "source": [
    "def load_btc_data():\n",
    "    x = pd.read_parquet('data/btc_data.parquet')\n",
    "    x.rename(columns={'Unnamed: 0':'time_end'}, inplace=True)\n",
    "    x['time_end'] = pd.to_datetime(x['time_end'])\n",
    "    x.drop(columns=['time_open','time_close'], inplace=True)\n",
    "    # x['time_open'] = pd.to_datetime(x['time_open'])\n",
    "    # x['time_close'] = pd.to_datetime(x['time_close'])\n",
    "    x = x.iloc[1:]\n",
    "    return x\n"
   ],
   "id": "94f5276e9ccff4b2",
   "outputs": [],
   "execution_count": 86
  },
  {
   "metadata": {
    "ExecuteTime": {
     "end_time": "2025-05-13T23:39:59.567927Z",
     "start_time": "2025-05-13T23:39:59.484965Z"
    }
   },
   "cell_type": "code",
   "source": "df = load_btc_data()",
   "id": "c403cb82601f67c1",
   "outputs": [],
   "execution_count": 87
  },
  {
   "metadata": {
    "ExecuteTime": {
     "end_time": "2025-05-13T23:40:00.536989Z",
     "start_time": "2025-05-13T23:40:00.369239Z"
    }
   },
   "cell_type": "code",
   "source": [
    "#Assumptions\n",
    "btc_data = load_btc_data() #history of btc_data\n",
    "btc_price = get_btc_price() #price btcusd current\n",
    "power_consumption =3250 #watts\n",
    "hashrate = 110 #TH/s\n",
    "num_antminer = 1000\n",
    "rf = 0.04 #annualized rf rate\n",
    "\n",
    "\n",
    "rt = load_clean_NSP_NW_da_data()\n",
    "da = load_clean_NSP_NW_rt_data()\n",
    "\n",
    "btc_day = 0.00008\n",
    "\n",
    "\n",
    "breakeven = 95 #$/MWH when btc 93k\n"
   ],
   "id": "1682173140c2825d",
   "outputs": [],
   "execution_count": 88
  },
  {
   "metadata": {
    "ExecuteTime": {
     "end_time": "2025-05-13T23:40:01.491707Z",
     "start_time": "2025-05-13T23:40:01.488607Z"
    }
   },
   "cell_type": "code",
   "source": [
    "def calc_breakeven():\n",
    "    watts =3250\n",
    "    watt_to_megawatt = 1000000\n",
    "    hours = 24\n",
    "    megawatt_per_hour = watts * hours / watt_to_megawatt\n",
    "    #print(f\"MWH: {megawatt_per_hour}\")\n",
    "    btc_price = get_btc_price()\n",
    "    btc_gen= 0.00008 #per day,\n",
    "    dv = btc_price* btc_gen\n",
    "    #print(f\"Dollar Value: {dv}\")\n",
    "    breakeven = dv/ megawatt_per_hour\n",
    "    return breakeven"
   ],
   "id": "65303ecd847ed5fa",
   "outputs": [],
   "execution_count": 89
  },
  {
   "metadata": {},
   "cell_type": "code",
   "outputs": [],
   "execution_count": null,
   "source": [
    "\"\"\"\n",
    "Questions to answer:\n",
    "\n",
    "- Estimate BTC/USD Volatility\n",
    "\n",
    "Strategy to be profitable?\n",
    "- Forecast profits for July 2025 - June 2026\n",
    "- Forecast some weather\n",
    "- Location of facility\n",
    "- Purchase power in DA and if not used sell in RT\n",
    "- Or purchase less power in DA if need more buy in RT\n",
    "\n",
    "\"\"\""
   ],
   "id": "fc104d4e1dc61aad"
  },
  {
   "metadata": {},
   "cell_type": "code",
   "outputs": [],
   "execution_count": null,
   "source": [
    "\"\"\"\n",
    "Across 500 simulation what is the expected average annual excess profit (profit - rf rate)\n",
    "- forecast energy prices for 1 year\n",
    "- forecast btc prices for 1 year\n",
    "-\n",
    "\n",
    "What is the volatility in annual profitability\n",
    "What is the sharpe\n",
    "\n",
    "\n",
    "Would you buy the facility for 500k?\n",
    "-Base this off of the return given the volatility of BTC versus electricity\n",
    "- What is the breakeven expected value\n",
    "\"\"\""
   ],
   "id": "19a5c7a1557fe2c4"
  },
  {
   "metadata": {
    "ExecuteTime": {
     "end_time": "2025-05-13T23:39:30.327733Z",
     "start_time": "2025-05-13T23:39:30.320571Z"
    }
   },
   "cell_type": "code",
   "outputs": [
    {
     "data": {
      "text/plain": [
       "'\\nIntraday Analysis\\n- Choose an hourly intraday period as well as a shorter intraday period\\n- for reahc period what is the value of operating the BTC facility? What was the value of curtailment? What was the net payout?\\n\\n-Model BTC and Electricity volatility surface\\n\\n\\n'"
      ]
     },
     "execution_count": 73,
     "metadata": {},
     "output_type": "execute_result"
    }
   ],
   "execution_count": 73,
   "source": [
    "\"\"\"\n",
    "Intraday Analysis\n",
    "- Choose an hourly intraday period as well as a shorter intraday period\n",
    "- for reahc period what is the value of operating the BTC facility? What was the value of curtailment? What was the net payout?\n",
    "\n",
    "-Model BTC and Electricity volatility surface\n",
    "\n",
    "\n",
    "\"\"\""
   ],
   "id": "f9acf5a2b8a2cfb3"
  },
  {
   "metadata": {
    "ExecuteTime": {
     "end_time": "2025-05-13T23:39:30.549998Z",
     "start_time": "2025-05-13T23:39:30.544434Z"
    }
   },
   "cell_type": "code",
   "outputs": [],
   "execution_count": 74,
   "source": "#part 2 change the node",
   "id": "da6a9d5128efc4ed"
  },
  {
   "metadata": {
    "ExecuteTime": {
     "end_time": "2025-05-13T23:39:30.741206Z",
     "start_time": "2025-05-13T23:39:30.738550Z"
    }
   },
   "cell_type": "code",
   "outputs": [],
   "execution_count": 75,
   "source": [
    "# Per minerstat S19s pros consume 3250W of power to produce 110 TH/s and\n",
    "# generate 0.00008 BTC per day giving them an approximate breakeven of\n",
    "# $95/MWH at a BTC price of 93k"
   ],
   "id": "e3ba689f1c10840e"
  },
  {
   "metadata": {
    "ExecuteTime": {
     "end_time": "2025-05-13T22:47:25.167269Z",
     "start_time": "2025-05-13T22:39:11.265431Z"
    }
   },
   "cell_type": "code",
   "outputs": [
    {
     "name": "stdout",
     "output_type": "stream",
     "text": [
      "MWH: 0.078\n"
     ]
    }
   ],
   "execution_count": 87,
   "source": [
    "#input\n",
    "watts =3250\n",
    "watt_to_megawatt = 1000000\n",
    "hours = 24\n",
    "btc_gen= 0.00008 #per day,\n",
    "megawatt_per_hour = watts * hours / watt_to_megawatt\n",
    "print(f\"MWH: {megawatt_per_hour}\")"
   ],
   "id": "6dc71af2bfc9f5d4"
  },
  {
   "metadata": {
    "ExecuteTime": {
     "end_time": "2025-05-13T22:47:25.167437Z",
     "start_time": "2025-05-13T22:31:18.855965Z"
    }
   },
   "cell_type": "code",
   "outputs": [
    {
     "name": "stdout",
     "output_type": "stream",
     "text": [
      "Dollar Value: 8.33744\n"
     ]
    }
   ],
   "execution_count": 81,
   "source": [
    "btc_price = get_btc_price()\n",
    "btc_gen= 0.00008 #per day,\n",
    "dv = btc_price* btc_gen\n",
    "print(f\"Dollar Value: {dv}\")"
   ],
   "id": "5ba8396b355782bb"
  },
  {
   "metadata": {
    "ExecuteTime": {
     "end_time": "2025-05-13T22:49:22.886365Z",
     "start_time": "2025-05-13T22:49:22.883881Z"
    }
   },
   "cell_type": "code",
   "source": [
    "breakeven = calc_breakeven()\n",
    "print(f\"Breakeven: {breakeven}\")"
   ],
   "id": "653cd2cd5f826d7a",
   "outputs": [
    {
     "name": "stdout",
     "output_type": "stream",
     "text": [
      "Breakeven: 107.6923076923077\n"
     ]
    }
   ],
   "execution_count": 9
  },
  {
   "metadata": {
    "ExecuteTime": {
     "end_time": "2025-05-13T22:47:25.167517Z",
     "start_time": "2025-05-13T22:47:00.484863Z"
    }
   },
   "cell_type": "code",
   "outputs": [
    {
     "name": "stdout",
     "output_type": "stream",
     "text": [
      "Breakeven: 106.89025641025643\n"
     ]
    }
   ],
   "execution_count": 102,
   "source": [
    "breakeven = dv/ megawatt_per_hour\n",
    "print(f\"Breakeven: {breakeven}\")\n",
    "\n",
    "#if energy is more expensive than the break even we are at a loss/ else\n",
    "#basically if btc price goes up we can spend more on energy\n",
    "\n"
   ],
   "id": "755cbc3acfcd04d9"
  }
 ],
 "metadata": {
  "kernelspec": {
   "display_name": "Python 3",
   "language": "python",
   "name": "python3"
  },
  "language_info": {
   "codemirror_mode": {
    "name": "ipython",
    "version": 2
   },
   "file_extension": ".py",
   "mimetype": "text/x-python",
   "name": "python",
   "nbconvert_exporter": "python",
   "pygments_lexer": "ipython2",
   "version": "2.7.6"
  }
 },
 "nbformat": 4,
 "nbformat_minor": 5
}
