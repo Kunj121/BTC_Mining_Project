{
 "cells": [
  {
   "cell_type": "code",
   "id": "initial_id",
   "metadata": {
    "collapsed": true,
    "ExecuteTime": {
     "end_time": "2025-05-13T22:47:24.795770Z",
     "start_time": "2025-05-13T22:47:24.422883Z"
    }
   },
   "source": [
    "import pandas as pd\n",
    "import numpy as np\n",
    "import warnings\n",
    "warnings.filterwarnings('ignore')"
   ],
   "outputs": [],
   "execution_count": 1
  },
  {
   "metadata": {
    "ExecuteTime": {
     "end_time": "2025-05-13T22:47:24.799273Z",
     "start_time": "2025-05-13T22:47:24.798222Z"
    }
   },
   "cell_type": "code",
   "source": "",
   "id": "aed621577f6be363",
   "outputs": [],
   "execution_count": null
  },
  {
   "metadata": {
    "ExecuteTime": {
     "end_time": "2025-05-13T22:47:24.975480Z",
     "start_time": "2025-05-13T22:47:24.972921Z"
    }
   },
   "cell_type": "code",
   "source": [
    "\"\"\"\n",
    "Bitcoin Mining: Solve complex puzzles to validate transactions and add them to blockchain\n",
    "\n",
    "puzzles involve computing SHA-256 Hashes over and over\n",
    "\n",
    "1 Hash = 1 attempt to solve the puzzle\n",
    "\n",
    "Hashrate = number of hashes/second\n",
    "\n",
    "\n",
    "Antminer = 110 TH/s which is 110 trillion guesses per second\n",
    "\n",
    "More hashrate = more revenue but more electricity usage\n",
    "\n",
    "\n",
    "\"\"\""
   ],
   "id": "251518b6e357e635",
   "outputs": [
    {
     "data": {
      "text/plain": [
       "'\\nBitcoin Mining: Solve complex puzzles to validate transactions and add them to blockchain\\n\\npuzzles involve computing SHA-256 Hashes over and over\\n\\n1 Hash = 1 attempt to solve the puzzle\\n\\nHashrate = number of hashes/second\\n\\n\\nAntminer = 110 TH/s which is 110 trillion guesses per second\\n\\nMore hashrate = more revenue but more electricity usage\\n\\n\\n'"
      ]
     },
     "execution_count": 2,
     "metadata": {},
     "output_type": "execute_result"
    }
   ],
   "execution_count": 2
  },
  {
   "metadata": {
    "ExecuteTime": {
     "end_time": "2025-05-13T22:49:29.675615Z",
     "start_time": "2025-05-13T22:49:29.672740Z"
    }
   },
   "cell_type": "code",
   "source": [
    "import requests\n",
    "\n",
    "def get_btc_price():\n",
    "    # url = \"https://api.coingecko.com/api/v3/simple/price\"\n",
    "    # params = {\n",
    "    #     'ids': 'bitcoin',\n",
    "    #     'vs_currencies': 'usd'\n",
    "    # }\n",
    "    # response = requests.get(url, params=params)\n",
    "    # print(response.json())\n",
    "    # data = response.json()\n",
    "    # return data['bitcoin']['usd']\n",
    "    btc_price = 105_000\n",
    "    return btc_price\n",
    "\n",
    "# Example usage\n",
    "btc_price = get_btc_price()\n",
    "print(f\"Current BTC Price: ${btc_price}\")"
   ],
   "id": "669e4e2e568fd6ad",
   "outputs": [
    {
     "name": "stdout",
     "output_type": "stream",
     "text": [
      "Current BTC Price: $105000\n"
     ]
    }
   ],
   "execution_count": 11
  },
  {
   "metadata": {
    "ExecuteTime": {
     "end_time": "2025-05-13T22:49:29.826708Z",
     "start_time": "2025-05-13T22:49:29.825173Z"
    }
   },
   "cell_type": "code",
   "source": "",
   "id": "75d5adb6992a40bb",
   "outputs": [],
   "execution_count": null
  },
  {
   "metadata": {
    "ExecuteTime": {
     "end_time": "2025-05-13T22:49:43.737358Z",
     "start_time": "2025-05-13T22:49:43.733984Z"
    }
   },
   "cell_type": "code",
   "source": [
    "def load_clean_NSP_NW_da_data():\n",
    "    da = pd.read_parquet('DA_MISO_NSP_NWELOAD.parquet')\n",
    "    da['interval_start_local'] = pd.to_datetime(da['interval_start_local'])\n",
    "    da['interval_end_local'] = pd.to_datetime(da['interval_end_local'])\n",
    "    da['interval_start_utc'] = pd.to_datetime(da['interval_start_utc'])\n",
    "    da.sort_values('interval_start_local', inplace=True)\n",
    "    return da"
   ],
   "id": "b3e817bef653ed90",
   "outputs": [],
   "execution_count": 17
  },
  {
   "metadata": {
    "ExecuteTime": {
     "end_time": "2025-05-13T22:49:59.442742Z",
     "start_time": "2025-05-13T22:49:59.396931Z"
    }
   },
   "cell_type": "code",
   "source": "da = load_clean_NSP_NW_da_data()",
   "id": "423bd6eba471ecbe",
   "outputs": [
    {
     "data": {
      "text/plain": [
       "       interval_start_local        interval_start_utc  \\\n",
       "0 2020-12-31 23:00:00-06:00 2021-01-01 05:00:00+00:00   \n",
       "1 2021-01-01 00:00:00-06:00 2021-01-01 06:00:00+00:00   \n",
       "2 2021-01-01 01:00:00-06:00 2021-01-01 07:00:00+00:00   \n",
       "3 2021-01-01 02:00:00-06:00 2021-01-01 08:00:00+00:00   \n",
       "4 2021-01-01 03:00:00-06:00 2021-01-01 09:00:00+00:00   \n",
       "\n",
       "         interval_end_local           interval_end_utc            market  \\\n",
       "0 2021-01-01 00:00:00-06:00  2021-01-01 06:00:00+00:00  DAY_AHEAD_HOURLY   \n",
       "1 2021-01-01 01:00:00-06:00  2021-01-01 07:00:00+00:00  DAY_AHEAD_HOURLY   \n",
       "2 2021-01-01 02:00:00-06:00  2021-01-01 08:00:00+00:00  DAY_AHEAD_HOURLY   \n",
       "3 2021-01-01 03:00:00-06:00  2021-01-01 09:00:00+00:00  DAY_AHEAD_HOURLY   \n",
       "4 2021-01-01 04:00:00-06:00  2021-01-01 10:00:00+00:00  DAY_AHEAD_HOURLY   \n",
       "\n",
       "      location location_type    lmp  energy  congestion  loss  \n",
       "0  NSP.NWELOAD      Loadzone  17.20   19.19       -1.13 -0.86  \n",
       "1  NSP.NWELOAD      Loadzone  17.22   18.78       -0.85 -0.71  \n",
       "2  NSP.NWELOAD      Loadzone  17.08   18.50       -0.63 -0.79  \n",
       "3  NSP.NWELOAD      Loadzone  17.69   18.73        0.00 -1.04  \n",
       "4  NSP.NWELOAD      Loadzone  18.03   18.82        0.26 -1.05  "
      ],
      "text/html": [
       "<div>\n",
       "<style scoped>\n",
       "    .dataframe tbody tr th:only-of-type {\n",
       "        vertical-align: middle;\n",
       "    }\n",
       "\n",
       "    .dataframe tbody tr th {\n",
       "        vertical-align: top;\n",
       "    }\n",
       "\n",
       "    .dataframe thead th {\n",
       "        text-align: right;\n",
       "    }\n",
       "</style>\n",
       "<table border=\"1\" class=\"dataframe\">\n",
       "  <thead>\n",
       "    <tr style=\"text-align: right;\">\n",
       "      <th></th>\n",
       "      <th>interval_start_local</th>\n",
       "      <th>interval_start_utc</th>\n",
       "      <th>interval_end_local</th>\n",
       "      <th>interval_end_utc</th>\n",
       "      <th>market</th>\n",
       "      <th>location</th>\n",
       "      <th>location_type</th>\n",
       "      <th>lmp</th>\n",
       "      <th>energy</th>\n",
       "      <th>congestion</th>\n",
       "      <th>loss</th>\n",
       "    </tr>\n",
       "  </thead>\n",
       "  <tbody>\n",
       "    <tr>\n",
       "      <th>0</th>\n",
       "      <td>2020-12-31 23:00:00-06:00</td>\n",
       "      <td>2021-01-01 05:00:00+00:00</td>\n",
       "      <td>2021-01-01 00:00:00-06:00</td>\n",
       "      <td>2021-01-01 06:00:00+00:00</td>\n",
       "      <td>DAY_AHEAD_HOURLY</td>\n",
       "      <td>NSP.NWELOAD</td>\n",
       "      <td>Loadzone</td>\n",
       "      <td>17.20</td>\n",
       "      <td>19.19</td>\n",
       "      <td>-1.13</td>\n",
       "      <td>-0.86</td>\n",
       "    </tr>\n",
       "    <tr>\n",
       "      <th>1</th>\n",
       "      <td>2021-01-01 00:00:00-06:00</td>\n",
       "      <td>2021-01-01 06:00:00+00:00</td>\n",
       "      <td>2021-01-01 01:00:00-06:00</td>\n",
       "      <td>2021-01-01 07:00:00+00:00</td>\n",
       "      <td>DAY_AHEAD_HOURLY</td>\n",
       "      <td>NSP.NWELOAD</td>\n",
       "      <td>Loadzone</td>\n",
       "      <td>17.22</td>\n",
       "      <td>18.78</td>\n",
       "      <td>-0.85</td>\n",
       "      <td>-0.71</td>\n",
       "    </tr>\n",
       "    <tr>\n",
       "      <th>2</th>\n",
       "      <td>2021-01-01 01:00:00-06:00</td>\n",
       "      <td>2021-01-01 07:00:00+00:00</td>\n",
       "      <td>2021-01-01 02:00:00-06:00</td>\n",
       "      <td>2021-01-01 08:00:00+00:00</td>\n",
       "      <td>DAY_AHEAD_HOURLY</td>\n",
       "      <td>NSP.NWELOAD</td>\n",
       "      <td>Loadzone</td>\n",
       "      <td>17.08</td>\n",
       "      <td>18.50</td>\n",
       "      <td>-0.63</td>\n",
       "      <td>-0.79</td>\n",
       "    </tr>\n",
       "    <tr>\n",
       "      <th>3</th>\n",
       "      <td>2021-01-01 02:00:00-06:00</td>\n",
       "      <td>2021-01-01 08:00:00+00:00</td>\n",
       "      <td>2021-01-01 03:00:00-06:00</td>\n",
       "      <td>2021-01-01 09:00:00+00:00</td>\n",
       "      <td>DAY_AHEAD_HOURLY</td>\n",
       "      <td>NSP.NWELOAD</td>\n",
       "      <td>Loadzone</td>\n",
       "      <td>17.69</td>\n",
       "      <td>18.73</td>\n",
       "      <td>0.00</td>\n",
       "      <td>-1.04</td>\n",
       "    </tr>\n",
       "    <tr>\n",
       "      <th>4</th>\n",
       "      <td>2021-01-01 03:00:00-06:00</td>\n",
       "      <td>2021-01-01 09:00:00+00:00</td>\n",
       "      <td>2021-01-01 04:00:00-06:00</td>\n",
       "      <td>2021-01-01 10:00:00+00:00</td>\n",
       "      <td>DAY_AHEAD_HOURLY</td>\n",
       "      <td>NSP.NWELOAD</td>\n",
       "      <td>Loadzone</td>\n",
       "      <td>18.03</td>\n",
       "      <td>18.82</td>\n",
       "      <td>0.26</td>\n",
       "      <td>-1.05</td>\n",
       "    </tr>\n",
       "  </tbody>\n",
       "</table>\n",
       "</div>"
      ]
     },
     "execution_count": 19,
     "metadata": {},
     "output_type": "execute_result"
    }
   ],
   "execution_count": 19
  },
  {
   "metadata": {
    "ExecuteTime": {
     "end_time": "2025-05-13T22:49:30.104227Z",
     "start_time": "2025-05-13T22:49:30.102357Z"
    }
   },
   "cell_type": "code",
   "source": [
    "def load_clean_NSP_NW_rt_data():\n",
    "    rt = pd.read_parquet('RT_MISO_NSP_NWRT.parquet')\n",
    "    rt['interval_start_local'] = pd.to_datetime(rt['interval_start_local'])\n",
    "    rt['interval_end_local'] = pd.to_datetime(rt['interval_end_local'])\n",
    "    rt['interval_start_utc'] = pd.to_datetime(rt['interval_start_utc'])\n",
    "    rt.sort_values('interval_start_local', inplace=True)\n",
    "\n",
    "    return rt\n"
   ],
   "id": "80124d788b6b7ce9",
   "outputs": [],
   "execution_count": 13
  },
  {
   "metadata": {
    "ExecuteTime": {
     "end_time": "2025-05-13T22:49:33.577201Z",
     "start_time": "2025-05-13T22:49:33.491648Z"
    }
   },
   "cell_type": "code",
   "source": [
    "rt = load_clean_NSP_NW_rt_data()\n",
    "rt.head()"
   ],
   "id": "8c48a1e75cc43ffd",
   "outputs": [
    {
     "data": {
      "text/plain": [
       "       interval_start_local        interval_start_utc  \\\n",
       "0 2021-12-19 23:00:00-06:00 2021-12-20 05:00:00+00:00   \n",
       "1 2021-12-19 23:05:00-06:00 2021-12-20 05:05:00+00:00   \n",
       "2 2021-12-19 23:10:00-06:00 2021-12-20 05:10:00+00:00   \n",
       "3 2021-12-19 23:15:00-06:00 2021-12-20 05:15:00+00:00   \n",
       "4 2021-12-19 23:20:00-06:00 2021-12-20 05:20:00+00:00   \n",
       "\n",
       "         interval_end_local           interval_end_utc                 market  \\\n",
       "0 2021-12-19 23:05:00-06:00  2021-12-20 05:05:00+00:00  REAL_TIME_5_MIN_FINAL   \n",
       "1 2021-12-19 23:10:00-06:00  2021-12-20 05:10:00+00:00  REAL_TIME_5_MIN_FINAL   \n",
       "2 2021-12-19 23:15:00-06:00  2021-12-20 05:15:00+00:00  REAL_TIME_5_MIN_FINAL   \n",
       "3 2021-12-19 23:20:00-06:00  2021-12-20 05:20:00+00:00  REAL_TIME_5_MIN_FINAL   \n",
       "4 2021-12-19 23:25:00-06:00  2021-12-20 05:25:00+00:00  REAL_TIME_5_MIN_FINAL   \n",
       "\n",
       "      location location_type    lmp  energy  congestion  loss  \n",
       "0  NSP.NWELOAD      Loadzone  27.30   33.62       -6.86  0.54  \n",
       "1  NSP.NWELOAD      Loadzone  21.55   31.09      -10.17  0.63  \n",
       "2  NSP.NWELOAD      Loadzone  21.34   31.50      -10.58  0.42  \n",
       "3  NSP.NWELOAD      Loadzone  22.30   32.67      -10.88  0.51  \n",
       "4  NSP.NWELOAD      Loadzone  20.59   33.81      -13.73  0.51  "
      ],
      "text/html": [
       "<div>\n",
       "<style scoped>\n",
       "    .dataframe tbody tr th:only-of-type {\n",
       "        vertical-align: middle;\n",
       "    }\n",
       "\n",
       "    .dataframe tbody tr th {\n",
       "        vertical-align: top;\n",
       "    }\n",
       "\n",
       "    .dataframe thead th {\n",
       "        text-align: right;\n",
       "    }\n",
       "</style>\n",
       "<table border=\"1\" class=\"dataframe\">\n",
       "  <thead>\n",
       "    <tr style=\"text-align: right;\">\n",
       "      <th></th>\n",
       "      <th>interval_start_local</th>\n",
       "      <th>interval_start_utc</th>\n",
       "      <th>interval_end_local</th>\n",
       "      <th>interval_end_utc</th>\n",
       "      <th>market</th>\n",
       "      <th>location</th>\n",
       "      <th>location_type</th>\n",
       "      <th>lmp</th>\n",
       "      <th>energy</th>\n",
       "      <th>congestion</th>\n",
       "      <th>loss</th>\n",
       "    </tr>\n",
       "  </thead>\n",
       "  <tbody>\n",
       "    <tr>\n",
       "      <th>0</th>\n",
       "      <td>2021-12-19 23:00:00-06:00</td>\n",
       "      <td>2021-12-20 05:00:00+00:00</td>\n",
       "      <td>2021-12-19 23:05:00-06:00</td>\n",
       "      <td>2021-12-20 05:05:00+00:00</td>\n",
       "      <td>REAL_TIME_5_MIN_FINAL</td>\n",
       "      <td>NSP.NWELOAD</td>\n",
       "      <td>Loadzone</td>\n",
       "      <td>27.30</td>\n",
       "      <td>33.62</td>\n",
       "      <td>-6.86</td>\n",
       "      <td>0.54</td>\n",
       "    </tr>\n",
       "    <tr>\n",
       "      <th>1</th>\n",
       "      <td>2021-12-19 23:05:00-06:00</td>\n",
       "      <td>2021-12-20 05:05:00+00:00</td>\n",
       "      <td>2021-12-19 23:10:00-06:00</td>\n",
       "      <td>2021-12-20 05:10:00+00:00</td>\n",
       "      <td>REAL_TIME_5_MIN_FINAL</td>\n",
       "      <td>NSP.NWELOAD</td>\n",
       "      <td>Loadzone</td>\n",
       "      <td>21.55</td>\n",
       "      <td>31.09</td>\n",
       "      <td>-10.17</td>\n",
       "      <td>0.63</td>\n",
       "    </tr>\n",
       "    <tr>\n",
       "      <th>2</th>\n",
       "      <td>2021-12-19 23:10:00-06:00</td>\n",
       "      <td>2021-12-20 05:10:00+00:00</td>\n",
       "      <td>2021-12-19 23:15:00-06:00</td>\n",
       "      <td>2021-12-20 05:15:00+00:00</td>\n",
       "      <td>REAL_TIME_5_MIN_FINAL</td>\n",
       "      <td>NSP.NWELOAD</td>\n",
       "      <td>Loadzone</td>\n",
       "      <td>21.34</td>\n",
       "      <td>31.50</td>\n",
       "      <td>-10.58</td>\n",
       "      <td>0.42</td>\n",
       "    </tr>\n",
       "    <tr>\n",
       "      <th>3</th>\n",
       "      <td>2021-12-19 23:15:00-06:00</td>\n",
       "      <td>2021-12-20 05:15:00+00:00</td>\n",
       "      <td>2021-12-19 23:20:00-06:00</td>\n",
       "      <td>2021-12-20 05:20:00+00:00</td>\n",
       "      <td>REAL_TIME_5_MIN_FINAL</td>\n",
       "      <td>NSP.NWELOAD</td>\n",
       "      <td>Loadzone</td>\n",
       "      <td>22.30</td>\n",
       "      <td>32.67</td>\n",
       "      <td>-10.88</td>\n",
       "      <td>0.51</td>\n",
       "    </tr>\n",
       "    <tr>\n",
       "      <th>4</th>\n",
       "      <td>2021-12-19 23:20:00-06:00</td>\n",
       "      <td>2021-12-20 05:20:00+00:00</td>\n",
       "      <td>2021-12-19 23:25:00-06:00</td>\n",
       "      <td>2021-12-20 05:25:00+00:00</td>\n",
       "      <td>REAL_TIME_5_MIN_FINAL</td>\n",
       "      <td>NSP.NWELOAD</td>\n",
       "      <td>Loadzone</td>\n",
       "      <td>20.59</td>\n",
       "      <td>33.81</td>\n",
       "      <td>-13.73</td>\n",
       "      <td>0.51</td>\n",
       "    </tr>\n",
       "  </tbody>\n",
       "</table>\n",
       "</div>"
      ]
     },
     "execution_count": 15,
     "metadata": {},
     "output_type": "execute_result"
    }
   ],
   "execution_count": 15
  },
  {
   "metadata": {
    "ExecuteTime": {
     "end_time": "2025-05-13T23:35:43.335167Z",
     "start_time": "2025-05-13T23:35:43.331896Z"
    }
   },
   "cell_type": "code",
   "source": [
    "def load_btc_data():\n",
    "    x = pd.read_parquet('btc_data.parquet')\n",
    "    x.rename(columns={'Unnamed: 0':'time_end'}, inplace=True)\n",
    "    x['time_end'] = pd.to_datetime(x['time_end'])\n",
    "    x.drop(columns=['time_open','time_close'], inplace=True)\n",
    "    # x['time_open'] = pd.to_datetime(x['time_open'])\n",
    "    # x['time_close'] = pd.to_datetime(x['time_close'])\n",
    "    x = x.iloc[1:]\n",
    "    return x\n"
   ],
   "id": "94f5276e9ccff4b2",
   "outputs": [],
   "execution_count": 67
  },
  {
   "metadata": {
    "ExecuteTime": {
     "end_time": "2025-05-13T23:35:43.611082Z",
     "start_time": "2025-05-13T23:35:43.529833Z"
    }
   },
   "cell_type": "code",
   "source": "df = load_btc_data()",
   "id": "c403cb82601f67c1",
   "outputs": [],
   "execution_count": 68
  },
  {
   "metadata": {},
   "cell_type": "code",
   "outputs": [],
   "execution_count": null,
   "source": [
    "#Assumptions\n",
    "btc_data = load_btc_data() #history of btc_data\n",
    "btc_price = get_btc_price() #price btcusd current\n",
    "power_consumption =3250 #watts\n",
    "hashrate = 110 #TH/s\n",
    "num_antminer = 1000\n",
    "rf = 0.04 #annualized rf rate\n",
    "\n",
    "\n",
    "rt = load_clean_NSP_NW_da_data()\n",
    "da = load_clean_NSP_NW_rt_data()\n",
    "\n",
    "btc_day = 0.00008\n",
    "\n",
    "\n",
    "breakeven = 95 #$/MWH when btc 93k\n"
   ],
   "id": "1682173140c2825d"
  },
  {
   "metadata": {},
   "cell_type": "code",
   "outputs": [],
   "execution_count": null,
   "source": [
    "\"\"\"\n",
    "Questions to answer:\n",
    "\n",
    "- Estimate BTC/USD Volatility\n",
    "\n",
    "Strategy to be profitable?\n",
    "- Forecast profits for July 2025 - June 2026\n",
    "- Forecast some weather\n",
    "- Location of facility\n",
    "- Purchase power in DA and if not used sell in RT\n",
    "- Or purchase less power in DA if need more buy in RT\n",
    "\n",
    "\"\"\""
   ],
   "id": "fc104d4e1dc61aad"
  },
  {
   "metadata": {},
   "cell_type": "code",
   "outputs": [],
   "execution_count": null,
   "source": [
    "\"\"\"\n",
    "Across 500 simulation what is the expected average annual excess profit (profit - rf rate)\n",
    "- forecast energy prices for 1 year\n",
    "- forecast btc prices for 1 year\n",
    "-\n",
    "\n",
    "What is the volatility in annual profitability\n",
    "What is the sharpe\n",
    "\n",
    "\n",
    "Would you buy the facility for 500k?\n",
    "-Base this off of the return given the volatility of BTC versus electricity\n",
    "- What is the breakeven expected value\n",
    "\"\"\""
   ],
   "id": "19a5c7a1557fe2c4"
  },
  {
   "metadata": {
    "ExecuteTime": {
     "end_time": "2025-05-13T22:47:25.167005Z",
     "start_time": "2025-05-13T22:23:18.770661Z"
    }
   },
   "cell_type": "code",
   "source": [
    "\"\"\"\n",
    "Intraday Analysis\n",
    "- Choose an hourly intraday period as well as a shorter intraday period\n",
    "- for reahc period what is the value of operating the BTC facility? What was the value of curtailment? What was the net payout?\n",
    "\n",
    "-Model BTC and Electricity volatility surface\n",
    "\n",
    "\n",
    "\"\"\""
   ],
   "id": "f9acf5a2b8a2cfb3",
   "outputs": [
    {
     "data": {
      "text/plain": [
       "'\\nIntraday Analysis\\n- Choose an hourly intraday period as well as a shorter intraday period\\n- for reahc period what is the value of operating the BTC facility? What was the value of curtailment? What was the net payout?\\n\\n-Model BTC and Electricity volatility surface\\n\\n\\n'"
      ]
     },
     "execution_count": 64,
     "metadata": {},
     "output_type": "execute_result"
    }
   ],
   "execution_count": 64
  },
  {
   "metadata": {},
   "cell_type": "code",
   "outputs": [],
   "execution_count": null,
   "source": "#part 2 change the node",
   "id": "da6a9d5128efc4ed"
  },
  {
   "metadata": {
    "ExecuteTime": {
     "end_time": "2025-05-13T22:47:25.167205Z",
     "start_time": "2025-05-13T22:16:36.533071Z"
    }
   },
   "cell_type": "code",
   "source": [
    "# Per minerstat S19s pros consume 3250W of power to produce 110 TH/s and\n",
    "# generate 0.00008 BTC per day giving them an approximate breakeven of\n",
    "# $95/MWH at a BTC price of 93k"
   ],
   "id": "e3ba689f1c10840e",
   "outputs": [],
   "execution_count": 57
  },
  {
   "metadata": {
    "ExecuteTime": {
     "end_time": "2025-05-13T22:47:25.167269Z",
     "start_time": "2025-05-13T22:39:11.265431Z"
    }
   },
   "cell_type": "code",
   "source": [
    "#input\n",
    "watts =3250\n",
    "watt_to_megawatt = 1000000\n",
    "hours = 24\n",
    "btc_gen= 0.00008 #per day,\n",
    "megawatt_per_hour = watts * hours / watt_to_megawatt\n",
    "print(f\"MWH: {megawatt_per_hour}\")"
   ],
   "id": "6dc71af2bfc9f5d4",
   "outputs": [
    {
     "name": "stdout",
     "output_type": "stream",
     "text": [
      "MWH: 0.078\n"
     ]
    }
   ],
   "execution_count": 87
  },
  {
   "metadata": {
    "ExecuteTime": {
     "end_time": "2025-05-13T22:47:25.167340Z",
     "start_time": "2025-05-13T22:39:21.967013Z"
    }
   },
   "cell_type": "code",
   "source": "btc_gen/megawatt_per_hour",
   "id": "d29fb8c25d12db47",
   "outputs": [
    {
     "data": {
      "text/plain": [
       "0.0010256410256410256"
      ]
     },
     "execution_count": 88,
     "metadata": {},
     "output_type": "execute_result"
    }
   ],
   "execution_count": 88
  },
  {
   "metadata": {
    "ExecuteTime": {
     "end_time": "2025-05-13T22:47:25.167437Z",
     "start_time": "2025-05-13T22:31:18.855965Z"
    }
   },
   "cell_type": "code",
   "source": [
    "btc_price = get_btc_price()\n",
    "btc_gen= 0.00008 #per day,\n",
    "dv = btc_price* btc_gen\n",
    "print(f\"Dollar Value: {dv}\")"
   ],
   "id": "5ba8396b355782bb",
   "outputs": [
    {
     "name": "stdout",
     "output_type": "stream",
     "text": [
      "Dollar Value: 8.33744\n"
     ]
    }
   ],
   "execution_count": 81
  },
  {
   "metadata": {
    "ExecuteTime": {
     "end_time": "2025-05-13T22:47:25.167517Z",
     "start_time": "2025-05-13T22:47:00.484863Z"
    }
   },
   "cell_type": "code",
   "source": [
    "breakeven = dv/ megawatt_per_hour\n",
    "print(f\"Breakeven: {breakeven}\")\n",
    "\n",
    "#if energy is more expensive than the break even we are at a loss/ else\n",
    "#basically if btc price goes up we can spend more on energy\n",
    "\n"
   ],
   "id": "755cbc3acfcd04d9",
   "outputs": [
    {
     "name": "stdout",
     "output_type": "stream",
     "text": [
      "Breakeven: 106.89025641025643\n"
     ]
    }
   ],
   "execution_count": 102
  },
  {
   "metadata": {
    "ExecuteTime": {
     "end_time": "2025-05-13T22:49:22.709997Z",
     "start_time": "2025-05-13T22:49:22.706581Z"
    }
   },
   "cell_type": "code",
   "source": [
    "def calc_breakeven():\n",
    "    watts =3250\n",
    "    watt_to_megawatt = 1000000\n",
    "    hours = 24\n",
    "    megawatt_per_hour = watts * hours / watt_to_megawatt\n",
    "    #print(f\"MWH: {megawatt_per_hour}\")\n",
    "    btc_price = get_btc_price()\n",
    "    btc_gen= 0.00008 #per day,\n",
    "    dv = btc_price* btc_gen\n",
    "    #print(f\"Dollar Value: {dv}\")\n",
    "    breakeven = dv/ megawatt_per_hour\n",
    "    return breakeven"
   ],
   "id": "65303ecd847ed5fa",
   "outputs": [],
   "execution_count": 8
  },
  {
   "metadata": {
    "ExecuteTime": {
     "end_time": "2025-05-13T22:49:22.886365Z",
     "start_time": "2025-05-13T22:49:22.883881Z"
    }
   },
   "cell_type": "code",
   "source": [
    "breakeven = calc_breakeven()\n",
    "print(f\"Breakeven: {breakeven}\")"
   ],
   "id": "653cd2cd5f826d7a",
   "outputs": [
    {
     "name": "stdout",
     "output_type": "stream",
     "text": [
      "Breakeven: 107.6923076923077\n"
     ]
    }
   ],
   "execution_count": 9
  },
  {
   "metadata": {
    "ExecuteTime": {
     "end_time": "2025-05-13T22:47:25.168096Z",
     "start_time": "2025-05-13T22:46:47.432518Z"
    }
   },
   "cell_type": "code",
   "source": "",
   "id": "272233bc69e79438",
   "outputs": [],
   "execution_count": null
  },
  {
   "metadata": {},
   "cell_type": "code",
   "outputs": [],
   "execution_count": null,
   "source": "",
   "id": "6ef3f8c9d6786636"
  }
 ],
 "metadata": {
  "kernelspec": {
   "display_name": "Python 3",
   "language": "python",
   "name": "python3"
  },
  "language_info": {
   "codemirror_mode": {
    "name": "ipython",
    "version": 2
   },
   "file_extension": ".py",
   "mimetype": "text/x-python",
   "name": "python",
   "nbconvert_exporter": "python",
   "pygments_lexer": "ipython2",
   "version": "2.7.6"
  }
 },
 "nbformat": 4,
 "nbformat_minor": 5
}
