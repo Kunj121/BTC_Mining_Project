{
 "cells": [
  {
   "cell_type": "code",
   "id": "initial_id",
   "metadata": {
    "collapsed": true,
    "ExecuteTime": {
     "end_time": "2025-05-13T04:37:11.864306Z",
     "start_time": "2025-05-13T04:37:11.861886Z"
    }
   },
   "source": [
    "import pandas as pd\n",
    "import numpy as np\n",
    "import warnings\n",
    "warnings.filterwarnings('ignore')"
   ],
   "outputs": [],
   "execution_count": 32
  },
  {
   "metadata": {},
   "cell_type": "code",
   "outputs": [],
   "execution_count": null,
   "source": "",
   "id": "aed621577f6be363"
  },
  {
   "metadata": {
    "ExecuteTime": {
     "end_time": "2025-05-13T04:07:32.312467Z",
     "start_time": "2025-05-13T04:07:32.309602Z"
    }
   },
   "cell_type": "code",
   "source": [
    "\"\"\"\n",
    "Bitcoin Mining: Solve complex puzzles to validate transactions and add them to blockchain\n",
    "\n",
    "puzzles involve computing SHA-256 Hashes over and over\n",
    "\n",
    "1 Hash = 1 attempt to solve the puzzle\n",
    "\n",
    "Hashrate = number of hashes/second\n",
    "\n",
    "\n",
    "Antminer = 110 TH/s which is 110 trillion guesses per second\n",
    "\n",
    "More hashrate = more revenue but more electricity usage\n",
    "\n",
    "\n",
    "\"\"\""
   ],
   "id": "251518b6e357e635",
   "outputs": [
    {
     "data": {
      "text/plain": [
       "'\\nBitcoin Mining: Solve complex puzzles to calidate transactions and add them to blockchain\\n\\npuzzles involve computing SHA-256 Hashes over and over\\n\\n1 Hash = 1 attempt to solve the puzzle\\n\\nHashrate = number of hashes/second\\n\\n\\nAntminer = 110 TH/s which is 110 trillion guesses per second\\n\\nMore hashrate = more revenue but more electricity usage\\n\\n\\n'"
      ]
     },
     "execution_count": 24,
     "metadata": {},
     "output_type": "execute_result"
    }
   ],
   "execution_count": 24
  },
  {
   "metadata": {
    "ExecuteTime": {
     "end_time": "2025-05-13T21:25:49.063089Z",
     "start_time": "2025-05-13T21:25:48.828533Z"
    }
   },
   "cell_type": "code",
   "source": [
    "import requests\n",
    "\n",
    "def get_btc_price():\n",
    "    url = \"https://api.coingecko.com/api/v3/simple/price\"\n",
    "    params = {\n",
    "        'ids': 'bitcoin',\n",
    "        'vs_currencies': 'usd'\n",
    "    }\n",
    "    response = requests.get(url, params=params)\n",
    "    data = response.json()\n",
    "    return data['bitcoin']['usd']\n",
    "\n",
    "# Example usage\n",
    "btc_price = get_btc_price()\n",
    "print(f\"Current BTC Price: ${btc_price}\")"
   ],
   "id": "669e4e2e568fd6ad",
   "outputs": [
    {
     "name": "stdout",
     "output_type": "stream",
     "text": [
      "Current BTC Price: $104460\n"
     ]
    }
   ],
   "execution_count": 41
  },
  {
   "metadata": {
    "ExecuteTime": {
     "end_time": "2025-05-13T22:06:11.885669Z",
     "start_time": "2025-05-13T22:06:11.877780Z"
    }
   },
   "cell_type": "code",
   "source": [
    "def load_clean_NSP_NW_da_data():\n",
    "    da = pd.read_parquet('DA_MISO_NSP_NWELOAD.parquet')\n",
    "    da['interval_start_local'] = pd.to_datetime(da['interval_start_local'])\n",
    "    da['interval_end_local'] = pd.to_datetime(da['interval_end_local'])\n",
    "    da['interval_start_utc'] = pd.to_datetime(da['interval_start_utc'])\n",
    "    da.sort_values('interval_start_local', inplace=True)\n",
    "    return da"
   ],
   "id": "b3e817bef653ed90",
   "outputs": [],
   "execution_count": 50
  },
  {
   "metadata": {
    "ExecuteTime": {
     "end_time": "2025-05-13T22:06:21.557203Z",
     "start_time": "2025-05-13T22:06:21.552779Z"
    }
   },
   "cell_type": "code",
   "source": [
    "def load_clean_NSP_NW_rt_data():\n",
    "    rt = pd.read_parquet('RT_MISO_NSP_NWRT.parquet')\n",
    "    rt['interval_start_local'] = pd.to_datetime(rt['interval_start_local'])\n",
    "    rt['interval_end_local'] = pd.to_datetime(rt['interval_end_local'])\n",
    "    rt['interval_start_utc'] = pd.to_datetime(rt['interval_start_utc'])\n",
    "    rt.sort_values('interval_start_local', inplace=True)\n",
    "\n",
    "    return rt\n"
   ],
   "id": "80124d788b6b7ce9",
   "outputs": [],
   "execution_count": 54
  },
  {
   "metadata": {
    "ExecuteTime": {
     "end_time": "2025-05-13T22:06:29.722693Z",
     "start_time": "2025-05-13T22:06:29.619771Z"
    }
   },
   "cell_type": "code",
   "source": "rt = load_clean_NSP_NW_rt_data()",
   "id": "8c48a1e75cc43ffd",
   "outputs": [
    {
     "data": {
      "text/plain": [
       "            interval_start_local        interval_start_utc  \\\n",
       "0      2021-12-19 23:00:00-06:00 2021-12-20 05:00:00+00:00   \n",
       "1      2021-12-19 23:05:00-06:00 2021-12-20 05:05:00+00:00   \n",
       "2      2021-12-19 23:10:00-06:00 2021-12-20 05:10:00+00:00   \n",
       "3      2021-12-19 23:15:00-06:00 2021-12-20 05:15:00+00:00   \n",
       "4      2021-12-19 23:20:00-06:00 2021-12-20 05:20:00+00:00   \n",
       "...                          ...                       ...   \n",
       "352795 2025-04-27 22:35:00-06:00 2025-04-28 04:35:00+00:00   \n",
       "352796 2025-04-27 22:40:00-06:00 2025-04-28 04:40:00+00:00   \n",
       "352797 2025-04-27 22:45:00-06:00 2025-04-28 04:45:00+00:00   \n",
       "352798 2025-04-27 22:50:00-06:00 2025-04-28 04:50:00+00:00   \n",
       "352799 2025-04-27 22:55:00-06:00 2025-04-28 04:55:00+00:00   \n",
       "\n",
       "              interval_end_local           interval_end_utc  \\\n",
       "0      2021-12-19 23:05:00-06:00  2021-12-20 05:05:00+00:00   \n",
       "1      2021-12-19 23:10:00-06:00  2021-12-20 05:10:00+00:00   \n",
       "2      2021-12-19 23:15:00-06:00  2021-12-20 05:15:00+00:00   \n",
       "3      2021-12-19 23:20:00-06:00  2021-12-20 05:20:00+00:00   \n",
       "4      2021-12-19 23:25:00-06:00  2021-12-20 05:25:00+00:00   \n",
       "...                          ...                        ...   \n",
       "352795 2025-04-27 22:40:00-06:00  2025-04-28 04:40:00+00:00   \n",
       "352796 2025-04-27 22:45:00-06:00  2025-04-28 04:45:00+00:00   \n",
       "352797 2025-04-27 22:50:00-06:00  2025-04-28 04:50:00+00:00   \n",
       "352798 2025-04-27 22:55:00-06:00  2025-04-28 04:55:00+00:00   \n",
       "352799 2025-04-27 23:00:00-06:00  2025-04-28 05:00:00+00:00   \n",
       "\n",
       "                       market     location location_type    lmp  energy  \\\n",
       "0       REAL_TIME_5_MIN_FINAL  NSP.NWELOAD      Loadzone  27.30   33.62   \n",
       "1       REAL_TIME_5_MIN_FINAL  NSP.NWELOAD      Loadzone  21.55   31.09   \n",
       "2       REAL_TIME_5_MIN_FINAL  NSP.NWELOAD      Loadzone  21.34   31.50   \n",
       "3       REAL_TIME_5_MIN_FINAL  NSP.NWELOAD      Loadzone  22.30   32.67   \n",
       "4       REAL_TIME_5_MIN_FINAL  NSP.NWELOAD      Loadzone  20.59   33.81   \n",
       "...                       ...          ...           ...    ...     ...   \n",
       "352795  REAL_TIME_5_MIN_FINAL  NSP.NWELOAD      Loadzone  26.23   20.89   \n",
       "352796  REAL_TIME_5_MIN_FINAL  NSP.NWELOAD      Loadzone  23.85   18.56   \n",
       "352797  REAL_TIME_5_MIN_FINAL  NSP.NWELOAD      Loadzone  37.34   18.22   \n",
       "352798  REAL_TIME_5_MIN_FINAL  NSP.NWELOAD      Loadzone  27.77   15.98   \n",
       "352799  REAL_TIME_5_MIN_FINAL  NSP.NWELOAD      Loadzone  34.03   16.98   \n",
       "\n",
       "        congestion  loss  \n",
       "0            -6.86  0.54  \n",
       "1           -10.17  0.63  \n",
       "2           -10.58  0.42  \n",
       "3           -10.88  0.51  \n",
       "4           -13.73  0.51  \n",
       "...            ...   ...  \n",
       "352795        6.37 -1.03  \n",
       "352796        6.25 -0.96  \n",
       "352797       19.99 -0.87  \n",
       "352798       12.55 -0.76  \n",
       "352799       17.88 -0.83  \n",
       "\n",
       "[352800 rows x 11 columns]"
      ],
      "text/html": [
       "<div>\n",
       "<style scoped>\n",
       "    .dataframe tbody tr th:only-of-type {\n",
       "        vertical-align: middle;\n",
       "    }\n",
       "\n",
       "    .dataframe tbody tr th {\n",
       "        vertical-align: top;\n",
       "    }\n",
       "\n",
       "    .dataframe thead th {\n",
       "        text-align: right;\n",
       "    }\n",
       "</style>\n",
       "<table border=\"1\" class=\"dataframe\">\n",
       "  <thead>\n",
       "    <tr style=\"text-align: right;\">\n",
       "      <th></th>\n",
       "      <th>interval_start_local</th>\n",
       "      <th>interval_start_utc</th>\n",
       "      <th>interval_end_local</th>\n",
       "      <th>interval_end_utc</th>\n",
       "      <th>market</th>\n",
       "      <th>location</th>\n",
       "      <th>location_type</th>\n",
       "      <th>lmp</th>\n",
       "      <th>energy</th>\n",
       "      <th>congestion</th>\n",
       "      <th>loss</th>\n",
       "    </tr>\n",
       "  </thead>\n",
       "  <tbody>\n",
       "    <tr>\n",
       "      <th>0</th>\n",
       "      <td>2021-12-19 23:00:00-06:00</td>\n",
       "      <td>2021-12-20 05:00:00+00:00</td>\n",
       "      <td>2021-12-19 23:05:00-06:00</td>\n",
       "      <td>2021-12-20 05:05:00+00:00</td>\n",
       "      <td>REAL_TIME_5_MIN_FINAL</td>\n",
       "      <td>NSP.NWELOAD</td>\n",
       "      <td>Loadzone</td>\n",
       "      <td>27.30</td>\n",
       "      <td>33.62</td>\n",
       "      <td>-6.86</td>\n",
       "      <td>0.54</td>\n",
       "    </tr>\n",
       "    <tr>\n",
       "      <th>1</th>\n",
       "      <td>2021-12-19 23:05:00-06:00</td>\n",
       "      <td>2021-12-20 05:05:00+00:00</td>\n",
       "      <td>2021-12-19 23:10:00-06:00</td>\n",
       "      <td>2021-12-20 05:10:00+00:00</td>\n",
       "      <td>REAL_TIME_5_MIN_FINAL</td>\n",
       "      <td>NSP.NWELOAD</td>\n",
       "      <td>Loadzone</td>\n",
       "      <td>21.55</td>\n",
       "      <td>31.09</td>\n",
       "      <td>-10.17</td>\n",
       "      <td>0.63</td>\n",
       "    </tr>\n",
       "    <tr>\n",
       "      <th>2</th>\n",
       "      <td>2021-12-19 23:10:00-06:00</td>\n",
       "      <td>2021-12-20 05:10:00+00:00</td>\n",
       "      <td>2021-12-19 23:15:00-06:00</td>\n",
       "      <td>2021-12-20 05:15:00+00:00</td>\n",
       "      <td>REAL_TIME_5_MIN_FINAL</td>\n",
       "      <td>NSP.NWELOAD</td>\n",
       "      <td>Loadzone</td>\n",
       "      <td>21.34</td>\n",
       "      <td>31.50</td>\n",
       "      <td>-10.58</td>\n",
       "      <td>0.42</td>\n",
       "    </tr>\n",
       "    <tr>\n",
       "      <th>3</th>\n",
       "      <td>2021-12-19 23:15:00-06:00</td>\n",
       "      <td>2021-12-20 05:15:00+00:00</td>\n",
       "      <td>2021-12-19 23:20:00-06:00</td>\n",
       "      <td>2021-12-20 05:20:00+00:00</td>\n",
       "      <td>REAL_TIME_5_MIN_FINAL</td>\n",
       "      <td>NSP.NWELOAD</td>\n",
       "      <td>Loadzone</td>\n",
       "      <td>22.30</td>\n",
       "      <td>32.67</td>\n",
       "      <td>-10.88</td>\n",
       "      <td>0.51</td>\n",
       "    </tr>\n",
       "    <tr>\n",
       "      <th>4</th>\n",
       "      <td>2021-12-19 23:20:00-06:00</td>\n",
       "      <td>2021-12-20 05:20:00+00:00</td>\n",
       "      <td>2021-12-19 23:25:00-06:00</td>\n",
       "      <td>2021-12-20 05:25:00+00:00</td>\n",
       "      <td>REAL_TIME_5_MIN_FINAL</td>\n",
       "      <td>NSP.NWELOAD</td>\n",
       "      <td>Loadzone</td>\n",
       "      <td>20.59</td>\n",
       "      <td>33.81</td>\n",
       "      <td>-13.73</td>\n",
       "      <td>0.51</td>\n",
       "    </tr>\n",
       "    <tr>\n",
       "      <th>...</th>\n",
       "      <td>...</td>\n",
       "      <td>...</td>\n",
       "      <td>...</td>\n",
       "      <td>...</td>\n",
       "      <td>...</td>\n",
       "      <td>...</td>\n",
       "      <td>...</td>\n",
       "      <td>...</td>\n",
       "      <td>...</td>\n",
       "      <td>...</td>\n",
       "      <td>...</td>\n",
       "    </tr>\n",
       "    <tr>\n",
       "      <th>352795</th>\n",
       "      <td>2025-04-27 22:35:00-06:00</td>\n",
       "      <td>2025-04-28 04:35:00+00:00</td>\n",
       "      <td>2025-04-27 22:40:00-06:00</td>\n",
       "      <td>2025-04-28 04:40:00+00:00</td>\n",
       "      <td>REAL_TIME_5_MIN_FINAL</td>\n",
       "      <td>NSP.NWELOAD</td>\n",
       "      <td>Loadzone</td>\n",
       "      <td>26.23</td>\n",
       "      <td>20.89</td>\n",
       "      <td>6.37</td>\n",
       "      <td>-1.03</td>\n",
       "    </tr>\n",
       "    <tr>\n",
       "      <th>352796</th>\n",
       "      <td>2025-04-27 22:40:00-06:00</td>\n",
       "      <td>2025-04-28 04:40:00+00:00</td>\n",
       "      <td>2025-04-27 22:45:00-06:00</td>\n",
       "      <td>2025-04-28 04:45:00+00:00</td>\n",
       "      <td>REAL_TIME_5_MIN_FINAL</td>\n",
       "      <td>NSP.NWELOAD</td>\n",
       "      <td>Loadzone</td>\n",
       "      <td>23.85</td>\n",
       "      <td>18.56</td>\n",
       "      <td>6.25</td>\n",
       "      <td>-0.96</td>\n",
       "    </tr>\n",
       "    <tr>\n",
       "      <th>352797</th>\n",
       "      <td>2025-04-27 22:45:00-06:00</td>\n",
       "      <td>2025-04-28 04:45:00+00:00</td>\n",
       "      <td>2025-04-27 22:50:00-06:00</td>\n",
       "      <td>2025-04-28 04:50:00+00:00</td>\n",
       "      <td>REAL_TIME_5_MIN_FINAL</td>\n",
       "      <td>NSP.NWELOAD</td>\n",
       "      <td>Loadzone</td>\n",
       "      <td>37.34</td>\n",
       "      <td>18.22</td>\n",
       "      <td>19.99</td>\n",
       "      <td>-0.87</td>\n",
       "    </tr>\n",
       "    <tr>\n",
       "      <th>352798</th>\n",
       "      <td>2025-04-27 22:50:00-06:00</td>\n",
       "      <td>2025-04-28 04:50:00+00:00</td>\n",
       "      <td>2025-04-27 22:55:00-06:00</td>\n",
       "      <td>2025-04-28 04:55:00+00:00</td>\n",
       "      <td>REAL_TIME_5_MIN_FINAL</td>\n",
       "      <td>NSP.NWELOAD</td>\n",
       "      <td>Loadzone</td>\n",
       "      <td>27.77</td>\n",
       "      <td>15.98</td>\n",
       "      <td>12.55</td>\n",
       "      <td>-0.76</td>\n",
       "    </tr>\n",
       "    <tr>\n",
       "      <th>352799</th>\n",
       "      <td>2025-04-27 22:55:00-06:00</td>\n",
       "      <td>2025-04-28 04:55:00+00:00</td>\n",
       "      <td>2025-04-27 23:00:00-06:00</td>\n",
       "      <td>2025-04-28 05:00:00+00:00</td>\n",
       "      <td>REAL_TIME_5_MIN_FINAL</td>\n",
       "      <td>NSP.NWELOAD</td>\n",
       "      <td>Loadzone</td>\n",
       "      <td>34.03</td>\n",
       "      <td>16.98</td>\n",
       "      <td>17.88</td>\n",
       "      <td>-0.83</td>\n",
       "    </tr>\n",
       "  </tbody>\n",
       "</table>\n",
       "<p>352800 rows × 11 columns</p>\n",
       "</div>"
      ]
     },
     "execution_count": 56,
     "metadata": {},
     "output_type": "execute_result"
    }
   ],
   "execution_count": 56
  },
  {
   "metadata": {
    "ExecuteTime": {
     "end_time": "2025-05-12T21:05:20.500914Z",
     "start_time": "2025-05-12T21:05:20.496210Z"
    }
   },
   "cell_type": "code",
   "source": [
    "def load_btc_data():\n",
    "    x = pd.read_csv('btc_hourly.csv')\n",
    "    x['time_period_end'] = pd.to_datetime(x['time_period_end'])\n",
    "    x['time_period_start'] = pd.to_datetime(x['time_period_start'])\n",
    "    x['time_close'] = pd.to_datetime(x['time_close'])\n",
    "    return x\n"
   ],
   "id": "94f5276e9ccff4b2",
   "outputs": [],
   "execution_count": 13
  },
  {
   "metadata": {},
   "cell_type": "code",
   "outputs": [],
   "execution_count": null,
   "source": [
    "#Assumptions\n",
    "btc_data = load_btc_data() #history of btc_data\n",
    "btc_price = get_btc_price() #price btcusd current\n",
    "power_consumption =3250 #watts\n",
    "hashrate = 110 #TH/s\n",
    "num_antminer = 1000\n",
    "rf = 0.04 #annualized rf rate\n",
    "\n",
    "\n",
    "rt = load_clean_NSP_NW_da_data()\n",
    "da = load_clean_NSP_NW_rt_data()\n",
    "\n",
    "btc_day = 0.00008\n",
    "\n",
    "\n",
    "breakeven = 95 #$/MWH when btc 93k\n"
   ],
   "id": "1682173140c2825d"
  },
  {
   "metadata": {},
   "cell_type": "code",
   "outputs": [],
   "execution_count": null,
   "source": [
    "\"\"\"\n",
    "Questions to answer:\n",
    "\n",
    "- Estimate BTC/USD Volatility\n",
    "\n",
    "Strategy to be profitable?\n",
    "- Forecast profits for July 2025 - June 2026\n",
    "- Forecast some weather\n",
    "- Location of facility\n",
    "- Purchase power in DA and if not used sell in RT\n",
    "- Or purchase less power in DA if need more buy in RT\n",
    "\n",
    "\"\"\""
   ],
   "id": "fc104d4e1dc61aad"
  },
  {
   "metadata": {},
   "cell_type": "code",
   "outputs": [],
   "execution_count": null,
   "source": [
    "\"\"\"\n",
    "Across 500 simulation what is the expected average annual excess profit (profit - rf rate)\n",
    "- forecast energy prices for 1 year\n",
    "- forecast btc prices for 1 year\n",
    "-\n",
    "\n",
    "What is the volatility in annual profitability\n",
    "What is the sharpe\n",
    "\n",
    "\n",
    "Would you buy the facility for 500k?\n",
    "-Base this off of the return given the volatility of BTC versus electricity\n",
    "- What is the breakeven expected value\n",
    "\"\"\""
   ],
   "id": "19a5c7a1557fe2c4"
  },
  {
   "metadata": {},
   "cell_type": "code",
   "outputs": [],
   "execution_count": null,
   "source": [
    "\"\"\"\n",
    "Intraday Analysis\n",
    "- Choose an hourly intraday period as well as a shorter intraday period\n",
    "- for reahc period what is the value of operating the BTC facility? What was the value of curtailment? What was the net payout?\n",
    "\n",
    "-Model BTC and Electricity volatility surface\n",
    "\n",
    "\n",
    "\"\"\""
   ],
   "id": "f9acf5a2b8a2cfb3"
  },
  {
   "metadata": {},
   "cell_type": "code",
   "outputs": [],
   "execution_count": null,
   "source": "#part 2 change the node",
   "id": "da6a9d5128efc4ed"
  }
 ],
 "metadata": {
  "kernelspec": {
   "display_name": "Python 3",
   "language": "python",
   "name": "python3"
  },
  "language_info": {
   "codemirror_mode": {
    "name": "ipython",
    "version": 2
   },
   "file_extension": ".py",
   "mimetype": "text/x-python",
   "name": "python",
   "nbconvert_exporter": "python",
   "pygments_lexer": "ipython2",
   "version": "2.7.6"
  }
 },
 "nbformat": 4,
 "nbformat_minor": 5
}
