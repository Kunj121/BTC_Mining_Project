{
 "cells": [
  {
   "cell_type": "code",
   "id": "initial_id",
   "metadata": {
    "collapsed": true,
    "ExecuteTime": {
     "end_time": "2025-05-17T17:11:30.475859Z",
     "start_time": "2025-05-17T17:11:30.470181Z"
    }
   },
   "source": [
    "import sys\n",
    "\n",
    "import numpy as np\n",
    "import matplotlib.pyplot as plt\n",
    "import pandas as pd\n",
    "from sklearn.preprocessing import MinMaxScaler\n",
    "import importlib\n",
    "importlib.reload(load_data)\n",
    "import load_data\n",
    "from load_data import *"
   ],
   "outputs": [],
   "execution_count": 134
  },
  {
   "metadata": {
    "ExecuteTime": {
     "end_time": "2025-05-17T17:11:30.700899Z",
     "start_time": "2025-05-17T17:11:30.677481Z"
    }
   },
   "cell_type": "code",
   "source": "btc_forecast = pd.read_csv('btc_hourly_sim_45vol_20drift.csv')",
   "id": "e397544f5c134785",
   "outputs": [],
   "execution_count": 135
  },
  {
   "metadata": {
    "ExecuteTime": {
     "end_time": "2025-05-17T17:11:30.953309Z",
     "start_time": "2025-05-17T17:11:30.864814Z"
    }
   },
   "cell_type": "code",
   "source": "df = load_data.btc_data()",
   "id": "cd30cbd79bbdfb34",
   "outputs": [],
   "execution_count": 136
  },
  {
   "metadata": {
    "ExecuteTime": {
     "end_time": "2025-05-17T17:11:31.062361Z",
     "start_time": "2025-05-17T17:11:31.060040Z"
    }
   },
   "cell_type": "code",
   "source": [
    "import pandas as pd\n",
    "import numpy as np\n",
    "from sklearn.model_selection import train_test_split\n",
    "from sklearn.ensemble import RandomForestRegressor\n",
    "from xgboost import XGBRegressor\n",
    "from sklearn.metrics import mean_squared_error"
   ],
   "id": "db1fa3c2c8daebd4",
   "outputs": [],
   "execution_count": 137
  },
  {
   "metadata": {
    "ExecuteTime": {
     "end_time": "2025-05-17T20:33:58.599131Z",
     "start_time": "2025-05-17T20:33:58.457874Z"
    }
   },
   "cell_type": "code",
   "source": [
    "df = pd.read_parquet('data/btc_data.parquet')\n",
    "df['time'] = pd.to_datetime(df['time_close'])\n",
    "df.set_index('time', inplace=True)\n",
    "df = df[['price_close', 'volume_traded']].dropna()\n",
    "\n",
    "# Create lagged features\n",
    "for lag in range(1, 25):  # past 24 hours\n",
    "    df[f'lag_{lag}'] = df['price_close'].shift(lag)\n",
    "\n",
    "\n",
    "df['log_ret'] = np.log(df['price_close'] / df['price_close'].shift(1))\n",
    "for lag in range(1, 25):\n",
    "    df[f'ret_lag_{lag}'] = df['log_ret'].shift(lag)\n",
    "\n",
    "df['rolling_mean_24'] = df['price_close'].rolling(24).mean()\n",
    "df['rolling_std_24'] = df['price_close'].rolling(24).std()\n",
    "\n",
    "\n",
    "df['volume_lag_1'] = df['volume_traded'].shift(1)\n",
    "df['volume_change'] = df['volume_traded'].pct_change()\n",
    "\n",
    "\n",
    "df.dropna(inplace=True)"
   ],
   "id": "401e55e451faa1eb",
   "outputs": [],
   "execution_count": 143
  },
  {
   "metadata": {
    "ExecuteTime": {
     "end_time": "2025-05-17T20:33:58.660716Z",
     "start_time": "2025-05-17T20:33:58.632729Z"
    }
   },
   "cell_type": "code",
   "source": "df",
   "id": "c9b8e7c9452bac47",
   "outputs": [
    {
     "data": {
      "text/plain": [
       "                                  price_close  volume_traded     lag_1  \\\n",
       "time                                                                     \n",
       "2015-01-15 23:58:02+00:00              204.22       0.800000    224.00   \n",
       "2015-01-16 00:59:27+00:00              204.19       1.310000    204.22   \n",
       "2015-01-16 01:49:45+00:00              203.00       0.810000    204.19   \n",
       "2015-01-16 03:41:30+00:00              189.00       0.020000    203.00   \n",
       "2015-01-16 03:41:30+00:00              189.00       0.020000    189.00   \n",
       "...                                       ...            ...       ...   \n",
       "2025-02-25 19:59:59.951345+00:00     87825.05    2246.495099  86956.07   \n",
       "2025-02-25 21:00:00.913653+00:00     88044.47    4465.769490  87825.05   \n",
       "2025-02-25 21:59:59.963187+00:00     88706.81     738.370351  88044.47   \n",
       "2025-02-25 22:59:59.273248+00:00     88740.03     853.867619  88706.81   \n",
       "2025-02-25 23:02:51.849951+00:00     88677.45      53.644296  88740.03   \n",
       "\n",
       "                                     lag_2     lag_3     lag_4     lag_5  \\\n",
       "time                                                                       \n",
       "2015-01-15 23:58:02+00:00           150.00    150.00    150.00    150.00   \n",
       "2015-01-16 00:59:27+00:00           224.00    150.00    150.00    150.00   \n",
       "2015-01-16 01:49:45+00:00           204.22    224.00    150.00    150.00   \n",
       "2015-01-16 03:41:30+00:00           204.19    204.22    224.00    150.00   \n",
       "2015-01-16 03:41:30+00:00           203.00    204.19    204.22    224.00   \n",
       "...                                    ...       ...       ...       ...   \n",
       "2025-02-25 19:59:59.951345+00:00  87131.17  87351.80  87135.38  87083.80   \n",
       "2025-02-25 21:00:00.913653+00:00  86956.07  87131.17  87351.80  87135.38   \n",
       "2025-02-25 21:59:59.963187+00:00  87825.05  86956.07  87131.17  87351.80   \n",
       "2025-02-25 22:59:59.273248+00:00  88044.47  87825.05  86956.07  87131.17   \n",
       "2025-02-25 23:02:51.849951+00:00  88706.81  88044.47  87825.05  86956.07   \n",
       "\n",
       "                                     lag_6     lag_7     lag_8  ...  \\\n",
       "time                                                            ...   \n",
       "2015-01-15 23:58:02+00:00           150.00    150.00    150.00  ...   \n",
       "2015-01-16 00:59:27+00:00           150.00    150.00    150.00  ...   \n",
       "2015-01-16 01:49:45+00:00           150.00    150.00    150.00  ...   \n",
       "2015-01-16 03:41:30+00:00           150.00    150.00    150.00  ...   \n",
       "2015-01-16 03:41:30+00:00           150.00    150.00    150.00  ...   \n",
       "...                                    ...       ...       ...  ...   \n",
       "2025-02-25 19:59:59.951345+00:00  88785.77  89374.50  89219.91  ...   \n",
       "2025-02-25 21:00:00.913653+00:00  87083.80  88785.77  89374.50  ...   \n",
       "2025-02-25 21:59:59.963187+00:00  87135.38  87083.80  88785.77  ...   \n",
       "2025-02-25 22:59:59.273248+00:00  87351.80  87135.38  87083.80  ...   \n",
       "2025-02-25 23:02:51.849951+00:00  87131.17  87351.80  87135.38  ...   \n",
       "\n",
       "                                  ret_lag_19  ret_lag_20  ret_lag_21  \\\n",
       "time                                                                   \n",
       "2015-01-15 23:58:02+00:00           0.000000    0.000000    0.000000   \n",
       "2015-01-16 00:59:27+00:00           0.470004    0.000000    0.000000   \n",
       "2015-01-16 01:49:45+00:00           0.000000    0.470004    0.000000   \n",
       "2015-01-16 03:41:30+00:00          -0.246860    0.000000    0.470004   \n",
       "2015-01-16 03:41:30+00:00           0.000000   -0.246860    0.000000   \n",
       "...                                      ...         ...         ...   \n",
       "2025-02-25 19:59:59.951345+00:00    0.003711   -0.009974   -0.016406   \n",
       "2025-02-25 21:00:00.913653+00:00    0.001880    0.003711   -0.009974   \n",
       "2025-02-25 21:59:59.963187+00:00    0.003685    0.001880    0.003711   \n",
       "2025-02-25 22:59:59.273248+00:00   -0.002203    0.003685    0.001880   \n",
       "2025-02-25 23:02:51.849951+00:00   -0.002893   -0.002203    0.003685   \n",
       "\n",
       "                                  ret_lag_22  ret_lag_23  ret_lag_24  \\\n",
       "time                                                                   \n",
       "2015-01-15 23:58:02+00:00           0.000000   -0.438255    0.000484   \n",
       "2015-01-16 00:59:27+00:00           0.000000    0.000000   -0.438255   \n",
       "2015-01-16 01:49:45+00:00           0.000000    0.000000    0.000000   \n",
       "2015-01-16 03:41:30+00:00           0.000000    0.000000    0.000000   \n",
       "2015-01-16 03:41:30+00:00           0.470004    0.000000    0.000000   \n",
       "...                                      ...         ...         ...   \n",
       "2025-02-25 19:59:59.951345+00:00   -0.000098    0.001100   -0.003214   \n",
       "2025-02-25 21:00:00.913653+00:00   -0.016406   -0.000098    0.001100   \n",
       "2025-02-25 21:59:59.963187+00:00   -0.009974   -0.016406   -0.000098   \n",
       "2025-02-25 22:59:59.273248+00:00    0.003711   -0.009974   -0.016406   \n",
       "2025-02-25 23:02:51.849951+00:00    0.001880    0.003711   -0.009974   \n",
       "\n",
       "                                  rolling_mean_24  rolling_std_24  \\\n",
       "time                                                                \n",
       "2015-01-15 23:58:02+00:00              152.592500       26.607046   \n",
       "2015-01-16 00:59:27+00:00              156.100417       27.652504   \n",
       "2015-01-16 01:49:45+00:00              159.558750       28.127421   \n",
       "2015-01-16 03:41:30+00:00              162.433750       27.425796   \n",
       "2015-01-16 03:41:30+00:00              165.308750       26.380804   \n",
       "...                                           ...             ...   \n",
       "2025-02-25 19:59:59.951345+00:00     90059.180833     2306.985608   \n",
       "2025-02-25 21:00:00.913653+00:00     89812.441667     2184.363974   \n",
       "2025-02-25 21:59:59.963187+00:00     89593.683750     2006.942237   \n",
       "2025-02-25 22:59:59.273248+00:00     89440.015000     1919.782357   \n",
       "2025-02-25 23:02:51.849951+00:00     89321.957917     1873.461705   \n",
       "\n",
       "                                  volume_lag_1  volume_change  \n",
       "time                                                           \n",
       "2015-01-15 23:58:02+00:00             0.165121       3.844940  \n",
       "2015-01-16 00:59:27+00:00             0.800000       0.637500  \n",
       "2015-01-16 01:49:45+00:00             1.310000      -0.381679  \n",
       "2015-01-16 03:41:30+00:00             0.810000      -0.975309  \n",
       "2015-01-16 03:41:30+00:00             0.020000       0.000000  \n",
       "...                                        ...            ...  \n",
       "2025-02-25 19:59:59.951345+00:00   1665.925963       0.348496  \n",
       "2025-02-25 21:00:00.913653+00:00   2246.495099       0.987883  \n",
       "2025-02-25 21:59:59.963187+00:00   4465.769490      -0.834660  \n",
       "2025-02-25 22:59:59.273248+00:00    738.370351       0.156422  \n",
       "2025-02-25 23:02:51.849951+00:00    853.867619      -0.937175  \n",
       "\n",
       "[87212 rows x 55 columns]"
      ],
      "text/html": [
       "<div>\n",
       "<style scoped>\n",
       "    .dataframe tbody tr th:only-of-type {\n",
       "        vertical-align: middle;\n",
       "    }\n",
       "\n",
       "    .dataframe tbody tr th {\n",
       "        vertical-align: top;\n",
       "    }\n",
       "\n",
       "    .dataframe thead th {\n",
       "        text-align: right;\n",
       "    }\n",
       "</style>\n",
       "<table border=\"1\" class=\"dataframe\">\n",
       "  <thead>\n",
       "    <tr style=\"text-align: right;\">\n",
       "      <th></th>\n",
       "      <th>price_close</th>\n",
       "      <th>volume_traded</th>\n",
       "      <th>lag_1</th>\n",
       "      <th>lag_2</th>\n",
       "      <th>lag_3</th>\n",
       "      <th>lag_4</th>\n",
       "      <th>lag_5</th>\n",
       "      <th>lag_6</th>\n",
       "      <th>lag_7</th>\n",
       "      <th>lag_8</th>\n",
       "      <th>...</th>\n",
       "      <th>ret_lag_19</th>\n",
       "      <th>ret_lag_20</th>\n",
       "      <th>ret_lag_21</th>\n",
       "      <th>ret_lag_22</th>\n",
       "      <th>ret_lag_23</th>\n",
       "      <th>ret_lag_24</th>\n",
       "      <th>rolling_mean_24</th>\n",
       "      <th>rolling_std_24</th>\n",
       "      <th>volume_lag_1</th>\n",
       "      <th>volume_change</th>\n",
       "    </tr>\n",
       "    <tr>\n",
       "      <th>time</th>\n",
       "      <th></th>\n",
       "      <th></th>\n",
       "      <th></th>\n",
       "      <th></th>\n",
       "      <th></th>\n",
       "      <th></th>\n",
       "      <th></th>\n",
       "      <th></th>\n",
       "      <th></th>\n",
       "      <th></th>\n",
       "      <th></th>\n",
       "      <th></th>\n",
       "      <th></th>\n",
       "      <th></th>\n",
       "      <th></th>\n",
       "      <th></th>\n",
       "      <th></th>\n",
       "      <th></th>\n",
       "      <th></th>\n",
       "      <th></th>\n",
       "      <th></th>\n",
       "    </tr>\n",
       "  </thead>\n",
       "  <tbody>\n",
       "    <tr>\n",
       "      <th>2015-01-15 23:58:02+00:00</th>\n",
       "      <td>204.22</td>\n",
       "      <td>0.800000</td>\n",
       "      <td>224.00</td>\n",
       "      <td>150.00</td>\n",
       "      <td>150.00</td>\n",
       "      <td>150.00</td>\n",
       "      <td>150.00</td>\n",
       "      <td>150.00</td>\n",
       "      <td>150.00</td>\n",
       "      <td>150.00</td>\n",
       "      <td>...</td>\n",
       "      <td>0.000000</td>\n",
       "      <td>0.000000</td>\n",
       "      <td>0.000000</td>\n",
       "      <td>0.000000</td>\n",
       "      <td>-0.438255</td>\n",
       "      <td>0.000484</td>\n",
       "      <td>152.592500</td>\n",
       "      <td>26.607046</td>\n",
       "      <td>0.165121</td>\n",
       "      <td>3.844940</td>\n",
       "    </tr>\n",
       "    <tr>\n",
       "      <th>2015-01-16 00:59:27+00:00</th>\n",
       "      <td>204.19</td>\n",
       "      <td>1.310000</td>\n",
       "      <td>204.22</td>\n",
       "      <td>224.00</td>\n",
       "      <td>150.00</td>\n",
       "      <td>150.00</td>\n",
       "      <td>150.00</td>\n",
       "      <td>150.00</td>\n",
       "      <td>150.00</td>\n",
       "      <td>150.00</td>\n",
       "      <td>...</td>\n",
       "      <td>0.470004</td>\n",
       "      <td>0.000000</td>\n",
       "      <td>0.000000</td>\n",
       "      <td>0.000000</td>\n",
       "      <td>0.000000</td>\n",
       "      <td>-0.438255</td>\n",
       "      <td>156.100417</td>\n",
       "      <td>27.652504</td>\n",
       "      <td>0.800000</td>\n",
       "      <td>0.637500</td>\n",
       "    </tr>\n",
       "    <tr>\n",
       "      <th>2015-01-16 01:49:45+00:00</th>\n",
       "      <td>203.00</td>\n",
       "      <td>0.810000</td>\n",
       "      <td>204.19</td>\n",
       "      <td>204.22</td>\n",
       "      <td>224.00</td>\n",
       "      <td>150.00</td>\n",
       "      <td>150.00</td>\n",
       "      <td>150.00</td>\n",
       "      <td>150.00</td>\n",
       "      <td>150.00</td>\n",
       "      <td>...</td>\n",
       "      <td>0.000000</td>\n",
       "      <td>0.470004</td>\n",
       "      <td>0.000000</td>\n",
       "      <td>0.000000</td>\n",
       "      <td>0.000000</td>\n",
       "      <td>0.000000</td>\n",
       "      <td>159.558750</td>\n",
       "      <td>28.127421</td>\n",
       "      <td>1.310000</td>\n",
       "      <td>-0.381679</td>\n",
       "    </tr>\n",
       "    <tr>\n",
       "      <th>2015-01-16 03:41:30+00:00</th>\n",
       "      <td>189.00</td>\n",
       "      <td>0.020000</td>\n",
       "      <td>203.00</td>\n",
       "      <td>204.19</td>\n",
       "      <td>204.22</td>\n",
       "      <td>224.00</td>\n",
       "      <td>150.00</td>\n",
       "      <td>150.00</td>\n",
       "      <td>150.00</td>\n",
       "      <td>150.00</td>\n",
       "      <td>...</td>\n",
       "      <td>-0.246860</td>\n",
       "      <td>0.000000</td>\n",
       "      <td>0.470004</td>\n",
       "      <td>0.000000</td>\n",
       "      <td>0.000000</td>\n",
       "      <td>0.000000</td>\n",
       "      <td>162.433750</td>\n",
       "      <td>27.425796</td>\n",
       "      <td>0.810000</td>\n",
       "      <td>-0.975309</td>\n",
       "    </tr>\n",
       "    <tr>\n",
       "      <th>2015-01-16 03:41:30+00:00</th>\n",
       "      <td>189.00</td>\n",
       "      <td>0.020000</td>\n",
       "      <td>189.00</td>\n",
       "      <td>203.00</td>\n",
       "      <td>204.19</td>\n",
       "      <td>204.22</td>\n",
       "      <td>224.00</td>\n",
       "      <td>150.00</td>\n",
       "      <td>150.00</td>\n",
       "      <td>150.00</td>\n",
       "      <td>...</td>\n",
       "      <td>0.000000</td>\n",
       "      <td>-0.246860</td>\n",
       "      <td>0.000000</td>\n",
       "      <td>0.470004</td>\n",
       "      <td>0.000000</td>\n",
       "      <td>0.000000</td>\n",
       "      <td>165.308750</td>\n",
       "      <td>26.380804</td>\n",
       "      <td>0.020000</td>\n",
       "      <td>0.000000</td>\n",
       "    </tr>\n",
       "    <tr>\n",
       "      <th>...</th>\n",
       "      <td>...</td>\n",
       "      <td>...</td>\n",
       "      <td>...</td>\n",
       "      <td>...</td>\n",
       "      <td>...</td>\n",
       "      <td>...</td>\n",
       "      <td>...</td>\n",
       "      <td>...</td>\n",
       "      <td>...</td>\n",
       "      <td>...</td>\n",
       "      <td>...</td>\n",
       "      <td>...</td>\n",
       "      <td>...</td>\n",
       "      <td>...</td>\n",
       "      <td>...</td>\n",
       "      <td>...</td>\n",
       "      <td>...</td>\n",
       "      <td>...</td>\n",
       "      <td>...</td>\n",
       "      <td>...</td>\n",
       "      <td>...</td>\n",
       "    </tr>\n",
       "    <tr>\n",
       "      <th>2025-02-25 19:59:59.951345+00:00</th>\n",
       "      <td>87825.05</td>\n",
       "      <td>2246.495099</td>\n",
       "      <td>86956.07</td>\n",
       "      <td>87131.17</td>\n",
       "      <td>87351.80</td>\n",
       "      <td>87135.38</td>\n",
       "      <td>87083.80</td>\n",
       "      <td>88785.77</td>\n",
       "      <td>89374.50</td>\n",
       "      <td>89219.91</td>\n",
       "      <td>...</td>\n",
       "      <td>0.003711</td>\n",
       "      <td>-0.009974</td>\n",
       "      <td>-0.016406</td>\n",
       "      <td>-0.000098</td>\n",
       "      <td>0.001100</td>\n",
       "      <td>-0.003214</td>\n",
       "      <td>90059.180833</td>\n",
       "      <td>2306.985608</td>\n",
       "      <td>1665.925963</td>\n",
       "      <td>0.348496</td>\n",
       "    </tr>\n",
       "    <tr>\n",
       "      <th>2025-02-25 21:00:00.913653+00:00</th>\n",
       "      <td>88044.47</td>\n",
       "      <td>4465.769490</td>\n",
       "      <td>87825.05</td>\n",
       "      <td>86956.07</td>\n",
       "      <td>87131.17</td>\n",
       "      <td>87351.80</td>\n",
       "      <td>87135.38</td>\n",
       "      <td>87083.80</td>\n",
       "      <td>88785.77</td>\n",
       "      <td>89374.50</td>\n",
       "      <td>...</td>\n",
       "      <td>0.001880</td>\n",
       "      <td>0.003711</td>\n",
       "      <td>-0.009974</td>\n",
       "      <td>-0.016406</td>\n",
       "      <td>-0.000098</td>\n",
       "      <td>0.001100</td>\n",
       "      <td>89812.441667</td>\n",
       "      <td>2184.363974</td>\n",
       "      <td>2246.495099</td>\n",
       "      <td>0.987883</td>\n",
       "    </tr>\n",
       "    <tr>\n",
       "      <th>2025-02-25 21:59:59.963187+00:00</th>\n",
       "      <td>88706.81</td>\n",
       "      <td>738.370351</td>\n",
       "      <td>88044.47</td>\n",
       "      <td>87825.05</td>\n",
       "      <td>86956.07</td>\n",
       "      <td>87131.17</td>\n",
       "      <td>87351.80</td>\n",
       "      <td>87135.38</td>\n",
       "      <td>87083.80</td>\n",
       "      <td>88785.77</td>\n",
       "      <td>...</td>\n",
       "      <td>0.003685</td>\n",
       "      <td>0.001880</td>\n",
       "      <td>0.003711</td>\n",
       "      <td>-0.009974</td>\n",
       "      <td>-0.016406</td>\n",
       "      <td>-0.000098</td>\n",
       "      <td>89593.683750</td>\n",
       "      <td>2006.942237</td>\n",
       "      <td>4465.769490</td>\n",
       "      <td>-0.834660</td>\n",
       "    </tr>\n",
       "    <tr>\n",
       "      <th>2025-02-25 22:59:59.273248+00:00</th>\n",
       "      <td>88740.03</td>\n",
       "      <td>853.867619</td>\n",
       "      <td>88706.81</td>\n",
       "      <td>88044.47</td>\n",
       "      <td>87825.05</td>\n",
       "      <td>86956.07</td>\n",
       "      <td>87131.17</td>\n",
       "      <td>87351.80</td>\n",
       "      <td>87135.38</td>\n",
       "      <td>87083.80</td>\n",
       "      <td>...</td>\n",
       "      <td>-0.002203</td>\n",
       "      <td>0.003685</td>\n",
       "      <td>0.001880</td>\n",
       "      <td>0.003711</td>\n",
       "      <td>-0.009974</td>\n",
       "      <td>-0.016406</td>\n",
       "      <td>89440.015000</td>\n",
       "      <td>1919.782357</td>\n",
       "      <td>738.370351</td>\n",
       "      <td>0.156422</td>\n",
       "    </tr>\n",
       "    <tr>\n",
       "      <th>2025-02-25 23:02:51.849951+00:00</th>\n",
       "      <td>88677.45</td>\n",
       "      <td>53.644296</td>\n",
       "      <td>88740.03</td>\n",
       "      <td>88706.81</td>\n",
       "      <td>88044.47</td>\n",
       "      <td>87825.05</td>\n",
       "      <td>86956.07</td>\n",
       "      <td>87131.17</td>\n",
       "      <td>87351.80</td>\n",
       "      <td>87135.38</td>\n",
       "      <td>...</td>\n",
       "      <td>-0.002893</td>\n",
       "      <td>-0.002203</td>\n",
       "      <td>0.003685</td>\n",
       "      <td>0.001880</td>\n",
       "      <td>0.003711</td>\n",
       "      <td>-0.009974</td>\n",
       "      <td>89321.957917</td>\n",
       "      <td>1873.461705</td>\n",
       "      <td>853.867619</td>\n",
       "      <td>-0.937175</td>\n",
       "    </tr>\n",
       "  </tbody>\n",
       "</table>\n",
       "<p>87212 rows × 55 columns</p>\n",
       "</div>"
      ]
     },
     "execution_count": 144,
     "metadata": {},
     "output_type": "execute_result"
    }
   ],
   "execution_count": 144
  },
  {
   "metadata": {
    "ExecuteTime": {
     "end_time": "2025-05-17T23:10:24.991640Z",
     "start_time": "2025-05-17T23:10:24.258286Z"
    }
   },
   "cell_type": "code",
   "source": [
    "X = df.drop('price_close', axis=1)\n",
    "y = df['price_close'].shift(-1)  # target is next hour's price\n",
    "df.dropna(inplace=True)\n",
    "\n",
    "X_train, X_test, y_train, y_test = train_test_split(X, y, shuffle=False, test_size=0.2)\n",
    "\n",
    "\n",
    "# Remove NaNs from X_train\n",
    "X_train = X_train.dropna()\n",
    "\n",
    "# Align y_train with cleaned X_train\n",
    "y_train = y_train.loc[X_train.index]\n",
    "\n",
    "# Drop any NaNs in y_train and re-align X_train\n",
    "y_train = y_train.dropna()\n",
    "X_train = X_train.loc[y_train.index]"
   ],
   "id": "902f4370361533b2",
   "outputs": [],
   "execution_count": 167
  },
  {
   "metadata": {
    "ExecuteTime": {
     "end_time": "2025-05-17T20:35:43.533126Z",
     "start_time": "2025-05-17T20:35:43.486971Z"
    }
   },
   "cell_type": "code",
   "source": [
    "# Step 1: Remove duplicates in index\n",
    "X_train = X_train[~X_train.index.duplicated(keep='first')]\n",
    "y_train = y_train[~y_train.index.duplicated(keep='first')]"
   ],
   "id": "e1a9c0e495a69e7c",
   "outputs": [],
   "execution_count": 155
  },
  {
   "metadata": {
    "ExecuteTime": {
     "end_time": "2025-05-17T20:35:49.467141Z",
     "start_time": "2025-05-17T20:35:49.452262Z"
    }
   },
   "cell_type": "code",
   "source": [
    "X_test = X_test[~X_test.index.duplicated(keep='first')]\n",
    "y_test = y_test[~y_test.index.duplicated(keep='first')]"
   ],
   "id": "94566fcf4765874d",
   "outputs": [],
   "execution_count": 156
  },
  {
   "metadata": {
    "ExecuteTime": {
     "end_time": "2025-05-17T20:35:56.642604Z",
     "start_time": "2025-05-17T20:35:56.579375Z"
    }
   },
   "cell_type": "code",
   "source": [
    "# Train set\n",
    "train_df = X_train.copy()\n",
    "train_df['target'] = y_train\n",
    "train_df.dropna(inplace=True)\n",
    "X_train = train_df.drop('target', axis=1)\n",
    "y_train = train_df['target']\n",
    "\n",
    "# Test set\n",
    "test_df = X_test.copy()\n",
    "test_df['target'] = y_test\n",
    "test_df.dropna(inplace=True)\n",
    "X_test = test_df.drop('target', axis=1)\n",
    "y_test = test_df['target']"
   ],
   "id": "b93060d910404cd8",
   "outputs": [],
   "execution_count": 157
  },
  {
   "metadata": {
    "ExecuteTime": {
     "end_time": "2025-05-17T20:41:03.596934Z",
     "start_time": "2025-05-17T20:36:00.754239Z"
    }
   },
   "cell_type": "code",
   "source": [
    "from sklearn.model_selection import GridSearchCV\n",
    "\n",
    "param_grid = {\n",
    "    'n_estimators': [100, 200],\n",
    "    'min_samples_split': [2, 5],\n",
    "    'min_samples_leaf': [1, 2],\n",
    "    'max_features': ['sqrt', 'log2'],\n",
    "}\n",
    "\n",
    "grid_search = GridSearchCV(RandomForestRegressor(random_state=42, n_jobs = -1), param_grid, cv=3, scoring='neg_mean_squared_error')\n",
    "grid_search.fit(X_train, y_train)\n",
    "print(np.sqrt(-grid_search.best_score_))"
   ],
   "id": "e67209e8d4af9f87",
   "outputs": [
    {
     "name": "stdout",
     "output_type": "stream",
     "text": [
      "11521.08994599457\n"
     ]
    }
   ],
   "execution_count": 158
  },
  {
   "metadata": {
    "ExecuteTime": {
     "end_time": "2025-05-17T21:17:23.712543Z",
     "start_time": "2025-05-17T21:17:23.531575Z"
    }
   },
   "cell_type": "code",
   "source": [
    "rf_model = grid_search.best_estimator_\n",
    "rf_preds = rf_model.predict(X_test)\n",
    "\n",
    "rf_rmse = np.sqrt(mean_squared_error(y_test, rf_preds))\n",
    "\n",
    "print(f\"Random Forest RMSE: {rf_rmse:.2f}\")"
   ],
   "id": "cbc6ed2079abd0f8",
   "outputs": [
    {
     "name": "stdout",
     "output_type": "stream",
     "text": [
      "Random Forest RMSE: 12076.67\n"
     ]
    }
   ],
   "execution_count": 159
  },
  {
   "metadata": {
    "ExecuteTime": {
     "end_time": "2025-05-17T16:23:59.692966Z",
     "start_time": "2025-05-17T16:23:59.663252Z"
    }
   },
   "cell_type": "code",
   "source": [
    "y_naive = y_test.shift(1)\n",
    "valid_idx = y_naive.dropna().index  # keep only where lag exists\n",
    "y_naive = y_naive.loc[valid_idx]\n",
    "y_true_aligned = y_test.loc[valid_idx]\n",
    "\n",
    "naive_rmse = np.sqrt(mean_squared_error(y_true_aligned, y_naive))\n",
    "print(f\"Naive RMSE: {naive_rmse:.2f}\")"
   ],
   "id": "5742f9ac5b217a32",
   "outputs": [
    {
     "name": "stdout",
     "output_type": "stream",
     "text": [
      "Naive RMSE: 247.96\n"
     ]
    }
   ],
   "execution_count": 126
  },
  {
   "metadata": {
    "ExecuteTime": {
     "end_time": "2025-05-17T16:24:32.404019Z",
     "start_time": "2025-05-17T16:24:32.400840Z"
    }
   },
   "cell_type": "code",
   "source": "X.index.equals(y.index)  # should return True",
   "id": "aec4d074811acde0",
   "outputs": [
    {
     "data": {
      "text/plain": [
       "True"
      ]
     },
     "execution_count": 127,
     "metadata": {},
     "output_type": "execute_result"
    }
   ],
   "execution_count": 127
  },
  {
   "metadata": {
    "ExecuteTime": {
     "end_time": "2025-05-17T21:17:30.573362Z",
     "start_time": "2025-05-17T21:17:30.564261Z"
    }
   },
   "cell_type": "code",
   "source": [
    "from sklearn.metrics import median_absolute_error\n",
    "mae = median_absolute_error(y_test, rf_preds)\n",
    "print(f\"Random Forest MAE: {mae:.2f}\")"
   ],
   "id": "4c36ffe17d680d98",
   "outputs": [
    {
     "name": "stdout",
     "output_type": "stream",
     "text": [
      "Random Forest MAE: 282.87\n"
     ]
    }
   ],
   "execution_count": 160
  },
  {
   "metadata": {
    "ExecuteTime": {
     "end_time": "2025-05-17T21:17:32.621701Z",
     "start_time": "2025-05-17T21:17:32.503921Z"
    }
   },
   "cell_type": "code",
   "source": [
    "# Construct row with same columns as X_train, in same order\n",
    "latest_lags = latest['price_close'].values[::-1]\n",
    "volume = latest['volume_traded'].iloc[-1]\n",
    "\n",
    "# Build full feature row\n",
    "data_dict = {f'lag_{i+1}': latest_lags[i] for i in range(24)}\n",
    "data_dict['volume_traded'] = volume\n",
    "\n",
    "# Create DataFrame in correct column order\n",
    "features = pd.DataFrame([data_dict])[X_train.columns]"
   ],
   "id": "1b763d15e6da4bc1",
   "outputs": [
    {
     "ename": "KeyError",
     "evalue": "\"['log_ret', 'ret_lag_1', 'ret_lag_2', 'ret_lag_3', 'ret_lag_4', 'ret_lag_5', 'ret_lag_6', 'ret_lag_7', 'ret_lag_8', 'ret_lag_9', 'ret_lag_10', 'ret_lag_11', 'ret_lag_12', 'ret_lag_13', 'ret_lag_14', 'ret_lag_15', 'ret_lag_16', 'ret_lag_17', 'ret_lag_18', 'ret_lag_19', 'ret_lag_20', 'ret_lag_21', 'ret_lag_22', 'ret_lag_23', 'ret_lag_24', 'rolling_mean_24', 'rolling_std_24', 'volume_lag_1', 'volume_change'] not in index\"",
     "output_type": "error",
     "traceback": [
      "\u001B[0;31m---------------------------------------------------------------------------\u001B[0m",
      "\u001B[0;31mKeyError\u001B[0m                                  Traceback (most recent call last)",
      "Cell \u001B[0;32mIn[161], line 10\u001B[0m\n\u001B[1;32m      7\u001B[0m data_dict[\u001B[38;5;124m'\u001B[39m\u001B[38;5;124mvolume_traded\u001B[39m\u001B[38;5;124m'\u001B[39m] \u001B[38;5;241m=\u001B[39m volume\n\u001B[1;32m      9\u001B[0m \u001B[38;5;66;03m# Create DataFrame in correct column order\u001B[39;00m\n\u001B[0;32m---> 10\u001B[0m features \u001B[38;5;241m=\u001B[39m \u001B[43mpd\u001B[49m\u001B[38;5;241;43m.\u001B[39;49m\u001B[43mDataFrame\u001B[49m\u001B[43m(\u001B[49m\u001B[43m[\u001B[49m\u001B[43mdata_dict\u001B[49m\u001B[43m]\u001B[49m\u001B[43m)\u001B[49m\u001B[43m[\u001B[49m\u001B[43mX_train\u001B[49m\u001B[38;5;241;43m.\u001B[39;49m\u001B[43mcolumns\u001B[49m\u001B[43m]\u001B[49m\n",
      "File \u001B[0;32m/opt/anaconda3/lib/python3.12/site-packages/pandas/core/frame.py:4108\u001B[0m, in \u001B[0;36mDataFrame.__getitem__\u001B[0;34m(self, key)\u001B[0m\n\u001B[1;32m   4106\u001B[0m     \u001B[38;5;28;01mif\u001B[39;00m is_iterator(key):\n\u001B[1;32m   4107\u001B[0m         key \u001B[38;5;241m=\u001B[39m \u001B[38;5;28mlist\u001B[39m(key)\n\u001B[0;32m-> 4108\u001B[0m     indexer \u001B[38;5;241m=\u001B[39m \u001B[38;5;28;43mself\u001B[39;49m\u001B[38;5;241;43m.\u001B[39;49m\u001B[43mcolumns\u001B[49m\u001B[38;5;241;43m.\u001B[39;49m\u001B[43m_get_indexer_strict\u001B[49m\u001B[43m(\u001B[49m\u001B[43mkey\u001B[49m\u001B[43m,\u001B[49m\u001B[43m \u001B[49m\u001B[38;5;124;43m\"\u001B[39;49m\u001B[38;5;124;43mcolumns\u001B[39;49m\u001B[38;5;124;43m\"\u001B[39;49m\u001B[43m)\u001B[49m[\u001B[38;5;241m1\u001B[39m]\n\u001B[1;32m   4110\u001B[0m \u001B[38;5;66;03m# take() does not accept boolean indexers\u001B[39;00m\n\u001B[1;32m   4111\u001B[0m \u001B[38;5;28;01mif\u001B[39;00m \u001B[38;5;28mgetattr\u001B[39m(indexer, \u001B[38;5;124m\"\u001B[39m\u001B[38;5;124mdtype\u001B[39m\u001B[38;5;124m\"\u001B[39m, \u001B[38;5;28;01mNone\u001B[39;00m) \u001B[38;5;241m==\u001B[39m \u001B[38;5;28mbool\u001B[39m:\n",
      "File \u001B[0;32m/opt/anaconda3/lib/python3.12/site-packages/pandas/core/indexes/base.py:6200\u001B[0m, in \u001B[0;36mIndex._get_indexer_strict\u001B[0;34m(self, key, axis_name)\u001B[0m\n\u001B[1;32m   6197\u001B[0m \u001B[38;5;28;01melse\u001B[39;00m:\n\u001B[1;32m   6198\u001B[0m     keyarr, indexer, new_indexer \u001B[38;5;241m=\u001B[39m \u001B[38;5;28mself\u001B[39m\u001B[38;5;241m.\u001B[39m_reindex_non_unique(keyarr)\n\u001B[0;32m-> 6200\u001B[0m \u001B[38;5;28;43mself\u001B[39;49m\u001B[38;5;241;43m.\u001B[39;49m\u001B[43m_raise_if_missing\u001B[49m\u001B[43m(\u001B[49m\u001B[43mkeyarr\u001B[49m\u001B[43m,\u001B[49m\u001B[43m \u001B[49m\u001B[43mindexer\u001B[49m\u001B[43m,\u001B[49m\u001B[43m \u001B[49m\u001B[43maxis_name\u001B[49m\u001B[43m)\u001B[49m\n\u001B[1;32m   6202\u001B[0m keyarr \u001B[38;5;241m=\u001B[39m \u001B[38;5;28mself\u001B[39m\u001B[38;5;241m.\u001B[39mtake(indexer)\n\u001B[1;32m   6203\u001B[0m \u001B[38;5;28;01mif\u001B[39;00m \u001B[38;5;28misinstance\u001B[39m(key, Index):\n\u001B[1;32m   6204\u001B[0m     \u001B[38;5;66;03m# GH 42790 - Preserve name from an Index\u001B[39;00m\n",
      "File \u001B[0;32m/opt/anaconda3/lib/python3.12/site-packages/pandas/core/indexes/base.py:6252\u001B[0m, in \u001B[0;36mIndex._raise_if_missing\u001B[0;34m(self, key, indexer, axis_name)\u001B[0m\n\u001B[1;32m   6249\u001B[0m     \u001B[38;5;28;01mraise\u001B[39;00m \u001B[38;5;167;01mKeyError\u001B[39;00m(\u001B[38;5;124mf\u001B[39m\u001B[38;5;124m\"\u001B[39m\u001B[38;5;124mNone of [\u001B[39m\u001B[38;5;132;01m{\u001B[39;00mkey\u001B[38;5;132;01m}\u001B[39;00m\u001B[38;5;124m] are in the [\u001B[39m\u001B[38;5;132;01m{\u001B[39;00maxis_name\u001B[38;5;132;01m}\u001B[39;00m\u001B[38;5;124m]\u001B[39m\u001B[38;5;124m\"\u001B[39m)\n\u001B[1;32m   6251\u001B[0m not_found \u001B[38;5;241m=\u001B[39m \u001B[38;5;28mlist\u001B[39m(ensure_index(key)[missing_mask\u001B[38;5;241m.\u001B[39mnonzero()[\u001B[38;5;241m0\u001B[39m]]\u001B[38;5;241m.\u001B[39munique())\n\u001B[0;32m-> 6252\u001B[0m \u001B[38;5;28;01mraise\u001B[39;00m \u001B[38;5;167;01mKeyError\u001B[39;00m(\u001B[38;5;124mf\u001B[39m\u001B[38;5;124m\"\u001B[39m\u001B[38;5;132;01m{\u001B[39;00mnot_found\u001B[38;5;132;01m}\u001B[39;00m\u001B[38;5;124m not in index\u001B[39m\u001B[38;5;124m\"\u001B[39m)\n",
      "\u001B[0;31mKeyError\u001B[0m: \"['log_ret', 'ret_lag_1', 'ret_lag_2', 'ret_lag_3', 'ret_lag_4', 'ret_lag_5', 'ret_lag_6', 'ret_lag_7', 'ret_lag_8', 'ret_lag_9', 'ret_lag_10', 'ret_lag_11', 'ret_lag_12', 'ret_lag_13', 'ret_lag_14', 'ret_lag_15', 'ret_lag_16', 'ret_lag_17', 'ret_lag_18', 'ret_lag_19', 'ret_lag_20', 'ret_lag_21', 'ret_lag_22', 'ret_lag_23', 'ret_lag_24', 'rolling_mean_24', 'rolling_std_24', 'volume_lag_1', 'volume_change'] not in index\""
     ]
    }
   ],
   "execution_count": 161
  },
  {
   "metadata": {
    "ExecuteTime": {
     "end_time": "2025-05-17T21:17:35.124657Z",
     "start_time": "2025-05-17T21:17:34.999965Z"
    }
   },
   "cell_type": "code",
   "source": [
    "df['log_ret'] = np.log(df['price_close'] / df['price_close'].shift(1))\n",
    "df.dropna(inplace=True)"
   ],
   "id": "e8aca4014ea7fa6c",
   "outputs": [],
   "execution_count": 162
  },
  {
   "metadata": {
    "ExecuteTime": {
     "end_time": "2025-05-17T21:17:35.217328Z",
     "start_time": "2025-05-17T21:17:35.213441Z"
    }
   },
   "cell_type": "code",
   "source": [
    "import numpy as np\n",
    "import pandas as pd\n",
    "\n",
    "def classify_regime(ret):\n",
    "    x = np.random.randint(0,3)\n",
    "    if x == 0:\n",
    "        return 'bull'\n",
    "    elif x==  1:\n",
    "        return 'bear'\n",
    "    else:\n",
    "        return 'base'\n",
    "\n",
    "drift_params = {\n",
    "    'bull': {'mu': 0.001822, 'sigma': 0.008948},\n",
    "    'base': {'mu': 0.000055, 'sigma': 0.004940},\n",
    "    'bear': {'mu': -0.002072, 'sigma': 0.011645}\n",
    "}\n",
    "\n",
    "\n",
    "def sample_drift(regime):\n",
    "    p = drift_params[regime]\n",
    "    return np.random.normal(loc=p['mu'], scale=p['sigma'])"
   ],
   "id": "9b60dc068a0b51f9",
   "outputs": [],
   "execution_count": 163
  },
  {
   "metadata": {
    "ExecuteTime": {
     "end_time": "2025-05-17T21:17:35.581999Z",
     "start_time": "2025-05-17T21:17:35.575617Z"
    }
   },
   "cell_type": "code",
   "source": [
    "def long_horizon_drift_forecast_rf(df, model, steps=8760):\n",
    "    last_prices = df['price_close'].iloc[-24:].values[::-1]\n",
    "    volume = df['volume_traded'].iloc[-1]\n",
    "    feature_names = model.feature_names_in_\n",
    "\n",
    "    forecast = []\n",
    "    current_time = df.index[-1]\n",
    "\n",
    "    for step in range(steps):\n",
    "        features_dict = {f'lag_{i+1}': last_prices[i] for i in range(24)}\n",
    "        features_dict['volume_traded'] = volume\n",
    "        X_input = pd.DataFrame([features_dict])[feature_names]\n",
    "\n",
    "\n",
    "                # Keep model as main signal, drift as noise\n",
    "        pred_price = model.predict(X_input)[0]\n",
    "        current_price = last_prices[0]\n",
    "        predicted_return = (pred_price - current_price) / current_price\n",
    "        regime = classify_regime(predicted_return)\n",
    "        drift = sample_drift(regime)\n",
    "        drift = np.clip(drift, -0.01, 0.01)\n",
    "        next_price = pred_price * (1 + drift)  # Use model price as base\n",
    "        current_time += pd.Timedelta(hours=1)\n",
    "\n",
    "        forecast.append({\n",
    "            'timestamp': current_time,\n",
    "            'price': next_price,\n",
    "            'regime': regime,\n",
    "            'drift': drift\n",
    "        })\n",
    "\n",
    "        # Update lag memory\n",
    "        last_prices = np.roll(last_prices, 1)\n",
    "        last_prices[0] = next_price\n",
    "\n",
    "    return pd.DataFrame(forecast).set_index('timestamp')"
   ],
   "id": "66dcd9e1447ba0e5",
   "outputs": [],
   "execution_count": 164
  },
  {
   "metadata": {
    "ExecuteTime": {
     "end_time": "2025-05-17T21:17:36.097304Z",
     "start_time": "2025-05-17T21:17:36.064140Z"
    }
   },
   "cell_type": "code",
   "source": [
    "forecast_df = long_horizon_drift_forecast_rf(df, rf_model, steps=8760)\n",
    "print(forecast_df.head(1)[['price', 'regime', 'drift']])"
   ],
   "id": "5e63e684b186f7e5",
   "outputs": [
    {
     "ename": "KeyError",
     "evalue": "\"['log_ret', 'ret_lag_1', 'ret_lag_2', 'ret_lag_3', 'ret_lag_4', 'ret_lag_5', 'ret_lag_6', 'ret_lag_7', 'ret_lag_8', 'ret_lag_9', 'ret_lag_10', 'ret_lag_11', 'ret_lag_12', 'ret_lag_13', 'ret_lag_14', 'ret_lag_15', 'ret_lag_16', 'ret_lag_17', 'ret_lag_18', 'ret_lag_19', 'ret_lag_20', 'ret_lag_21', 'ret_lag_22', 'ret_lag_23', 'ret_lag_24', 'rolling_mean_24', 'rolling_std_24', 'volume_lag_1', 'volume_change'] not in index\"",
     "output_type": "error",
     "traceback": [
      "\u001B[0;31m---------------------------------------------------------------------------\u001B[0m",
      "\u001B[0;31mKeyError\u001B[0m                                  Traceback (most recent call last)",
      "Cell \u001B[0;32mIn[165], line 1\u001B[0m\n\u001B[0;32m----> 1\u001B[0m forecast_df \u001B[38;5;241m=\u001B[39m \u001B[43mlong_horizon_drift_forecast_rf\u001B[49m\u001B[43m(\u001B[49m\u001B[43mdf\u001B[49m\u001B[43m,\u001B[49m\u001B[43m \u001B[49m\u001B[43mrf_model\u001B[49m\u001B[43m,\u001B[49m\u001B[43m \u001B[49m\u001B[43msteps\u001B[49m\u001B[38;5;241;43m=\u001B[39;49m\u001B[38;5;241;43m8760\u001B[39;49m\u001B[43m)\u001B[49m\n\u001B[1;32m      2\u001B[0m \u001B[38;5;28mprint\u001B[39m(forecast_df\u001B[38;5;241m.\u001B[39mhead(\u001B[38;5;241m1\u001B[39m)[[\u001B[38;5;124m'\u001B[39m\u001B[38;5;124mprice\u001B[39m\u001B[38;5;124m'\u001B[39m, \u001B[38;5;124m'\u001B[39m\u001B[38;5;124mregime\u001B[39m\u001B[38;5;124m'\u001B[39m, \u001B[38;5;124m'\u001B[39m\u001B[38;5;124mdrift\u001B[39m\u001B[38;5;124m'\u001B[39m]])\n",
      "Cell \u001B[0;32mIn[164], line 12\u001B[0m, in \u001B[0;36mlong_horizon_drift_forecast_rf\u001B[0;34m(df, model, steps)\u001B[0m\n\u001B[1;32m     10\u001B[0m features_dict \u001B[38;5;241m=\u001B[39m {\u001B[38;5;124mf\u001B[39m\u001B[38;5;124m'\u001B[39m\u001B[38;5;124mlag_\u001B[39m\u001B[38;5;132;01m{\u001B[39;00mi\u001B[38;5;241m+\u001B[39m\u001B[38;5;241m1\u001B[39m\u001B[38;5;132;01m}\u001B[39;00m\u001B[38;5;124m'\u001B[39m: last_prices[i] \u001B[38;5;28;01mfor\u001B[39;00m i \u001B[38;5;129;01min\u001B[39;00m \u001B[38;5;28mrange\u001B[39m(\u001B[38;5;241m24\u001B[39m)}\n\u001B[1;32m     11\u001B[0m features_dict[\u001B[38;5;124m'\u001B[39m\u001B[38;5;124mvolume_traded\u001B[39m\u001B[38;5;124m'\u001B[39m] \u001B[38;5;241m=\u001B[39m volume\n\u001B[0;32m---> 12\u001B[0m X_input \u001B[38;5;241m=\u001B[39m \u001B[43mpd\u001B[49m\u001B[38;5;241;43m.\u001B[39;49m\u001B[43mDataFrame\u001B[49m\u001B[43m(\u001B[49m\u001B[43m[\u001B[49m\u001B[43mfeatures_dict\u001B[49m\u001B[43m]\u001B[49m\u001B[43m)\u001B[49m\u001B[43m[\u001B[49m\u001B[43mfeature_names\u001B[49m\u001B[43m]\u001B[49m\n\u001B[1;32m     15\u001B[0m         \u001B[38;5;66;03m# Keep model as main signal, drift as noise\u001B[39;00m\n\u001B[1;32m     16\u001B[0m pred_price \u001B[38;5;241m=\u001B[39m model\u001B[38;5;241m.\u001B[39mpredict(X_input)[\u001B[38;5;241m0\u001B[39m]\n",
      "File \u001B[0;32m/opt/anaconda3/lib/python3.12/site-packages/pandas/core/frame.py:4108\u001B[0m, in \u001B[0;36mDataFrame.__getitem__\u001B[0;34m(self, key)\u001B[0m\n\u001B[1;32m   4106\u001B[0m     \u001B[38;5;28;01mif\u001B[39;00m is_iterator(key):\n\u001B[1;32m   4107\u001B[0m         key \u001B[38;5;241m=\u001B[39m \u001B[38;5;28mlist\u001B[39m(key)\n\u001B[0;32m-> 4108\u001B[0m     indexer \u001B[38;5;241m=\u001B[39m \u001B[38;5;28;43mself\u001B[39;49m\u001B[38;5;241;43m.\u001B[39;49m\u001B[43mcolumns\u001B[49m\u001B[38;5;241;43m.\u001B[39;49m\u001B[43m_get_indexer_strict\u001B[49m\u001B[43m(\u001B[49m\u001B[43mkey\u001B[49m\u001B[43m,\u001B[49m\u001B[43m \u001B[49m\u001B[38;5;124;43m\"\u001B[39;49m\u001B[38;5;124;43mcolumns\u001B[39;49m\u001B[38;5;124;43m\"\u001B[39;49m\u001B[43m)\u001B[49m[\u001B[38;5;241m1\u001B[39m]\n\u001B[1;32m   4110\u001B[0m \u001B[38;5;66;03m# take() does not accept boolean indexers\u001B[39;00m\n\u001B[1;32m   4111\u001B[0m \u001B[38;5;28;01mif\u001B[39;00m \u001B[38;5;28mgetattr\u001B[39m(indexer, \u001B[38;5;124m\"\u001B[39m\u001B[38;5;124mdtype\u001B[39m\u001B[38;5;124m\"\u001B[39m, \u001B[38;5;28;01mNone\u001B[39;00m) \u001B[38;5;241m==\u001B[39m \u001B[38;5;28mbool\u001B[39m:\n",
      "File \u001B[0;32m/opt/anaconda3/lib/python3.12/site-packages/pandas/core/indexes/base.py:6200\u001B[0m, in \u001B[0;36mIndex._get_indexer_strict\u001B[0;34m(self, key, axis_name)\u001B[0m\n\u001B[1;32m   6197\u001B[0m \u001B[38;5;28;01melse\u001B[39;00m:\n\u001B[1;32m   6198\u001B[0m     keyarr, indexer, new_indexer \u001B[38;5;241m=\u001B[39m \u001B[38;5;28mself\u001B[39m\u001B[38;5;241m.\u001B[39m_reindex_non_unique(keyarr)\n\u001B[0;32m-> 6200\u001B[0m \u001B[38;5;28;43mself\u001B[39;49m\u001B[38;5;241;43m.\u001B[39;49m\u001B[43m_raise_if_missing\u001B[49m\u001B[43m(\u001B[49m\u001B[43mkeyarr\u001B[49m\u001B[43m,\u001B[49m\u001B[43m \u001B[49m\u001B[43mindexer\u001B[49m\u001B[43m,\u001B[49m\u001B[43m \u001B[49m\u001B[43maxis_name\u001B[49m\u001B[43m)\u001B[49m\n\u001B[1;32m   6202\u001B[0m keyarr \u001B[38;5;241m=\u001B[39m \u001B[38;5;28mself\u001B[39m\u001B[38;5;241m.\u001B[39mtake(indexer)\n\u001B[1;32m   6203\u001B[0m \u001B[38;5;28;01mif\u001B[39;00m \u001B[38;5;28misinstance\u001B[39m(key, Index):\n\u001B[1;32m   6204\u001B[0m     \u001B[38;5;66;03m# GH 42790 - Preserve name from an Index\u001B[39;00m\n",
      "File \u001B[0;32m/opt/anaconda3/lib/python3.12/site-packages/pandas/core/indexes/base.py:6252\u001B[0m, in \u001B[0;36mIndex._raise_if_missing\u001B[0;34m(self, key, indexer, axis_name)\u001B[0m\n\u001B[1;32m   6249\u001B[0m     \u001B[38;5;28;01mraise\u001B[39;00m \u001B[38;5;167;01mKeyError\u001B[39;00m(\u001B[38;5;124mf\u001B[39m\u001B[38;5;124m\"\u001B[39m\u001B[38;5;124mNone of [\u001B[39m\u001B[38;5;132;01m{\u001B[39;00mkey\u001B[38;5;132;01m}\u001B[39;00m\u001B[38;5;124m] are in the [\u001B[39m\u001B[38;5;132;01m{\u001B[39;00maxis_name\u001B[38;5;132;01m}\u001B[39;00m\u001B[38;5;124m]\u001B[39m\u001B[38;5;124m\"\u001B[39m)\n\u001B[1;32m   6251\u001B[0m not_found \u001B[38;5;241m=\u001B[39m \u001B[38;5;28mlist\u001B[39m(ensure_index(key)[missing_mask\u001B[38;5;241m.\u001B[39mnonzero()[\u001B[38;5;241m0\u001B[39m]]\u001B[38;5;241m.\u001B[39munique())\n\u001B[0;32m-> 6252\u001B[0m \u001B[38;5;28;01mraise\u001B[39;00m \u001B[38;5;167;01mKeyError\u001B[39;00m(\u001B[38;5;124mf\u001B[39m\u001B[38;5;124m\"\u001B[39m\u001B[38;5;132;01m{\u001B[39;00mnot_found\u001B[38;5;132;01m}\u001B[39;00m\u001B[38;5;124m not in index\u001B[39m\u001B[38;5;124m\"\u001B[39m)\n",
      "\u001B[0;31mKeyError\u001B[0m: \"['log_ret', 'ret_lag_1', 'ret_lag_2', 'ret_lag_3', 'ret_lag_4', 'ret_lag_5', 'ret_lag_6', 'ret_lag_7', 'ret_lag_8', 'ret_lag_9', 'ret_lag_10', 'ret_lag_11', 'ret_lag_12', 'ret_lag_13', 'ret_lag_14', 'ret_lag_15', 'ret_lag_16', 'ret_lag_17', 'ret_lag_18', 'ret_lag_19', 'ret_lag_20', 'ret_lag_21', 'ret_lag_22', 'ret_lag_23', 'ret_lag_24', 'rolling_mean_24', 'rolling_std_24', 'volume_lag_1', 'volume_change'] not in index\""
     ]
    }
   ],
   "execution_count": 165
  },
  {
   "metadata": {
    "ExecuteTime": {
     "end_time": "2025-05-17T21:17:38.750758Z",
     "start_time": "2025-05-17T21:17:37.064690Z"
    }
   },
   "cell_type": "code",
   "source": [
    "fig, ax = plt.subplots(figsize=(15, 5))\n",
    "forecast_df['price'].plot(ax=ax, label='BTC Price', color='black')\n",
    "\n",
    "# Plot only the 'bear' regime\n",
    "mask = forecast_df['regime'] == 'base'\n",
    "ax.fill_between(forecast_df.index,\n",
    "                forecast_df['price'],\n",
    "                where=mask,\n",
    "                alpha=0.15,\n",
    "                color='red',\n",
    "                label='Bear Regime')\n",
    "\n",
    "plt.legend()\n",
    "plt.title(\"Hourly BTC Forecast with Bear Regime Highlighted\")\n",
    "plt.grid(True)"
   ],
   "id": "4ef20fcf04cfd967",
   "outputs": [
    {
     "data": {
      "text/plain": [
       "<Figure size 1500x500 with 1 Axes>"
      ],
      "image/png": "[encoded data removed]"
     },
     "metadata": {},
     "output_type": "display_data"
    }
   ],
   "execution_count": 166
  },
  {
   "metadata": {},
   "cell_type": "code",
   "source": "",
   "id": "cc625b77e3c0cfbb",
   "outputs": [],
   "execution_count": null
  }
 ],
 "metadata": {
  "kernelspec": {
   "display_name": "Python 3",
   "language": "python",
   "name": "python3"
  },
  "language_info": {
   "codemirror_mode": {
    "name": "ipython",
    "version": 2
   },
   "file_extension": ".py",
   "mimetype": "text/x-python",
   "name": "python",
   "nbconvert_exporter": "python",
   "pygments_lexer": "ipython2",
   "version": "2.7.6"
  }
 },
 "nbformat": 4,
 "nbformat_minor": 5
}
